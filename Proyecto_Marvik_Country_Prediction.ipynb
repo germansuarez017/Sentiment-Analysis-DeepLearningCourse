{
  "nbformat": 4,
  "nbformat_minor": 0,
  "metadata": {
    "accelerator": "GPU",
    "colab": {
      "name": "Proyecto Marvik Country Prediction.ipynb",
      "provenance": [],
      "collapsed_sections": [],
      "authorship_tag": "ABX9TyPLUv/HUerSxNW19mqYvXnE",
      "include_colab_link": true
    },
    "kernelspec": {
      "display_name": "Python 3",
      "name": "python3"
    },
    "language_info": {
      "name": "python"
    }
  },
  "cells": [
    {
      "cell_type": "markdown",
      "metadata": {
        "id": "view-in-github",
        "colab_type": "text"
      },
      "source": [
        "<a href=\"https://colab.research.google.com/github/germansuarez017/Sentiment-Analysis-DeepLearningCourse/blob/main/Proyecto_Marvik_Country_Prediction.ipynb\" target=\"_parent\"><img src=\"https://colab.research.google.com/assets/colab-badge.svg\" alt=\"Open In Colab\"/></a>"
      ]
    },
    {
      "cell_type": "markdown",
      "metadata": {
        "id": "eD934LGNzC2F"
      },
      "source": [
        "# **Proyecto Marvick - Country Prediction**\n",
        "Para este proyecto utilizaremos tweets etiquetados provenientes de países hispanohablantes (Costa Rica, España, México, Perú, Puerto Rico y Uruguay) conseguidos de la página de TASS: Workshop on Semantic Analysis at SEPLN -http://tass.sepln.org/-.\n",
        "\n",
        "En la primer parte intentaremos predecir el sentimiento (Positivo o Negativo) de los tweets utilizando una red neuronal LSTM.\n",
        "Para la segunda parte del ejercicio nos concentraremos en predecir el país de origen de los tweets utilizando una red neuronal LSTM y aplicando SMOTE sampling"
      ]
    },
    {
      "cell_type": "code",
      "metadata": {
        "id": "P2LGFCRyczx0"
      },
      "source": [
        "# from google.colab import drive\n",
        "# drive.mount('/content/drive')"
      ],
      "execution_count": 1,
      "outputs": []
    },
    {
      "cell_type": "code",
      "metadata": {
        "colab": {
          "base_uri": "https://localhost:8080/"
        },
        "id": "2zyqJGkVHgJS",
        "outputId": "ab33c310-f73a-4a36-94ac-a6891415da1d"
      },
      "source": [
        "#upgrade library for plotting the confusion matrix\n",
        "%pip install mlxtend --upgrade"
      ],
      "execution_count": 2,
      "outputs": [
        {
          "output_type": "stream",
          "text": [
            "Requirement already satisfied: mlxtend in /usr/local/lib/python3.7/dist-packages (0.14.0)\n",
            "Collecting mlxtend\n",
            "  Downloading mlxtend-0.18.0-py2.py3-none-any.whl (1.3 MB)\n",
            "\u001b[K     |████████████████████████████████| 1.3 MB 6.8 MB/s \n",
            "\u001b[?25hRequirement already satisfied: matplotlib>=3.0.0 in /usr/local/lib/python3.7/dist-packages (from mlxtend) (3.2.2)\n",
            "Requirement already satisfied: setuptools in /usr/local/lib/python3.7/dist-packages (from mlxtend) (57.2.0)\n",
            "Requirement already satisfied: pandas>=0.24.2 in /usr/local/lib/python3.7/dist-packages (from mlxtend) (1.1.5)\n",
            "Requirement already satisfied: scipy>=1.2.1 in /usr/local/lib/python3.7/dist-packages (from mlxtend) (1.4.1)\n",
            "Requirement already satisfied: joblib>=0.13.2 in /usr/local/lib/python3.7/dist-packages (from mlxtend) (1.0.1)\n",
            "Requirement already satisfied: numpy>=1.16.2 in /usr/local/lib/python3.7/dist-packages (from mlxtend) (1.19.5)\n",
            "Requirement already satisfied: scikit-learn>=0.20.3 in /usr/local/lib/python3.7/dist-packages (from mlxtend) (0.22.2.post1)\n",
            "Requirement already satisfied: kiwisolver>=1.0.1 in /usr/local/lib/python3.7/dist-packages (from matplotlib>=3.0.0->mlxtend) (1.3.1)\n",
            "Requirement already satisfied: python-dateutil>=2.1 in /usr/local/lib/python3.7/dist-packages (from matplotlib>=3.0.0->mlxtend) (2.8.1)\n",
            "Requirement already satisfied: cycler>=0.10 in /usr/local/lib/python3.7/dist-packages (from matplotlib>=3.0.0->mlxtend) (0.10.0)\n",
            "Requirement already satisfied: pyparsing!=2.0.4,!=2.1.2,!=2.1.6,>=2.0.1 in /usr/local/lib/python3.7/dist-packages (from matplotlib>=3.0.0->mlxtend) (2.4.7)\n",
            "Requirement already satisfied: six in /usr/local/lib/python3.7/dist-packages (from cycler>=0.10->matplotlib>=3.0.0->mlxtend) (1.15.0)\n",
            "Requirement already satisfied: pytz>=2017.2 in /usr/local/lib/python3.7/dist-packages (from pandas>=0.24.2->mlxtend) (2018.9)\n",
            "Installing collected packages: mlxtend\n",
            "  Attempting uninstall: mlxtend\n",
            "    Found existing installation: mlxtend 0.14.0\n",
            "    Uninstalling mlxtend-0.14.0:\n",
            "      Successfully uninstalled mlxtend-0.14.0\n",
            "Successfully installed mlxtend-0.18.0\n"
          ],
          "name": "stdout"
        }
      ]
    },
    {
      "cell_type": "code",
      "metadata": {
        "colab": {
          "base_uri": "https://localhost:8080/"
        },
        "id": "lYHYGRnU4xdu",
        "outputId": "e2258e0a-ee9d-43fa-ccfd-b84f2622cbef"
      },
      "source": [
        "#clone github repository\n",
        "! git clone https://github.com/germansuarez017/Sentiment-Analysis-DeepLearningCourse.git"
      ],
      "execution_count": 3,
      "outputs": [
        {
          "output_type": "stream",
          "text": [
            "Cloning into 'Sentiment-Analysis-DeepLearningCourse'...\n",
            "remote: Enumerating objects: 38, done.\u001b[K\n",
            "remote: Counting objects: 100% (38/38), done.\u001b[K\n",
            "remote: Compressing objects: 100% (36/36), done.\u001b[K\n",
            "remote: Total 38 (delta 11), reused 0 (delta 0), pack-reused 0\u001b[K\n",
            "Unpacking objects: 100% (38/38), done.\n"
          ],
          "name": "stdout"
        }
      ]
    },
    {
      "cell_type": "markdown",
      "metadata": {
        "id": "otGVqTlhzeOs"
      },
      "source": [
        "# **Parte 1 - Armado de dataframe**\n",
        "\n",
        "Primero pasaremos los diferentes archivos XML a un dataframe de pandas donde podremos ver la etiqueta del sentimiento asociado y de que país proviene. En una segunda instancia, eliminaremos los tweets que no tienen etiqueta o si la misma es neutral quedándonos solo con los sentimientos positivos y negativos."
      ]
    },
    {
      "cell_type": "code",
      "metadata": {
        "id": "NsstNkOkKIvZ"
      },
      "source": [
        "#unzip files\n",
        "! unzip '/content/Sentiment-Analysis-DeepLearningCourse/XML_files.zip' > /dev/null"
      ],
      "execution_count": 4,
      "outputs": []
    },
    {
      "cell_type": "code",
      "metadata": {
        "id": "k2WveSforxbR"
      },
      "source": [
        "#function to replace spanish punctuations in order not to loose the letters afterwards\n",
        "def normalize(s):\n",
        "    replacements = (\n",
        "        ('á', 'a'),\n",
        "        ('é', 'e'),\n",
        "        ('í', 'i'),\n",
        "        ('ó', 'o'),\n",
        "        ('ú', 'u'),\n",
        "        ('ñ', 'n')\n",
        "    )\n",
        "    for a, b in replacements:\n",
        "        s = s.replace(a, b).replace(a.upper(), b.upper())\n",
        "    return s"
      ],
      "execution_count": 5,
      "outputs": []
    },
    {
      "cell_type": "code",
      "metadata": {
        "id": "YPOFf3GrclhC"
      },
      "source": [
        "import pandas as pd\n",
        "import numpy as np\n",
        "import re\n",
        "import os\n",
        "import glob\n",
        "# this library is needed to read XML files for converting it into CSV\n",
        "import xml.etree.ElementTree as ET\n",
        "import shutil\n",
        "import csv\n",
        "\n",
        "# Convert xml files into one CSV\n",
        "# Function that will extract column data for our CSV file\n",
        "# ET = Element tree is used to parse, navigate, explore and populate xml files\n",
        "def xml_to_csv(path):\n",
        "    '''\n",
        "    Creates a dataframe populated with the XML information\n",
        "    :param path: path to the folder containing the XML files\n",
        "    :return: a dataframe with the information from the XML files\n",
        "    '''\n",
        "    xml_list = []\n",
        "    dataset_type = ''\n",
        "    for xml_file in glob.glob(path + '/*.xml'):\n",
        "        \n",
        "        #checks what type of dataset is\n",
        "        if 'train' in xml_file:\n",
        "          dataset_type = 'train'\n",
        "        if 'test' in xml_file:\n",
        "          dataset_type = 'test'\n",
        "        if 'dev' in xml_file:\n",
        "          dataset_type = 'val'\n",
        "        \n",
        "        #checks country\n",
        "        country = xml_file[36:38]\n",
        "        \n",
        "        tree = ET.parse(xml_file)                           # Reads the xml file and initialize the tree\n",
        "        root = tree.getroot()\n",
        "        \n",
        "        for tweet in root.findall('tweet'):\n",
        "          value = (normalize(tweet.find('content').text),\n",
        "                   tweet.find('date').text,\n",
        "                   tweet.find('sentiment')[0][0].text,\n",
        "                   country,\n",
        "                   dataset_type)\n",
        "          xml_list.append(value)\n",
        "    column_name = ['tweet_unclean', 'date', 'sentiment', 'country', 'dataset_type']\n",
        "    xml_df = pd.DataFrame(xml_list, columns = column_name)\n",
        "    return xml_df"
      ],
      "execution_count": 6,
      "outputs": []
    },
    {
      "cell_type": "code",
      "metadata": {
        "id": "tCfJld3Cfiom"
      },
      "source": [
        "#converts xml files into csv\n",
        "path_xml = '/content/XML_files'\n",
        "df = xml_to_csv(path_xml)"
      ],
      "execution_count": 7,
      "outputs": []
    },
    {
      "cell_type": "code",
      "metadata": {
        "id": "rVtxogDSDRuK"
      },
      "source": [
        "#discard test tweets, they are untagged\n",
        "df = df[df.dataset_type != 'test']\n",
        "\n",
        "#lets stay with the tweets, sentiment and country\n",
        "df = df[['tweet_unclean', 'sentiment', 'country']]\n",
        "\n",
        "#discard NEU or NONE tags\n",
        "df = df[df.sentiment != 'NEU']\n",
        "df = df[df.sentiment != 'NONE']"
      ],
      "execution_count": 8,
      "outputs": []
    },
    {
      "cell_type": "code",
      "metadata": {
        "id": "jwG-xnDQlWMA"
      },
      "source": [
        "#converts dataframe to csv\n",
        "# path = '/content/Sentiment-Analysis-DeepLearningCourse'\n",
        "# df.to_csv(path + '/' + 'tweetslatinamerica.csv')"
      ],
      "execution_count": 9,
      "outputs": []
    },
    {
      "cell_type": "markdown",
      "metadata": {
        "id": "5jh8AHw61KXP"
      },
      "source": [
        "Viendo el gráfico debajo podemos concluir que el dataset está relativamente balanceado."
      ]
    },
    {
      "cell_type": "code",
      "metadata": {
        "colab": {
          "base_uri": "https://localhost:8080/",
          "height": 265
        },
        "id": "86uQtu3EDyB_",
        "outputId": "1b687f6b-87c2-4823-e4fa-618780a620e9"
      },
      "source": [
        "#check how many positive and negative tags are in the dataset\n",
        "ax = df['sentiment'].value_counts(sort=False).plot(kind='barh')"
      ],
      "execution_count": 10,
      "outputs": [
        {
          "output_type": "display_data",
          "data": {
            "image/png": "[encoded data removed]",
            "text/plain": [
              "<Figure size 432x288 with 1 Axes>"
            ]
          },
          "metadata": {
            "tags": [],
            "needs_background": "light"
          }
        }
      ]
    },
    {
      "cell_type": "markdown",
      "metadata": {
        "id": "xLVymj042G_v"
      },
      "source": [
        "# **Parte 2 - Limpieza de tweets**\n",
        "En esta parte limpiaremos los tweets de la siguiente manera:\n",
        "- Pasaremos todo a lowercase\n",
        "- Quitaremos punctuaciones y símbolos\n",
        "- Quitaremos las referencias a los retweets (rt)\n",
        "- Quitaremos las stopwords\n",
        "- Haremos un stemmering, intentando achicar el vocabulario total\n",
        "- Quitaremos todos los caractéres que no sean alfabéticos\n",
        "\n",
        "Luego utilizaremos CountVectorizer de ScikitLearn para contar cuantas palabras tiene el dataset y obtener las más utilizadas."
      ]
    },
    {
      "cell_type": "code",
      "metadata": {
        "colab": {
          "base_uri": "https://localhost:8080/"
        },
        "id": "a-iY5c9Abrmv",
        "outputId": "2d7a542c-bf66-4f12-f8f7-705c596cb0f4"
      },
      "source": [
        "#nltk librería de análisis de lenguaje\n",
        "import nltk\n",
        "from nltk.corpus import stopwords\n",
        "from nltk.stem import SnowballStemmer\n",
        "stemmer = SnowballStemmer('spanish')\n",
        "\n",
        "#imports spanish stopwords\n",
        "nltk.download('stopwords')\n",
        "stopwords = set(stopwords.words('spanish'))\n",
        "\n",
        "#function to clean tweets\n",
        "def clean_tweets(tweet):\n",
        "  #lowercase\n",
        "  tweet = tweet.lower()\n",
        "  #removes punctiations\n",
        "  tweet = re.sub(r'[^a-zA-Z0-9]', ' ', tweet)\n",
        "  #delete retweets references\n",
        "  tweet = tweet.replace(' rt ', '')\n",
        "  #remove stopwords\n",
        "  tweet = [word for word in tweet.split(sep = ' ') if word not in stopwords]\n",
        "  #stemming words\n",
        "  tweet = [stemmer.stem(word) for word in tweet]\n",
        "  #stay with alphanumeric characters\n",
        "  tweet = [word for word in tweet if word.isalpha()]\n",
        "\n",
        "  return ' '.join(tweet)"
      ],
      "execution_count": 11,
      "outputs": [
        {
          "output_type": "stream",
          "text": [
            "[nltk_data] Downloading package stopwords to /root/nltk_data...\n",
            "[nltk_data]   Unzipping corpora/stopwords.zip.\n"
          ],
          "name": "stdout"
        }
      ]
    },
    {
      "cell_type": "code",
      "metadata": {
        "id": "6lXnszNsVFaA"
      },
      "source": [
        "#apply function to clean text creating a new column that will have the cleaned text\n",
        "df['tweet'] = df['tweet_unclean'].apply(lambda x: clean_tweets(x))"
      ],
      "execution_count": 12,
      "outputs": []
    },
    {
      "cell_type": "code",
      "metadata": {
        "colab": {
          "base_uri": "https://localhost:8080/"
        },
        "id": "v8iaMEMLTPM7",
        "outputId": "d174ee19-9ba1-427d-d408-70fc1700c56b"
      },
      "source": [
        "#check how it looks the cleaned tweets¿¨\n",
        "for i in range(0,5):\n",
        "  print('unclean: {}'.format(df['tweet_unclean'].iloc[i]),'\\n', 'clean: {}'.format(df['tweet'].iloc[i]))\n",
        "  print('-----------------------------')\n"
      ],
      "execution_count": 13,
      "outputs": [
        {
          "output_type": "stream",
          "text": [
            "unclean: El primer ano que empece a vivir lejos de mi casa mami me llamaba todos los dias, ya no, se pasan los dias y nada, el amor se acaba \n",
            " clean: prim ano empec viv lej cas mami llam dias pas dias amor acab\n",
            "-----------------------------\n",
            "unclean: @TomasZumad Ando peor que Tinkerbell en sus anos mozos. ¿Y si nos vemos hoy? Tia se fue a la romeria, estoy sola y tengo maqueta q hacer. \n",
            " clean: tomaszum ando peor tinkerbell anos moz si vem hoy tia romeri sol maquet q hac\n",
            "-----------------------------\n",
            "unclean: Estabamos subrayando en Sociales y el apellido de un mae era \"Kagame\", y soy tan inmadura que no pare de reirme por casi toda la leccion. \n",
            " clean: estab subray social apell mae kagam tan inmadur par reirm casi tod leccion\n",
            "-----------------------------\n",
            "unclean: \"El es raro, pero es hay q estar demasiado mal de la cabeza para querer estar con alguien tan danada como yo\". -Yo, hablando con mi papa. \n",
            " clean: rar q demasi mal cabez quer algui tan dan habl pap\n",
            "-----------------------------\n",
            "unclean: En teoria el comic SS no se basa solo en el Joker asi que es bola de ridiculos deberia de relaje la puta nalga y dejar al flaco en paz \n",
            " clean: teori comic ss bas sol jok asi bol ridicul deberi relaj put nalg dej flac paz\n",
            "-----------------------------\n"
          ],
          "name": "stdout"
        }
      ]
    },
    {
      "cell_type": "code",
      "metadata": {
        "colab": {
          "base_uri": "https://localhost:8080/"
        },
        "id": "5-A6NM358q5g",
        "outputId": "85770a2c-d295-4d1f-d232-80e53773258b"
      },
      "source": [
        "from sklearn.feature_extraction.text import CountVectorizer\n",
        "\n",
        "#counts how many words are in the dataset\n",
        "countvectorizer = CountVectorizer()\n",
        "countVector = countvectorizer.fit_transform(df['tweet'])\n",
        "print('{} Number of reviews has {} words'.format(countVector.shape[0], countVector.shape[1]))"
      ],
      "execution_count": 14,
      "outputs": [
        {
          "output_type": "stream",
          "text": [
            "7037 Number of reviews has 9977 words\n"
          ],
          "name": "stdout"
        }
      ]
    },
    {
      "cell_type": "code",
      "metadata": {
        "colab": {
          "base_uri": "https://localhost:8080/",
          "height": 252
        },
        "id": "EWTmK6ww8uks",
        "outputId": "5d018d4a-41a6-489f-c1b9-9591114f8398"
      },
      "source": [
        "#use countvectorizer to create a dataframe with all the words in columns\n",
        "count_vect_df = pd.DataFrame(countVector.toarray(), columns=countvectorizer.get_feature_names())\n",
        "count_vect_df.head()"
      ],
      "execution_count": 15,
      "outputs": [
        {
          "output_type": "execute_result",
          "data": {
            "text/html": [
              "<div>\n",
              "<style scoped>\n",
              "    .dataframe tbody tr th:only-of-type {\n",
              "        vertical-align: middle;\n",
              "    }\n",
              "\n",
              "    .dataframe tbody tr th {\n",
              "        vertical-align: top;\n",
              "    }\n",
              "\n",
              "    .dataframe thead th {\n",
              "        text-align: right;\n",
              "    }\n",
              "</style>\n",
              "<table border=\"1\" class=\"dataframe\">\n",
              "  <thead>\n",
              "    <tr style=\"text-align: right;\">\n",
              "      <th></th>\n",
              "      <th>aaa</th>\n",
              "      <th>aaaa</th>\n",
              "      <th>aaaaaay</th>\n",
              "      <th>aaaaajajajajajajajajaj</th>\n",
              "      <th>aaah</th>\n",
              "      <th>aaron</th>\n",
              "      <th>ab</th>\n",
              "      <th>abac</th>\n",
              "      <th>abaj</th>\n",
              "      <th>abandon</th>\n",
              "      <th>abandonadisim</th>\n",
              "      <th>abarc</th>\n",
              "      <th>abarrot</th>\n",
              "      <th>abast</th>\n",
              "      <th>abat</th>\n",
              "      <th>abby</th>\n",
              "      <th>abcdesignat</th>\n",
              "      <th>abdiel</th>\n",
              "      <th>abdielsmusic</th>\n",
              "      <th>abdom</th>\n",
              "      <th>abedul</th>\n",
              "      <th>abeftlouis</th>\n",
              "      <th>abel</th>\n",
              "      <th>aberron</th>\n",
              "      <th>abieeflor</th>\n",
              "      <th>abiert</th>\n",
              "      <th>abis</th>\n",
              "      <th>ablo</th>\n",
              "      <th>abord</th>\n",
              "      <th>abordaj</th>\n",
              "      <th>abossus</th>\n",
              "      <th>abrac</th>\n",
              "      <th>abraham</th>\n",
              "      <th>abrahamers</th>\n",
              "      <th>abrahammateoenuruguay</th>\n",
              "      <th>abrahammateomus</th>\n",
              "      <th>abram</th>\n",
              "      <th>abraz</th>\n",
              "      <th>abrazar</th>\n",
              "      <th>abrazart</th>\n",
              "      <th>...</th>\n",
              "      <th>zaharapop</th>\n",
              "      <th>zahirecoronel</th>\n",
              "      <th>zamruv</th>\n",
              "      <th>zanain</th>\n",
              "      <th>zapat</th>\n",
              "      <th>zapatill</th>\n",
              "      <th>zapd</th>\n",
              "      <th>zapejuan</th>\n",
              "      <th>zapot</th>\n",
              "      <th>zaragoz</th>\n",
              "      <th>zarcer</th>\n",
              "      <th>zarp</th>\n",
              "      <th>zaval</th>\n",
              "      <th>zayn</th>\n",
              "      <th>zeld</th>\n",
              "      <th>zeped</th>\n",
              "      <th>zepol</th>\n",
              "      <th>zer</th>\n",
              "      <th>zeroanim</th>\n",
              "      <th>zet</th>\n",
              "      <th>zgz</th>\n",
              "      <th>zi</th>\n",
              "      <th>zick</th>\n",
              "      <th>ziempr</th>\n",
              "      <th>zinoscrew</th>\n",
              "      <th>zoestrang</th>\n",
              "      <th>zombi</th>\n",
              "      <th>zombiepolar</th>\n",
              "      <th>zommix</th>\n",
              "      <th>zon</th>\n",
              "      <th>zonz</th>\n",
              "      <th>zoo</th>\n",
              "      <th>zorr</th>\n",
              "      <th>zoy</th>\n",
              "      <th>zum</th>\n",
              "      <th>zumb</th>\n",
              "      <th>zumbadisim</th>\n",
              "      <th>zumoo</th>\n",
              "      <th>zung</th>\n",
              "      <th>zylx</th>\n",
              "    </tr>\n",
              "  </thead>\n",
              "  <tbody>\n",
              "    <tr>\n",
              "      <th>0</th>\n",
              "      <td>0</td>\n",
              "      <td>0</td>\n",
              "      <td>0</td>\n",
              "      <td>0</td>\n",
              "      <td>0</td>\n",
              "      <td>0</td>\n",
              "      <td>0</td>\n",
              "      <td>0</td>\n",
              "      <td>0</td>\n",
              "      <td>0</td>\n",
              "      <td>0</td>\n",
              "      <td>0</td>\n",
              "      <td>0</td>\n",
              "      <td>0</td>\n",
              "      <td>0</td>\n",
              "      <td>0</td>\n",
              "      <td>0</td>\n",
              "      <td>0</td>\n",
              "      <td>0</td>\n",
              "      <td>0</td>\n",
              "      <td>0</td>\n",
              "      <td>0</td>\n",
              "      <td>0</td>\n",
              "      <td>0</td>\n",
              "      <td>0</td>\n",
              "      <td>0</td>\n",
              "      <td>0</td>\n",
              "      <td>0</td>\n",
              "      <td>0</td>\n",
              "      <td>0</td>\n",
              "      <td>0</td>\n",
              "      <td>0</td>\n",
              "      <td>0</td>\n",
              "      <td>0</td>\n",
              "      <td>0</td>\n",
              "      <td>0</td>\n",
              "      <td>0</td>\n",
              "      <td>0</td>\n",
              "      <td>0</td>\n",
              "      <td>0</td>\n",
              "      <td>...</td>\n",
              "      <td>0</td>\n",
              "      <td>0</td>\n",
              "      <td>0</td>\n",
              "      <td>0</td>\n",
              "      <td>0</td>\n",
              "      <td>0</td>\n",
              "      <td>0</td>\n",
              "      <td>0</td>\n",
              "      <td>0</td>\n",
              "      <td>0</td>\n",
              "      <td>0</td>\n",
              "      <td>0</td>\n",
              "      <td>0</td>\n",
              "      <td>0</td>\n",
              "      <td>0</td>\n",
              "      <td>0</td>\n",
              "      <td>0</td>\n",
              "      <td>0</td>\n",
              "      <td>0</td>\n",
              "      <td>0</td>\n",
              "      <td>0</td>\n",
              "      <td>0</td>\n",
              "      <td>0</td>\n",
              "      <td>0</td>\n",
              "      <td>0</td>\n",
              "      <td>0</td>\n",
              "      <td>0</td>\n",
              "      <td>0</td>\n",
              "      <td>0</td>\n",
              "      <td>0</td>\n",
              "      <td>0</td>\n",
              "      <td>0</td>\n",
              "      <td>0</td>\n",
              "      <td>0</td>\n",
              "      <td>0</td>\n",
              "      <td>0</td>\n",
              "      <td>0</td>\n",
              "      <td>0</td>\n",
              "      <td>0</td>\n",
              "      <td>0</td>\n",
              "    </tr>\n",
              "    <tr>\n",
              "      <th>1</th>\n",
              "      <td>0</td>\n",
              "      <td>0</td>\n",
              "      <td>0</td>\n",
              "      <td>0</td>\n",
              "      <td>0</td>\n",
              "      <td>0</td>\n",
              "      <td>0</td>\n",
              "      <td>0</td>\n",
              "      <td>0</td>\n",
              "      <td>0</td>\n",
              "      <td>0</td>\n",
              "      <td>0</td>\n",
              "      <td>0</td>\n",
              "      <td>0</td>\n",
              "      <td>0</td>\n",
              "      <td>0</td>\n",
              "      <td>0</td>\n",
              "      <td>0</td>\n",
              "      <td>0</td>\n",
              "      <td>0</td>\n",
              "      <td>0</td>\n",
              "      <td>0</td>\n",
              "      <td>0</td>\n",
              "      <td>0</td>\n",
              "      <td>0</td>\n",
              "      <td>0</td>\n",
              "      <td>0</td>\n",
              "      <td>0</td>\n",
              "      <td>0</td>\n",
              "      <td>0</td>\n",
              "      <td>0</td>\n",
              "      <td>0</td>\n",
              "      <td>0</td>\n",
              "      <td>0</td>\n",
              "      <td>0</td>\n",
              "      <td>0</td>\n",
              "      <td>0</td>\n",
              "      <td>0</td>\n",
              "      <td>0</td>\n",
              "      <td>0</td>\n",
              "      <td>...</td>\n",
              "      <td>0</td>\n",
              "      <td>0</td>\n",
              "      <td>0</td>\n",
              "      <td>0</td>\n",
              "      <td>0</td>\n",
              "      <td>0</td>\n",
              "      <td>0</td>\n",
              "      <td>0</td>\n",
              "      <td>0</td>\n",
              "      <td>0</td>\n",
              "      <td>0</td>\n",
              "      <td>0</td>\n",
              "      <td>0</td>\n",
              "      <td>0</td>\n",
              "      <td>0</td>\n",
              "      <td>0</td>\n",
              "      <td>0</td>\n",
              "      <td>0</td>\n",
              "      <td>0</td>\n",
              "      <td>0</td>\n",
              "      <td>0</td>\n",
              "      <td>0</td>\n",
              "      <td>0</td>\n",
              "      <td>0</td>\n",
              "      <td>0</td>\n",
              "      <td>0</td>\n",
              "      <td>0</td>\n",
              "      <td>0</td>\n",
              "      <td>0</td>\n",
              "      <td>0</td>\n",
              "      <td>0</td>\n",
              "      <td>0</td>\n",
              "      <td>0</td>\n",
              "      <td>0</td>\n",
              "      <td>0</td>\n",
              "      <td>0</td>\n",
              "      <td>0</td>\n",
              "      <td>0</td>\n",
              "      <td>0</td>\n",
              "      <td>0</td>\n",
              "    </tr>\n",
              "    <tr>\n",
              "      <th>2</th>\n",
              "      <td>0</td>\n",
              "      <td>0</td>\n",
              "      <td>0</td>\n",
              "      <td>0</td>\n",
              "      <td>0</td>\n",
              "      <td>0</td>\n",
              "      <td>0</td>\n",
              "      <td>0</td>\n",
              "      <td>0</td>\n",
              "      <td>0</td>\n",
              "      <td>0</td>\n",
              "      <td>0</td>\n",
              "      <td>0</td>\n",
              "      <td>0</td>\n",
              "      <td>0</td>\n",
              "      <td>0</td>\n",
              "      <td>0</td>\n",
              "      <td>0</td>\n",
              "      <td>0</td>\n",
              "      <td>0</td>\n",
              "      <td>0</td>\n",
              "      <td>0</td>\n",
              "      <td>0</td>\n",
              "      <td>0</td>\n",
              "      <td>0</td>\n",
              "      <td>0</td>\n",
              "      <td>0</td>\n",
              "      <td>0</td>\n",
              "      <td>0</td>\n",
              "      <td>0</td>\n",
              "      <td>0</td>\n",
              "      <td>0</td>\n",
              "      <td>0</td>\n",
              "      <td>0</td>\n",
              "      <td>0</td>\n",
              "      <td>0</td>\n",
              "      <td>0</td>\n",
              "      <td>0</td>\n",
              "      <td>0</td>\n",
              "      <td>0</td>\n",
              "      <td>...</td>\n",
              "      <td>0</td>\n",
              "      <td>0</td>\n",
              "      <td>0</td>\n",
              "      <td>0</td>\n",
              "      <td>0</td>\n",
              "      <td>0</td>\n",
              "      <td>0</td>\n",
              "      <td>0</td>\n",
              "      <td>0</td>\n",
              "      <td>0</td>\n",
              "      <td>0</td>\n",
              "      <td>0</td>\n",
              "      <td>0</td>\n",
              "      <td>0</td>\n",
              "      <td>0</td>\n",
              "      <td>0</td>\n",
              "      <td>0</td>\n",
              "      <td>0</td>\n",
              "      <td>0</td>\n",
              "      <td>0</td>\n",
              "      <td>0</td>\n",
              "      <td>0</td>\n",
              "      <td>0</td>\n",
              "      <td>0</td>\n",
              "      <td>0</td>\n",
              "      <td>0</td>\n",
              "      <td>0</td>\n",
              "      <td>0</td>\n",
              "      <td>0</td>\n",
              "      <td>0</td>\n",
              "      <td>0</td>\n",
              "      <td>0</td>\n",
              "      <td>0</td>\n",
              "      <td>0</td>\n",
              "      <td>0</td>\n",
              "      <td>0</td>\n",
              "      <td>0</td>\n",
              "      <td>0</td>\n",
              "      <td>0</td>\n",
              "      <td>0</td>\n",
              "    </tr>\n",
              "    <tr>\n",
              "      <th>3</th>\n",
              "      <td>0</td>\n",
              "      <td>0</td>\n",
              "      <td>0</td>\n",
              "      <td>0</td>\n",
              "      <td>0</td>\n",
              "      <td>0</td>\n",
              "      <td>0</td>\n",
              "      <td>0</td>\n",
              "      <td>0</td>\n",
              "      <td>0</td>\n",
              "      <td>0</td>\n",
              "      <td>0</td>\n",
              "      <td>0</td>\n",
              "      <td>0</td>\n",
              "      <td>0</td>\n",
              "      <td>0</td>\n",
              "      <td>0</td>\n",
              "      <td>0</td>\n",
              "      <td>0</td>\n",
              "      <td>0</td>\n",
              "      <td>0</td>\n",
              "      <td>0</td>\n",
              "      <td>0</td>\n",
              "      <td>0</td>\n",
              "      <td>0</td>\n",
              "      <td>0</td>\n",
              "      <td>0</td>\n",
              "      <td>0</td>\n",
              "      <td>0</td>\n",
              "      <td>0</td>\n",
              "      <td>0</td>\n",
              "      <td>0</td>\n",
              "      <td>0</td>\n",
              "      <td>0</td>\n",
              "      <td>0</td>\n",
              "      <td>0</td>\n",
              "      <td>0</td>\n",
              "      <td>0</td>\n",
              "      <td>0</td>\n",
              "      <td>0</td>\n",
              "      <td>...</td>\n",
              "      <td>0</td>\n",
              "      <td>0</td>\n",
              "      <td>0</td>\n",
              "      <td>0</td>\n",
              "      <td>0</td>\n",
              "      <td>0</td>\n",
              "      <td>0</td>\n",
              "      <td>0</td>\n",
              "      <td>0</td>\n",
              "      <td>0</td>\n",
              "      <td>0</td>\n",
              "      <td>0</td>\n",
              "      <td>0</td>\n",
              "      <td>0</td>\n",
              "      <td>0</td>\n",
              "      <td>0</td>\n",
              "      <td>0</td>\n",
              "      <td>0</td>\n",
              "      <td>0</td>\n",
              "      <td>0</td>\n",
              "      <td>0</td>\n",
              "      <td>0</td>\n",
              "      <td>0</td>\n",
              "      <td>0</td>\n",
              "      <td>0</td>\n",
              "      <td>0</td>\n",
              "      <td>0</td>\n",
              "      <td>0</td>\n",
              "      <td>0</td>\n",
              "      <td>0</td>\n",
              "      <td>0</td>\n",
              "      <td>0</td>\n",
              "      <td>0</td>\n",
              "      <td>0</td>\n",
              "      <td>0</td>\n",
              "      <td>0</td>\n",
              "      <td>0</td>\n",
              "      <td>0</td>\n",
              "      <td>0</td>\n",
              "      <td>0</td>\n",
              "    </tr>\n",
              "    <tr>\n",
              "      <th>4</th>\n",
              "      <td>0</td>\n",
              "      <td>0</td>\n",
              "      <td>0</td>\n",
              "      <td>0</td>\n",
              "      <td>0</td>\n",
              "      <td>0</td>\n",
              "      <td>0</td>\n",
              "      <td>0</td>\n",
              "      <td>0</td>\n",
              "      <td>0</td>\n",
              "      <td>0</td>\n",
              "      <td>0</td>\n",
              "      <td>0</td>\n",
              "      <td>0</td>\n",
              "      <td>0</td>\n",
              "      <td>0</td>\n",
              "      <td>0</td>\n",
              "      <td>0</td>\n",
              "      <td>0</td>\n",
              "      <td>0</td>\n",
              "      <td>0</td>\n",
              "      <td>0</td>\n",
              "      <td>0</td>\n",
              "      <td>0</td>\n",
              "      <td>0</td>\n",
              "      <td>0</td>\n",
              "      <td>0</td>\n",
              "      <td>0</td>\n",
              "      <td>0</td>\n",
              "      <td>0</td>\n",
              "      <td>0</td>\n",
              "      <td>0</td>\n",
              "      <td>0</td>\n",
              "      <td>0</td>\n",
              "      <td>0</td>\n",
              "      <td>0</td>\n",
              "      <td>0</td>\n",
              "      <td>0</td>\n",
              "      <td>0</td>\n",
              "      <td>0</td>\n",
              "      <td>...</td>\n",
              "      <td>0</td>\n",
              "      <td>0</td>\n",
              "      <td>0</td>\n",
              "      <td>0</td>\n",
              "      <td>0</td>\n",
              "      <td>0</td>\n",
              "      <td>0</td>\n",
              "      <td>0</td>\n",
              "      <td>0</td>\n",
              "      <td>0</td>\n",
              "      <td>0</td>\n",
              "      <td>0</td>\n",
              "      <td>0</td>\n",
              "      <td>0</td>\n",
              "      <td>0</td>\n",
              "      <td>0</td>\n",
              "      <td>0</td>\n",
              "      <td>0</td>\n",
              "      <td>0</td>\n",
              "      <td>0</td>\n",
              "      <td>0</td>\n",
              "      <td>0</td>\n",
              "      <td>0</td>\n",
              "      <td>0</td>\n",
              "      <td>0</td>\n",
              "      <td>0</td>\n",
              "      <td>0</td>\n",
              "      <td>0</td>\n",
              "      <td>0</td>\n",
              "      <td>0</td>\n",
              "      <td>0</td>\n",
              "      <td>0</td>\n",
              "      <td>0</td>\n",
              "      <td>0</td>\n",
              "      <td>0</td>\n",
              "      <td>0</td>\n",
              "      <td>0</td>\n",
              "      <td>0</td>\n",
              "      <td>0</td>\n",
              "      <td>0</td>\n",
              "    </tr>\n",
              "  </tbody>\n",
              "</table>\n",
              "<p>5 rows × 9977 columns</p>\n",
              "</div>"
            ],
            "text/plain": [
              "   aaa  aaaa  aaaaaay  aaaaajajajajajajajajaj  ...  zumbadisim  zumoo  zung  zylx\n",
              "0    0     0        0                       0  ...           0      0     0     0\n",
              "1    0     0        0                       0  ...           0      0     0     0\n",
              "2    0     0        0                       0  ...           0      0     0     0\n",
              "3    0     0        0                       0  ...           0      0     0     0\n",
              "4    0     0        0                       0  ...           0      0     0     0\n",
              "\n",
              "[5 rows x 9977 columns]"
            ]
          },
          "metadata": {
            "tags": []
          },
          "execution_count": 15
        }
      ]
    },
    {
      "cell_type": "code",
      "metadata": {
        "colab": {
          "base_uri": "https://localhost:8080/",
          "height": 326
        },
        "id": "BMWHDMu58xkS",
        "outputId": "d2e5fb31-986d-4b71-c645-fea74bace468"
      },
      "source": [
        "#shows most used words\n",
        "count = pd.DataFrame(count_vect_df.sum())\n",
        "countdf = count.sort_values(0,ascending=False).head(20)\n",
        "countdf[0:9]"
      ],
      "execution_count": 16,
      "outputs": [
        {
          "output_type": "execute_result",
          "data": {
            "text/html": [
              "<div>\n",
              "<style scoped>\n",
              "    .dataframe tbody tr th:only-of-type {\n",
              "        vertical-align: middle;\n",
              "    }\n",
              "\n",
              "    .dataframe tbody tr th {\n",
              "        vertical-align: top;\n",
              "    }\n",
              "\n",
              "    .dataframe thead th {\n",
              "        text-align: right;\n",
              "    }\n",
              "</style>\n",
              "<table border=\"1\" class=\"dataframe\">\n",
              "  <thead>\n",
              "    <tr style=\"text-align: right;\">\n",
              "      <th></th>\n",
              "      <th>0</th>\n",
              "    </tr>\n",
              "  </thead>\n",
              "  <tbody>\n",
              "    <tr>\n",
              "      <th>buen</th>\n",
              "      <td>774</td>\n",
              "    </tr>\n",
              "    <tr>\n",
              "      <th>si</th>\n",
              "      <td>653</td>\n",
              "    </tr>\n",
              "    <tr>\n",
              "      <th>mas</th>\n",
              "      <td>600</td>\n",
              "    </tr>\n",
              "    <tr>\n",
              "      <th>hac</th>\n",
              "      <td>525</td>\n",
              "    </tr>\n",
              "    <tr>\n",
              "      <th>mejor</th>\n",
              "      <td>410</td>\n",
              "    </tr>\n",
              "    <tr>\n",
              "      <th>quier</th>\n",
              "      <td>400</td>\n",
              "    </tr>\n",
              "    <tr>\n",
              "      <th>sol</th>\n",
              "      <td>391</td>\n",
              "    </tr>\n",
              "    <tr>\n",
              "      <th>ser</th>\n",
              "      <td>377</td>\n",
              "    </tr>\n",
              "    <tr>\n",
              "      <th>pas</th>\n",
              "      <td>372</td>\n",
              "    </tr>\n",
              "  </tbody>\n",
              "</table>\n",
              "</div>"
            ],
            "text/plain": [
              "         0\n",
              "buen   774\n",
              "si     653\n",
              "mas    600\n",
              "hac    525\n",
              "mejor  410\n",
              "quier  400\n",
              "sol    391\n",
              "ser    377\n",
              "pas    372"
            ]
          },
          "metadata": {
            "tags": []
          },
          "execution_count": 16
        }
      ]
    },
    {
      "cell_type": "markdown",
      "metadata": {
        "id": "M1-cBy4MfKUe"
      },
      "source": [
        "# **Parte 3 - Estudio del dataset**\n",
        "Primeo estudiaremos un poco el dataset, veremos cuantos tweets tenemos para cada uno de los países presentes en proporción del total.\n",
        "Viendo el gráfico circular se puede apreciar que España es el país que cuenta con más tweets, contrario a Puerto Rico que apenas representa un 7% de los tweets totales. Debido a la poca proporción de tweets para este último país, lo excluiremos del análisis."
      ]
    },
    {
      "cell_type": "code",
      "metadata": {
        "id": "P2g3So3ZhNSf"
      },
      "source": [
        "# =======================================\n",
        "# COUNTRY PREDICTION\n",
        "# ======================================="
      ],
      "execution_count": 17,
      "outputs": []
    },
    {
      "cell_type": "code",
      "metadata": {
        "colab": {
          "base_uri": "https://localhost:8080/",
          "height": 405
        },
        "id": "8L5huwinFP8s",
        "outputId": "179bd2f4-ca7f-4dce-cee3-e4f18a52737c"
      },
      "source": [
        "#creates pie chart to see the how many tweets has each country\n",
        "import matplotlib.pyplot as plt\n",
        "\n",
        "#group by countries\n",
        "country_counts = df.groupby(['country'])['country'].count()\n",
        "\n",
        "#same groupby but in percentage (not used actually)\n",
        "country_percentage = round((country_counts/country_counts.sum())*100)\n",
        "\n",
        "#change country names for more suitables\n",
        "country_percentage.rename(index= {'CR':'Costa Rica', 'ES': 'Spain', 'MX': 'Mexico', 'PE': 'Peru', 'PR': 'Puerto Rico', 'UY':'Uruguay',}, inplace=True)\n",
        "\n",
        "#get the labels\n",
        "country_labels = country_percentage.index\n",
        "\n",
        "# colors=['green', 'blue', 'red', 'yellow', 'orange', 'brown']\n",
        "#create a circle for the center of the plot\n",
        "circle = plt.Circle( (0,0), radius = 1.2, color='white')\n",
        "plt.pie(country_percentage, labels = country_labels, radius = 2, textprops = {'fontsize':'xx-large'}, autopct='%1.0f%%', pctdistance=0.8, labeldistance=1.1)\n",
        "p=plt.gcf()\n",
        "p.gca().add_artist(circle)\n",
        "plt.show()"
      ],
      "execution_count": 18,
      "outputs": [
        {
          "output_type": "display_data",
          "data": {
            "image/png": "[encoded data removed]",
            "text/plain": [
              "<Figure size 432x288 with 1 Axes>"
            ]
          },
          "metadata": {
            "tags": []
          }
        }
      ]
    },
    {
      "cell_type": "markdown",
      "metadata": {
        "id": "nlQoCZEugwG7"
      },
      "source": [
        "Para las siguientes partes procederemos de manera similar a cuando hicimos el análisis de sentimiento, la única diferencia es que ahora nuestras etiquetas son los países y nos olvidaremos de los sentimientos."
      ]
    },
    {
      "cell_type": "code",
      "metadata": {
        "id": "XXuKLMLZoZp9"
      },
      "source": [
        "from keras.preprocessing.text import Tokenizer\n",
        "from keras.preprocessing.sequence import pad_sequences\n",
        "\n",
        "#exclude Puerto Rico due to very low samples\n",
        "df_country = df[df.country != 'PR']\n",
        "\n",
        "#the features will be the amount of words\n",
        "max_features = countVector.shape[1]\n",
        "\n",
        "#initilize Tokenizer\n",
        "tokenizer = Tokenizer(num_words = max_features, split =' ')\n",
        "\n",
        "#training\n",
        "tokenizer.fit_on_texts(df_country['tweet'].values)\n",
        "\n",
        "#transforms tweets in numeric arrays\n",
        "X1_c = tokenizer.texts_to_sequences(df_country['tweet'].values)\n",
        "\n",
        "#transforms all sequences into same length\n",
        "X_c = pad_sequences(X1_c)"
      ],
      "execution_count": 19,
      "outputs": []
    },
    {
      "cell_type": "code",
      "metadata": {
        "id": "OaXcv6MkgSsp"
      },
      "source": [
        "#instead of predicting the sentiment we ar going to predict the country\n",
        "from sklearn.model_selection import train_test_split\n",
        "\n",
        "#dummies for country\n",
        "Y_c = pd.get_dummies(df_country['country']).values\n",
        "\n",
        "#train and test separation\n",
        "X_train_c, X_test_c, Y_train_c, Y_test_c = train_test_split(X_c, Y_c, test_size = 0.33, random_state = 42)"
      ],
      "execution_count": 20,
      "outputs": []
    },
    {
      "cell_type": "code",
      "metadata": {
        "id": "HvZlGSpeg8HU"
      },
      "source": [
        "#create validation set with 1000 tweets\n",
        "validation_size = 500\n",
        "\n",
        "X_validate_c = X_test_c[-validation_size:]\n",
        "Y_validate_c = Y_test_c[-validation_size:]\n",
        "X_test_c = X_test_c[:-validation_size]\n",
        "Y_test_c = Y_test_c[:-validation_size]"
      ],
      "execution_count": 21,
      "outputs": []
    },
    {
      "cell_type": "markdown",
      "metadata": {
        "id": "3f5Ei3_Gzrn8"
      },
      "source": [
        "# **Parte 4 - Ensamble de la red neuronal y entrenamiento**\n",
        "La red estará compuesta por las siguientes capas:\n",
        "- Embedding con un output_dim de 200\n",
        "- Densa con 32 unidades y activación relu\n",
        "- Dropout (0.25)\n",
        "- LSTM de 32 unidades\n",
        "- Droput (0.5)\n",
        "- Densa con 5 unidades (una por país) y activación softmax\n",
        "\n",
        "Compilaremos el modelo utilizando el optimizador adam, la función de los categorical_crossentropy y accuracy para las métricas. Entrenaremos con 10 epochs y un batch_size de 128. \n"
      ]
    },
    {
      "cell_type": "code",
      "metadata": {
        "colab": {
          "base_uri": "https://localhost:8080/"
        },
        "id": "Q7tFKsl3hgj1",
        "outputId": "d310c3ae-f86f-42ba-ed4f-f4878ce5b056"
      },
      "source": [
        "#assembling of neural network\n",
        "from keras.models import Sequential\n",
        "from keras.layers import Embedding, LSTM, Dense, Dropout, Flatten\n",
        "\n",
        "# foir this part the embedding dimension will larger than the sentiment part\n",
        "embed_dim = 200\n",
        "\n",
        "model_country = Sequential()\n",
        "model_country.add(Embedding(input_dim = max_features, output_dim = embed_dim, input_length = X_c.shape[1]))\n",
        "model_country.add(Dense(32, activation = 'relu'))\n",
        "model_country.add(Dropout(0.25))\n",
        "model_country.add(LSTM(32, dropout = 0.2, recurrent_dropout = 0.2))\n",
        "model_country.add(Dropout(0.5))\n",
        "model_country.add(Dense(Y_c.shape[1], activation = 'softmax'))\n",
        "model_country.summary()"
      ],
      "execution_count": 22,
      "outputs": [
        {
          "output_type": "stream",
          "text": [
            "WARNING:tensorflow:Layer lstm will not use cuDNN kernels since it doesn't meet the criteria. It will use a generic GPU kernel as fallback when running on GPU.\n",
            "Model: \"sequential\"\n",
            "_________________________________________________________________\n",
            "Layer (type)                 Output Shape              Param #   \n",
            "=================================================================\n",
            "embedding (Embedding)        (None, 22, 200)           1995400   \n",
            "_________________________________________________________________\n",
            "dense (Dense)                (None, 22, 32)            6432      \n",
            "_________________________________________________________________\n",
            "dropout (Dropout)            (None, 22, 32)            0         \n",
            "_________________________________________________________________\n",
            "lstm (LSTM)                  (None, 32)                8320      \n",
            "_________________________________________________________________\n",
            "dropout_1 (Dropout)          (None, 32)                0         \n",
            "_________________________________________________________________\n",
            "dense_1 (Dense)              (None, 5)                 165       \n",
            "=================================================================\n",
            "Total params: 2,010,317\n",
            "Trainable params: 2,010,317\n",
            "Non-trainable params: 0\n",
            "_________________________________________________________________\n"
          ],
          "name": "stdout"
        }
      ]
    },
    {
      "cell_type": "code",
      "metadata": {
        "colab": {
          "base_uri": "https://localhost:8080/"
        },
        "id": "qqL3lswdhLHC",
        "outputId": "18a5f1c0-218e-4ce3-bea4-641afc5d2148"
      },
      "source": [
        "#compile and train model\n",
        "batch_size = 128\n",
        "model_country.compile(optimizer = 'adam', loss = 'categorical_crossentropy', metrics = ['accuracy'])\n",
        "model_country.fit(X_train_c, Y_train_c, batch_size = batch_size, epochs = 10, validation_data = (X_validate_c, Y_validate_c))"
      ],
      "execution_count": 23,
      "outputs": [
        {
          "output_type": "stream",
          "text": [
            "Epoch 1/10\n",
            "35/35 [==============================] - 34s 195ms/step - loss: 1.5895 - accuracy: 0.2687 - val_loss: 1.5586 - val_accuracy: 0.2940\n",
            "Epoch 2/10\n",
            "35/35 [==============================] - 5s 156ms/step - loss: 1.5519 - accuracy: 0.2988 - val_loss: 1.5200 - val_accuracy: 0.2940\n",
            "Epoch 3/10\n",
            "35/35 [==============================] - 5s 149ms/step - loss: 1.4506 - accuracy: 0.3426 - val_loss: 1.3702 - val_accuracy: 0.4160\n",
            "Epoch 4/10\n",
            "35/35 [==============================] - 5s 149ms/step - loss: 1.0664 - accuracy: 0.5949 - val_loss: 1.2542 - val_accuracy: 0.4920\n",
            "Epoch 5/10\n",
            "35/35 [==============================] - 6s 161ms/step - loss: 0.7509 - accuracy: 0.7245 - val_loss: 1.2163 - val_accuracy: 0.5400\n",
            "Epoch 6/10\n",
            "35/35 [==============================] - 6s 159ms/step - loss: 0.5684 - accuracy: 0.8026 - val_loss: 1.3051 - val_accuracy: 0.5660\n",
            "Epoch 7/10\n",
            "35/35 [==============================] - 5s 149ms/step - loss: 0.4071 - accuracy: 0.8746 - val_loss: 1.3385 - val_accuracy: 0.5920\n",
            "Epoch 8/10\n",
            "35/35 [==============================] - 5s 151ms/step - loss: 0.3045 - accuracy: 0.9202 - val_loss: 1.3941 - val_accuracy: 0.5940\n",
            "Epoch 9/10\n",
            "35/35 [==============================] - 5s 154ms/step - loss: 0.2220 - accuracy: 0.9423 - val_loss: 1.4759 - val_accuracy: 0.6040\n",
            "Epoch 10/10\n",
            "35/35 [==============================] - 5s 153ms/step - loss: 0.2018 - accuracy: 0.9450 - val_loss: 1.6070 - val_accuracy: 0.5900\n"
          ],
          "name": "stdout"
        },
        {
          "output_type": "execute_result",
          "data": {
            "text/plain": [
              "<keras.callbacks.History at 0x7fd4e833c590>"
            ]
          },
          "metadata": {
            "tags": []
          },
          "execution_count": 23
        }
      ]
    },
    {
      "cell_type": "code",
      "metadata": {
        "colab": {
          "base_uri": "https://localhost:8080/"
        },
        "id": "UCgR4WySk6te",
        "outputId": "65cae03b-d958-4c89-ad2a-1a03e6a62f21"
      },
      "source": [
        "#check score and accuracy in test set\n",
        "score_c,acc_c = model_country.evaluate(X_test_c, Y_test_c, batch_size = batch_size)\n",
        "print(\"Score: %.2f\" % (score_c))\n",
        "print(\"Acc: %.2f\" % (acc_c))"
      ],
      "execution_count": 24,
      "outputs": [
        {
          "output_type": "stream",
          "text": [
            "14/14 [==============================] - 0s 11ms/step - loss: 1.7226 - accuracy: 0.5699\n",
            "Score: 1.72\n",
            "Acc: 0.57\n"
          ],
          "name": "stdout"
        }
      ]
    },
    {
      "cell_type": "code",
      "metadata": {
        "id": "hYeqRb3FjiSY",
        "colab": {
          "base_uri": "https://localhost:8080/"
        },
        "outputId": "25bec2ea-ed60-4251-9bcf-d2d4ce39913e"
      },
      "source": [
        "import numpy as np\n",
        "cr, es, mx, pe, uy = 0, 0, 0, 0, 0\n",
        "cr_cnt, es_cnt, mx_cnt, pe_cnt, uy_cnt = 0, 0, 0, 0, 0\n",
        "\n",
        "for x in range(len(X_validate_c)):\n",
        "    \n",
        "    result = model_country.predict(X_test_c[x].reshape(1,X_test_c.shape[1]),batch_size=1,verbose = 2)[0]\n",
        "\n",
        "    if np.argmax(result) == np.argmax(Y_test_c[x]):\n",
        "\n",
        "        if np.argmax(Y_test_c[x]) == 0:\n",
        "          cr += 1\n",
        "        if np.argmax(Y_test_c[x]) == 1:\n",
        "          es +=1\n",
        "        if np.argmax(Y_test_c[x]) == 2:\n",
        "          mx +=1\n",
        "        if np.argmax(Y_test_c[x]) == 3:\n",
        "          pe +=1\n",
        "        if np.argmax(Y_test_c[x]) == 4:\n",
        "          uy +=1\n",
        "\n",
        "    if np.argmax(Y_test_c[x]) == 0:\n",
        "      cr_cnt += 1\n",
        "    if np.argmax(Y_test_c[x]) == 1:\n",
        "      es_cnt += 1\n",
        "    if np.argmax(Y_test_c[x]) == 2:\n",
        "      mx_cnt += 1\n",
        "    if np.argmax(Y_test_c[x]) == 3:\n",
        "      pe_cnt += 1\n",
        "    if np.argmax(Y_test_c[x]) == 4:\n",
        "      uy_cnt += 1\n",
        "    \n",
        "\n",
        "print(\"costa rica_acc\", round(cr/cr_cnt*100,1), \"%\")\n",
        "print(\"spain_acc\", round(es/es_cnt*100,1), \"%\")\n",
        "print(\"mexico_acc\", round(mx/mx_cnt*100,1), \"%\")\n",
        "print(\"peru_acc\", round(pe/pe_cnt*100,1), \"%\")\n",
        "print(\"uruguay_acc\", round(uy/uy_cnt*100,1), \"%\")\n"
      ],
      "execution_count": 25,
      "outputs": [
        {
          "output_type": "stream",
          "text": [
            "1/1 - 1s\n",
            "1/1 - 0s\n",
            "1/1 - 0s\n",
            "1/1 - 0s\n",
            "1/1 - 0s\n",
            "1/1 - 0s\n",
            "1/1 - 0s\n",
            "1/1 - 0s\n",
            "1/1 - 0s\n",
            "1/1 - 0s\n",
            "1/1 - 0s\n",
            "1/1 - 0s\n",
            "1/1 - 0s\n",
            "1/1 - 0s\n",
            "1/1 - 0s\n",
            "1/1 - 0s\n",
            "1/1 - 0s\n",
            "1/1 - 0s\n",
            "1/1 - 0s\n",
            "1/1 - 0s\n",
            "1/1 - 0s\n",
            "1/1 - 0s\n",
            "1/1 - 0s\n",
            "1/1 - 0s\n",
            "1/1 - 0s\n",
            "1/1 - 0s\n",
            "1/1 - 0s\n",
            "1/1 - 0s\n",
            "1/1 - 0s\n",
            "1/1 - 0s\n",
            "1/1 - 0s\n",
            "1/1 - 0s\n",
            "1/1 - 0s\n",
            "1/1 - 0s\n",
            "1/1 - 0s\n",
            "1/1 - 0s\n",
            "1/1 - 0s\n",
            "1/1 - 0s\n",
            "1/1 - 0s\n",
            "1/1 - 0s\n",
            "1/1 - 0s\n",
            "1/1 - 0s\n",
            "1/1 - 0s\n",
            "1/1 - 0s\n",
            "1/1 - 0s\n",
            "1/1 - 0s\n",
            "1/1 - 0s\n",
            "1/1 - 0s\n",
            "1/1 - 0s\n",
            "1/1 - 0s\n",
            "1/1 - 0s\n",
            "1/1 - 0s\n",
            "1/1 - 0s\n",
            "1/1 - 0s\n",
            "1/1 - 0s\n",
            "1/1 - 0s\n",
            "1/1 - 0s\n",
            "1/1 - 0s\n",
            "1/1 - 0s\n",
            "1/1 - 0s\n",
            "1/1 - 0s\n",
            "1/1 - 0s\n",
            "1/1 - 0s\n",
            "1/1 - 0s\n",
            "1/1 - 0s\n",
            "1/1 - 0s\n",
            "1/1 - 0s\n",
            "1/1 - 0s\n",
            "1/1 - 0s\n",
            "1/1 - 0s\n",
            "1/1 - 0s\n",
            "1/1 - 0s\n",
            "1/1 - 0s\n",
            "1/1 - 0s\n",
            "1/1 - 0s\n",
            "1/1 - 0s\n",
            "1/1 - 0s\n",
            "1/1 - 0s\n",
            "1/1 - 0s\n",
            "1/1 - 0s\n",
            "1/1 - 0s\n",
            "1/1 - 0s\n",
            "1/1 - 0s\n",
            "1/1 - 0s\n",
            "1/1 - 0s\n",
            "1/1 - 0s\n",
            "1/1 - 0s\n",
            "1/1 - 0s\n",
            "1/1 - 0s\n",
            "1/1 - 0s\n",
            "1/1 - 0s\n",
            "1/1 - 0s\n",
            "1/1 - 0s\n",
            "1/1 - 0s\n",
            "1/1 - 0s\n",
            "1/1 - 0s\n",
            "1/1 - 0s\n",
            "1/1 - 0s\n",
            "1/1 - 0s\n",
            "1/1 - 0s\n",
            "1/1 - 0s\n",
            "1/1 - 0s\n",
            "1/1 - 0s\n",
            "1/1 - 0s\n",
            "1/1 - 0s\n",
            "1/1 - 0s\n",
            "1/1 - 0s\n",
            "1/1 - 0s\n",
            "1/1 - 0s\n",
            "1/1 - 0s\n",
            "1/1 - 0s\n",
            "1/1 - 0s\n",
            "1/1 - 0s\n",
            "1/1 - 0s\n",
            "1/1 - 0s\n",
            "1/1 - 0s\n",
            "1/1 - 0s\n",
            "1/1 - 0s\n",
            "1/1 - 0s\n",
            "1/1 - 0s\n",
            "1/1 - 0s\n",
            "1/1 - 0s\n",
            "1/1 - 0s\n",
            "1/1 - 0s\n",
            "1/1 - 0s\n",
            "1/1 - 0s\n",
            "1/1 - 0s\n",
            "1/1 - 0s\n",
            "1/1 - 0s\n",
            "1/1 - 0s\n",
            "1/1 - 0s\n",
            "1/1 - 0s\n",
            "1/1 - 0s\n",
            "1/1 - 0s\n",
            "1/1 - 0s\n",
            "1/1 - 0s\n",
            "1/1 - 0s\n",
            "1/1 - 0s\n",
            "1/1 - 0s\n",
            "1/1 - 0s\n",
            "1/1 - 0s\n",
            "1/1 - 0s\n",
            "1/1 - 0s\n",
            "1/1 - 0s\n",
            "1/1 - 0s\n",
            "1/1 - 0s\n",
            "1/1 - 0s\n",
            "1/1 - 0s\n",
            "1/1 - 0s\n",
            "1/1 - 0s\n",
            "1/1 - 0s\n",
            "1/1 - 0s\n",
            "1/1 - 0s\n",
            "1/1 - 0s\n",
            "1/1 - 0s\n",
            "1/1 - 0s\n",
            "1/1 - 0s\n",
            "1/1 - 0s\n",
            "1/1 - 0s\n",
            "1/1 - 0s\n",
            "1/1 - 0s\n",
            "1/1 - 0s\n",
            "1/1 - 0s\n",
            "1/1 - 0s\n",
            "1/1 - 0s\n",
            "1/1 - 0s\n",
            "1/1 - 0s\n",
            "1/1 - 0s\n",
            "1/1 - 0s\n",
            "1/1 - 0s\n",
            "1/1 - 0s\n",
            "1/1 - 0s\n",
            "1/1 - 0s\n",
            "1/1 - 0s\n",
            "1/1 - 0s\n",
            "1/1 - 0s\n",
            "1/1 - 0s\n",
            "1/1 - 0s\n",
            "1/1 - 0s\n",
            "1/1 - 0s\n",
            "1/1 - 0s\n",
            "1/1 - 0s\n",
            "1/1 - 0s\n",
            "1/1 - 0s\n",
            "1/1 - 0s\n",
            "1/1 - 0s\n",
            "1/1 - 0s\n",
            "1/1 - 0s\n",
            "1/1 - 0s\n",
            "1/1 - 0s\n",
            "1/1 - 0s\n",
            "1/1 - 0s\n",
            "1/1 - 0s\n",
            "1/1 - 0s\n",
            "1/1 - 0s\n",
            "1/1 - 0s\n",
            "1/1 - 0s\n",
            "1/1 - 0s\n",
            "1/1 - 0s\n",
            "1/1 - 0s\n",
            "1/1 - 0s\n",
            "1/1 - 0s\n",
            "1/1 - 0s\n",
            "1/1 - 0s\n",
            "1/1 - 0s\n",
            "1/1 - 0s\n",
            "1/1 - 0s\n",
            "1/1 - 0s\n",
            "1/1 - 0s\n",
            "1/1 - 0s\n",
            "1/1 - 0s\n",
            "1/1 - 0s\n",
            "1/1 - 0s\n",
            "1/1 - 0s\n",
            "1/1 - 0s\n",
            "1/1 - 0s\n",
            "1/1 - 0s\n",
            "1/1 - 0s\n",
            "1/1 - 0s\n",
            "1/1 - 0s\n",
            "1/1 - 0s\n",
            "1/1 - 0s\n",
            "1/1 - 0s\n",
            "1/1 - 0s\n",
            "1/1 - 0s\n",
            "1/1 - 0s\n",
            "1/1 - 0s\n",
            "1/1 - 0s\n",
            "1/1 - 0s\n",
            "1/1 - 0s\n",
            "1/1 - 0s\n",
            "1/1 - 0s\n",
            "1/1 - 0s\n",
            "1/1 - 0s\n",
            "1/1 - 0s\n",
            "1/1 - 0s\n",
            "1/1 - 0s\n",
            "1/1 - 0s\n",
            "1/1 - 0s\n",
            "1/1 - 0s\n",
            "1/1 - 0s\n",
            "1/1 - 0s\n",
            "1/1 - 0s\n",
            "1/1 - 0s\n",
            "1/1 - 0s\n",
            "1/1 - 0s\n",
            "1/1 - 0s\n",
            "1/1 - 0s\n",
            "1/1 - 0s\n",
            "1/1 - 0s\n",
            "1/1 - 0s\n",
            "1/1 - 0s\n",
            "1/1 - 0s\n",
            "1/1 - 0s\n",
            "1/1 - 0s\n",
            "1/1 - 0s\n",
            "1/1 - 0s\n",
            "1/1 - 0s\n",
            "1/1 - 0s\n",
            "1/1 - 0s\n",
            "1/1 - 0s\n",
            "1/1 - 0s\n",
            "1/1 - 0s\n",
            "1/1 - 0s\n",
            "1/1 - 0s\n",
            "1/1 - 0s\n",
            "1/1 - 0s\n",
            "1/1 - 0s\n",
            "1/1 - 0s\n",
            "1/1 - 0s\n",
            "1/1 - 0s\n",
            "1/1 - 0s\n",
            "1/1 - 0s\n",
            "1/1 - 0s\n",
            "1/1 - 0s\n",
            "1/1 - 0s\n",
            "1/1 - 0s\n",
            "1/1 - 0s\n",
            "1/1 - 0s\n",
            "1/1 - 0s\n",
            "1/1 - 0s\n",
            "1/1 - 0s\n",
            "1/1 - 0s\n",
            "1/1 - 0s\n",
            "1/1 - 0s\n",
            "1/1 - 0s\n",
            "1/1 - 0s\n",
            "1/1 - 0s\n",
            "1/1 - 0s\n",
            "1/1 - 0s\n",
            "1/1 - 0s\n",
            "1/1 - 0s\n",
            "1/1 - 0s\n",
            "1/1 - 0s\n",
            "1/1 - 0s\n",
            "1/1 - 0s\n",
            "1/1 - 0s\n",
            "1/1 - 0s\n",
            "1/1 - 0s\n",
            "1/1 - 0s\n",
            "1/1 - 0s\n",
            "1/1 - 0s\n",
            "1/1 - 0s\n",
            "1/1 - 0s\n",
            "1/1 - 0s\n",
            "1/1 - 0s\n",
            "1/1 - 0s\n",
            "1/1 - 0s\n",
            "1/1 - 0s\n",
            "1/1 - 0s\n",
            "1/1 - 0s\n",
            "1/1 - 0s\n",
            "1/1 - 0s\n",
            "1/1 - 0s\n",
            "1/1 - 0s\n",
            "1/1 - 0s\n",
            "1/1 - 0s\n",
            "1/1 - 0s\n",
            "1/1 - 0s\n",
            "1/1 - 0s\n",
            "1/1 - 0s\n",
            "1/1 - 0s\n",
            "1/1 - 0s\n",
            "1/1 - 0s\n",
            "1/1 - 0s\n",
            "1/1 - 0s\n",
            "1/1 - 0s\n",
            "1/1 - 0s\n",
            "1/1 - 0s\n",
            "1/1 - 0s\n",
            "1/1 - 0s\n",
            "1/1 - 0s\n",
            "1/1 - 0s\n",
            "1/1 - 0s\n",
            "1/1 - 0s\n",
            "1/1 - 0s\n",
            "1/1 - 0s\n",
            "1/1 - 0s\n",
            "1/1 - 0s\n",
            "1/1 - 0s\n",
            "1/1 - 0s\n",
            "1/1 - 0s\n",
            "1/1 - 0s\n",
            "1/1 - 0s\n",
            "1/1 - 0s\n",
            "1/1 - 0s\n",
            "1/1 - 0s\n",
            "1/1 - 0s\n",
            "1/1 - 0s\n",
            "1/1 - 0s\n",
            "1/1 - 0s\n",
            "1/1 - 0s\n",
            "1/1 - 0s\n",
            "1/1 - 0s\n",
            "1/1 - 0s\n",
            "1/1 - 0s\n",
            "1/1 - 0s\n",
            "1/1 - 0s\n",
            "1/1 - 0s\n",
            "1/1 - 0s\n",
            "1/1 - 0s\n",
            "1/1 - 0s\n",
            "1/1 - 0s\n",
            "1/1 - 0s\n",
            "1/1 - 0s\n",
            "1/1 - 0s\n",
            "1/1 - 0s\n",
            "1/1 - 0s\n",
            "1/1 - 0s\n",
            "1/1 - 0s\n",
            "1/1 - 0s\n",
            "1/1 - 0s\n",
            "1/1 - 0s\n",
            "1/1 - 0s\n",
            "1/1 - 0s\n",
            "1/1 - 0s\n",
            "1/1 - 0s\n",
            "1/1 - 0s\n",
            "1/1 - 0s\n",
            "1/1 - 0s\n",
            "1/1 - 0s\n",
            "1/1 - 0s\n",
            "1/1 - 0s\n",
            "1/1 - 0s\n",
            "1/1 - 0s\n",
            "1/1 - 0s\n",
            "1/1 - 0s\n",
            "1/1 - 0s\n",
            "1/1 - 0s\n",
            "1/1 - 0s\n",
            "1/1 - 0s\n",
            "1/1 - 0s\n",
            "1/1 - 0s\n",
            "1/1 - 0s\n",
            "1/1 - 0s\n",
            "1/1 - 0s\n",
            "1/1 - 0s\n",
            "1/1 - 0s\n",
            "1/1 - 0s\n",
            "1/1 - 0s\n",
            "1/1 - 0s\n",
            "1/1 - 0s\n",
            "1/1 - 0s\n",
            "1/1 - 0s\n",
            "1/1 - 0s\n",
            "1/1 - 0s\n",
            "1/1 - 0s\n",
            "1/1 - 0s\n",
            "1/1 - 0s\n",
            "1/1 - 0s\n",
            "1/1 - 0s\n",
            "1/1 - 0s\n",
            "1/1 - 0s\n",
            "1/1 - 0s\n",
            "1/1 - 0s\n",
            "1/1 - 0s\n",
            "1/1 - 0s\n",
            "1/1 - 0s\n",
            "1/1 - 0s\n",
            "1/1 - 0s\n",
            "1/1 - 0s\n",
            "1/1 - 0s\n",
            "1/1 - 0s\n",
            "1/1 - 0s\n",
            "1/1 - 0s\n",
            "1/1 - 0s\n",
            "1/1 - 0s\n",
            "1/1 - 0s\n",
            "1/1 - 0s\n",
            "1/1 - 0s\n",
            "1/1 - 0s\n",
            "1/1 - 0s\n",
            "1/1 - 0s\n",
            "1/1 - 0s\n",
            "1/1 - 0s\n",
            "1/1 - 0s\n",
            "1/1 - 0s\n",
            "1/1 - 0s\n",
            "1/1 - 0s\n",
            "1/1 - 0s\n",
            "1/1 - 0s\n",
            "1/1 - 0s\n",
            "1/1 - 0s\n",
            "1/1 - 0s\n",
            "1/1 - 0s\n",
            "1/1 - 0s\n",
            "1/1 - 0s\n",
            "1/1 - 0s\n",
            "1/1 - 0s\n",
            "1/1 - 0s\n",
            "1/1 - 0s\n",
            "1/1 - 0s\n",
            "1/1 - 0s\n",
            "1/1 - 0s\n",
            "1/1 - 0s\n",
            "1/1 - 0s\n",
            "1/1 - 0s\n",
            "1/1 - 0s\n",
            "1/1 - 0s\n",
            "1/1 - 0s\n",
            "1/1 - 0s\n",
            "1/1 - 0s\n",
            "1/1 - 0s\n",
            "1/1 - 0s\n",
            "1/1 - 0s\n",
            "1/1 - 0s\n",
            "1/1 - 0s\n",
            "1/1 - 0s\n",
            "1/1 - 0s\n",
            "1/1 - 0s\n",
            "1/1 - 0s\n",
            "1/1 - 0s\n",
            "1/1 - 0s\n",
            "1/1 - 0s\n",
            "1/1 - 0s\n",
            "1/1 - 0s\n",
            "1/1 - 0s\n",
            "1/1 - 0s\n",
            "1/1 - 0s\n",
            "1/1 - 0s\n",
            "1/1 - 0s\n",
            "1/1 - 0s\n",
            "1/1 - 0s\n",
            "1/1 - 0s\n",
            "1/1 - 0s\n",
            "1/1 - 0s\n",
            "1/1 - 0s\n",
            "1/1 - 0s\n",
            "1/1 - 0s\n",
            "1/1 - 0s\n",
            "1/1 - 0s\n",
            "1/1 - 0s\n",
            "1/1 - 0s\n",
            "1/1 - 0s\n",
            "1/1 - 0s\n",
            "1/1 - 0s\n",
            "1/1 - 0s\n",
            "1/1 - 0s\n",
            "1/1 - 0s\n",
            "1/1 - 0s\n",
            "costa rica_acc 66.9 %\n",
            "spain_acc 62.7 %\n",
            "mexico_acc 58.1 %\n",
            "peru_acc 48.6 %\n",
            "uruguay_acc 38.1 %\n"
          ],
          "name": "stdout"
        }
      ]
    },
    {
      "cell_type": "code",
      "metadata": {
        "colab": {
          "base_uri": "https://localhost:8080/",
          "height": 421
        },
        "id": "5PBGcvV8qZQE",
        "outputId": "d222f98b-7a83-444e-9f93-a1101b83081b"
      },
      "source": [
        "#using the confusion matrix is easier to calculate accuracy and recall\n",
        "\n",
        "from sklearn.metrics import confusion_matrix\n",
        "import matplotlib.pyplot as plt\n",
        "from mlxtend.plotting import plot_confusion_matrix\n",
        "\n",
        "y_pred= model_country.predict(X_test_c).round()\n",
        "\n",
        "# calculates confusion matrix\n",
        "cnf_matrix = confusion_matrix(Y_test_c.argmax(axis=1), y_pred.argmax(axis=1))\n",
        "np.set_printoptions(precision=3)\n",
        "\n",
        "# graph confusion matrix\n",
        "labels = ['CR', 'ES', 'MX', 'PE', 'UY']\n",
        "plt.figure()\n",
        "plot_confusion_matrix(conf_mat = cnf_matrix, figsize = (6,6), class_names = labels, show_absolute = True, show_normed = True)\n",
        "plt.xlabel('Predictions', fontsize=18)\n",
        "plt.ylabel('Actuals', fontsize=18)\n",
        "plt.show()"
      ],
      "execution_count": 26,
      "outputs": [
        {
          "output_type": "display_data",
          "data": {
            "text/plain": [
              "<Figure size 432x288 with 0 Axes>"
            ]
          },
          "metadata": {
            "tags": []
          }
        },
        {
          "output_type": "display_data",
          "data": {
            "image/png": "[encoded data removed]",
            "text/plain": [
              "<Figure size 432x432 with 1 Axes>"
            ]
          },
          "metadata": {
            "tags": [],
            "needs_background": "light"
          }
        }
      ]
    },
    {
      "cell_type": "code",
      "metadata": {
        "id": "HWtUZhUNbDd2"
      },
      "source": [
        "def calculates_acc_recall (country, cnf_matrix):\n",
        "  countries = ['CR', 'ES', 'MX', 'PE', 'UY']\n",
        "  #get country index\n",
        "  i = countries.index(country)\n",
        "  #calculates accuracy\n",
        "  country_recall = cnf_matrix[i][i]/cnf_matrix[i].sum()\n",
        "  #calculates recall\n",
        "  country_precision = cnf_matrix.transpose()[i][i]/cnf_matrix.transpose()[i].sum()\n",
        "\n",
        "  return print('{} recall: {}'.format(country, round(country_recall*100,1)), '%', '\\n'\n",
        "              '{} precision: {}'.format(country, round(country_precision*100,1)), '%')"
      ],
      "execution_count": 27,
      "outputs": []
    },
    {
      "cell_type": "code",
      "metadata": {
        "colab": {
          "base_uri": "https://localhost:8080/"
        },
        "id": "s7_n0qAFlNDR",
        "outputId": "02511dd2-912f-464f-fa4d-52a7f4825989"
      },
      "source": [
        "countries = ['CR', 'ES', 'MX', 'PE','UY']\n",
        "for country in countries:\n",
        "  calculates_acc_recall(country, cnf_matrix)\n",
        "  print('\\n')"
      ],
      "execution_count": 28,
      "outputs": [
        {
          "output_type": "stream",
          "text": [
            "CR recall: 73.9 % \n",
            "CR precision: 55.8 %\n",
            "\n",
            "\n",
            "ES recall: 61.8 % \n",
            "ES precision: 76.5 %\n",
            "\n",
            "\n",
            "MX recall: 50.0 % \n",
            "MX precision: 40.2 %\n",
            "\n",
            "\n",
            "PE recall: 39.3 % \n",
            "PE precision: 48.6 %\n",
            "\n",
            "\n",
            "UY recall: 38.1 % \n",
            "UY precision: 52.8 %\n",
            "\n",
            "\n"
          ],
          "name": "stdout"
        }
      ]
    },
    {
      "cell_type": "markdown",
      "metadata": {
        "id": "AdYWk5Ma0RFu"
      },
      "source": [
        "# **Parte 5 - Balanceo de dataset utilizando SMOTE sampling**\n",
        "Para esta parte utilizaremos SMOTE sampling con el objetivo de tener la misma cantidad de muestras para cada país, generando un dataset más balanceado. Tanto la red neuronal como los hiper-parámetros se mantienen igual de modo de poder comparar resultados."
      ]
    },
    {
      "cell_type": "code",
      "metadata": {
        "id": "Q6lPpYJgaxOB",
        "colab": {
          "base_uri": "https://localhost:8080/"
        },
        "outputId": "f0797943-d4c6-4295-9c1a-3b0ef1f6b480"
      },
      "source": [
        "#Lets balance a bit the dataset\n",
        "\n",
        "from imblearn.over_sampling import SMOTE\n",
        "from sklearn.model_selection import train_test_split\n",
        "\n",
        "# Sampling\n",
        "X_resample, y_resample = SMOTE().fit_sample(X_train_c, Y_train_c)\n",
        "\n",
        "# transforms into nparray\n",
        "y_resample = np.array(y_resample)\n",
        "X_resample = np.array(X_resample)"
      ],
      "execution_count": 29,
      "outputs": [
        {
          "output_type": "stream",
          "text": [
            "/usr/local/lib/python3.7/dist-packages/sklearn/externals/six.py:31: FutureWarning: The module is deprecated in version 0.21 and will be removed in version 0.23 since we've dropped support for Python 2.7. Please rely on the official version of six (https://pypi.org/project/six/).\n",
            "  \"(https://pypi.org/project/six/).\", FutureWarning)\n",
            "/usr/local/lib/python3.7/dist-packages/sklearn/utils/deprecation.py:144: FutureWarning: The sklearn.neighbors.base module is  deprecated in version 0.22 and will be removed in version 0.24. The corresponding classes / functions should instead be imported from sklearn.neighbors. Anything that cannot be imported from sklearn.neighbors is now part of the private API.\n",
            "  warnings.warn(message, FutureWarning)\n",
            "/usr/local/lib/python3.7/dist-packages/sklearn/utils/deprecation.py:87: FutureWarning: Function safe_indexing is deprecated; safe_indexing is deprecated in version 0.22 and will be removed in version 0.24.\n",
            "  warnings.warn(msg, category=FutureWarning)\n",
            "/usr/local/lib/python3.7/dist-packages/sklearn/utils/deprecation.py:87: FutureWarning: Function safe_indexing is deprecated; safe_indexing is deprecated in version 0.22 and will be removed in version 0.24.\n",
            "  warnings.warn(msg, category=FutureWarning)\n",
            "/usr/local/lib/python3.7/dist-packages/sklearn/utils/deprecation.py:87: FutureWarning: Function safe_indexing is deprecated; safe_indexing is deprecated in version 0.22 and will be removed in version 0.24.\n",
            "  warnings.warn(msg, category=FutureWarning)\n",
            "/usr/local/lib/python3.7/dist-packages/sklearn/utils/deprecation.py:87: FutureWarning: Function safe_indexing is deprecated; safe_indexing is deprecated in version 0.22 and will be removed in version 0.24.\n",
            "  warnings.warn(msg, category=FutureWarning)\n"
          ],
          "name": "stderr"
        }
      ]
    },
    {
      "cell_type": "code",
      "metadata": {
        "colab": {
          "base_uri": "https://localhost:8080/"
        },
        "id": "yfIimlKJCjqT",
        "outputId": "2c130844-f2d9-4036-f868-93b5f247d63b"
      },
      "source": [
        "print ('Total datos antes del sampling : ' + str(len(X_train_c)))\n",
        "print ('Total datos de Costa Rica: '+ str(Y_train_c.transpose()[0].sum()))\n",
        "print ('Total datos de España: '+ str(Y_train_c.transpose()[1].sum()))\n",
        "print ('Total datos de Mexico: '+ str(Y_train_c.transpose()[2].sum()))\n",
        "print ('Total datos de Peru: '+ str(Y_train_c.transpose()[3].sum()))\n",
        "print ('Total datos de Uruguay: '+ str(Y_train_c.transpose()[4].sum()))\n",
        "print('\\n')\n",
        "print ('Total datos después del sampling : ' + str(len(X_resample)))\n",
        "print ('Total datos de Costa Rica: '+ str(y_resample.transpose()[0].sum()))\n",
        "print ('Total datos de España: '+ str(y_resample.transpose()[1].sum()))\n",
        "print ('Total datos de Mexico: '+ str(y_resample.transpose()[2].sum()))\n",
        "print ('Total datos de Peru: '+ str(y_resample.transpose()[3].sum()))\n",
        "print ('Total datos de Uruguay: '+ str(y_resample.transpose()[4].sum()))\n"
      ],
      "execution_count": 30,
      "outputs": [
        {
          "output_type": "stream",
          "text": [
            "Total datos antes del sampling : 4397\n",
            "Total datos de Costa Rica: 1010\n",
            "Total datos de España: 1303\n",
            "Total datos de Mexico: 825\n",
            "Total datos de Peru: 563\n",
            "Total datos de Uruguay: 696\n",
            "\n",
            "\n",
            "Total datos después del sampling : 6515\n",
            "Total datos de Costa Rica: 1303\n",
            "Total datos de España: 1303\n",
            "Total datos de Mexico: 1303\n",
            "Total datos de Peru: 1303\n",
            "Total datos de Uruguay: 1303\n"
          ],
          "name": "stdout"
        }
      ]
    },
    {
      "cell_type": "code",
      "metadata": {
        "colab": {
          "base_uri": "https://localhost:8080/"
        },
        "id": "zNbGckzDPM3N",
        "outputId": "a619ec14-48b8-4e1d-d0ec-79dadd84b309"
      },
      "source": [
        "#assembling of neural network for data resampled\n",
        "from keras.models import Sequential\n",
        "from keras.layers import Embedding, LSTM, Dense, Dropout\n",
        "\n",
        "embed_dim = 200\n",
        "\n",
        "model_country_resampled = Sequential()\n",
        "model_country_resampled.add(Embedding(input_dim = max_features, output_dim = embed_dim, input_length = X_c.shape[1]))\n",
        "model_country_resampled.add(Dense(32, activation = 'relu'))\n",
        "model_country_resampled.add(Dropout(0.25))\n",
        "model_country_resampled.add(LSTM(32, dropout = 0.2, recurrent_dropout = 0.2))\n",
        "model_country_resampled.add(Dropout(0.5))\n",
        "model_country_resampled.add(Dense(Y_c.shape[1], activation = 'softmax'))\n",
        "model_country_resampled.summary()"
      ],
      "execution_count": 31,
      "outputs": [
        {
          "output_type": "stream",
          "text": [
            "WARNING:tensorflow:Layer lstm_1 will not use cuDNN kernels since it doesn't meet the criteria. It will use a generic GPU kernel as fallback when running on GPU.\n",
            "Model: \"sequential_1\"\n",
            "_________________________________________________________________\n",
            "Layer (type)                 Output Shape              Param #   \n",
            "=================================================================\n",
            "embedding_1 (Embedding)      (None, 22, 200)           1995400   \n",
            "_________________________________________________________________\n",
            "dense_2 (Dense)              (None, 22, 32)            6432      \n",
            "_________________________________________________________________\n",
            "dropout_2 (Dropout)          (None, 22, 32)            0         \n",
            "_________________________________________________________________\n",
            "lstm_1 (LSTM)                (None, 32)                8320      \n",
            "_________________________________________________________________\n",
            "dropout_3 (Dropout)          (None, 32)                0         \n",
            "_________________________________________________________________\n",
            "dense_3 (Dense)              (None, 5)                 165       \n",
            "=================================================================\n",
            "Total params: 2,010,317\n",
            "Trainable params: 2,010,317\n",
            "Non-trainable params: 0\n",
            "_________________________________________________________________\n"
          ],
          "name": "stdout"
        }
      ]
    },
    {
      "cell_type": "code",
      "metadata": {
        "colab": {
          "base_uri": "https://localhost:8080/"
        },
        "id": "NBuuCwdXcNrJ",
        "outputId": "edad4524-b9b5-4851-b548-46a9a6bdcafa"
      },
      "source": [
        "#compile and train model using resampled data\n",
        "batch_size = 128\n",
        "model_country_resampled.compile(optimizer = 'adam', loss = 'categorical_crossentropy', metrics = ['accuracy'])\n",
        "model_country_resampled.fit(X_resample, y_resample, batch_size = batch_size, epochs = 10, validation_data = (X_validate_c, Y_validate_c))"
      ],
      "execution_count": 32,
      "outputs": [
        {
          "output_type": "stream",
          "text": [
            "Epoch 1/10\n",
            "51/51 [==============================] - 14s 180ms/step - loss: 1.6089 - accuracy: 0.2133 - val_loss: 1.6013 - val_accuracy: 0.3440\n",
            "Epoch 2/10\n",
            "51/51 [==============================] - 8s 149ms/step - loss: 1.5900 - accuracy: 0.3133 - val_loss: 1.5468 - val_accuracy: 0.3480\n",
            "Epoch 3/10\n",
            "51/51 [==============================] - 8s 155ms/step - loss: 1.4540 - accuracy: 0.4252 - val_loss: 1.4574 - val_accuracy: 0.4240\n",
            "Epoch 4/10\n",
            "51/51 [==============================] - 8s 160ms/step - loss: 1.0636 - accuracy: 0.6073 - val_loss: 1.2835 - val_accuracy: 0.5280\n",
            "Epoch 5/10\n",
            "51/51 [==============================] - 8s 156ms/step - loss: 0.7179 - accuracy: 0.7671 - val_loss: 1.2536 - val_accuracy: 0.5580\n",
            "Epoch 6/10\n",
            "51/51 [==============================] - 8s 151ms/step - loss: 0.5059 - accuracy: 0.8480 - val_loss: 1.3256 - val_accuracy: 0.5800\n",
            "Epoch 7/10\n",
            "51/51 [==============================] - 8s 151ms/step - loss: 0.4000 - accuracy: 0.8728 - val_loss: 1.3943 - val_accuracy: 0.6000\n",
            "Epoch 8/10\n",
            "51/51 [==============================] - 8s 154ms/step - loss: 0.2963 - accuracy: 0.9030 - val_loss: 1.4403 - val_accuracy: 0.5960\n",
            "Epoch 9/10\n",
            "51/51 [==============================] - 8s 155ms/step - loss: 0.2759 - accuracy: 0.9162 - val_loss: 1.5233 - val_accuracy: 0.6120\n",
            "Epoch 10/10\n",
            "51/51 [==============================] - 8s 156ms/step - loss: 0.2404 - accuracy: 0.9279 - val_loss: 1.6096 - val_accuracy: 0.6200\n"
          ],
          "name": "stdout"
        },
        {
          "output_type": "execute_result",
          "data": {
            "text/plain": [
              "<keras.callbacks.History at 0x7fd47aef47d0>"
            ]
          },
          "metadata": {
            "tags": []
          },
          "execution_count": 32
        }
      ]
    },
    {
      "cell_type": "code",
      "metadata": {
        "colab": {
          "base_uri": "https://localhost:8080/"
        },
        "id": "iYryVQYKdkoc",
        "outputId": "79213dea-e152-4514-8479-4cc93cd58a33"
      },
      "source": [
        "#check score and accuracy in test set\n",
        "score_c,acc_c = model_country_resampled.evaluate(X_test_c, Y_test_c, batch_size = batch_size)\n",
        "print(\"Score: %.2f\" % (score_c))\n",
        "print(\"Acc: %.2f\" % (acc_c))"
      ],
      "execution_count": 33,
      "outputs": [
        {
          "output_type": "stream",
          "text": [
            "14/14 [==============================] - 0s 11ms/step - loss: 1.6823 - accuracy: 0.5819\n",
            "Score: 1.68\n",
            "Acc: 0.58\n"
          ],
          "name": "stdout"
        }
      ]
    },
    {
      "cell_type": "code",
      "metadata": {
        "colab": {
          "base_uri": "https://localhost:8080/",
          "height": 421
        },
        "id": "mvdJPHEXdW3s",
        "outputId": "566837df-4f1c-4aac-ff1d-458cfe1ce4b0"
      },
      "source": [
        "#using the confusion matrix is easier to calculate accuracy and recall\n",
        "\n",
        "from sklearn.metrics import confusion_matrix\n",
        "import matplotlib.pyplot as plt\n",
        "from mlxtend.plotting import plot_confusion_matrix\n",
        "\n",
        "y_pred= model_country_resampled.predict(X_test_c).round()\n",
        "\n",
        "# calculates confusion matrix\n",
        "cnf_matrix_resampled = confusion_matrix(Y_test_c.argmax(axis=1), y_pred.argmax(axis=1))\n",
        "np.set_printoptions(precision=3)\n",
        "\n",
        "# graph confusion matrix\n",
        "labels = ['CR', 'ES', 'MX', 'PE', 'UY']\n",
        "plt.figure()\n",
        "plot_confusion_matrix(conf_mat = cnf_matrix_resampled, figsize = (6,6), class_names = labels, show_absolute = True, show_normed = True)\n",
        "plt.xlabel('Predictions', fontsize=18)\n",
        "plt.ylabel('Actuals', fontsize=18)\n",
        "plt.show()"
      ],
      "execution_count": 34,
      "outputs": [
        {
          "output_type": "display_data",
          "data": {
            "text/plain": [
              "<Figure size 432x288 with 0 Axes>"
            ]
          },
          "metadata": {
            "tags": []
          }
        },
        {
          "output_type": "display_data",
          "data": {
            "image/png": "[encoded data removed]",
            "text/plain": [
              "<Figure size 432x432 with 1 Axes>"
            ]
          },
          "metadata": {
            "tags": [],
            "needs_background": "light"
          }
        }
      ]
    },
    {
      "cell_type": "code",
      "metadata": {
        "colab": {
          "base_uri": "https://localhost:8080/"
        },
        "id": "J6Ks0EXBdr-h",
        "outputId": "d5ba1523-ed11-4288-af89-ade0807042b0"
      },
      "source": [
        "countries = ['CR', 'ES', 'MX', 'PE', 'UY']\n",
        "for country in countries:\n",
        "  calculates_acc_recall(country, cnf_matrix_resampled)\n",
        "  print('\\n')"
      ],
      "execution_count": 35,
      "outputs": [
        {
          "output_type": "stream",
          "text": [
            "CR recall: 75.9 % \n",
            "CR precision: 54.7 %\n",
            "\n",
            "\n",
            "ES recall: 55.4 % \n",
            "ES precision: 82.9 %\n",
            "\n",
            "\n",
            "MX recall: 36.9 % \n",
            "MX precision: 54.2 %\n",
            "\n",
            "\n",
            "PE recall: 59.4 % \n",
            "PE precision: 43.8 %\n",
            "\n",
            "\n",
            "UY recall: 54.5 % \n",
            "UY precision: 48.9 %\n",
            "\n",
            "\n"
          ],
          "name": "stdout"
        }
      ]
    }
  ]
}