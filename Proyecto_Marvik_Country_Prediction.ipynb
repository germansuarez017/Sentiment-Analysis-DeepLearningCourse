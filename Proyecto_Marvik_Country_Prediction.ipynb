{
  "nbformat": 4,
  "nbformat_minor": 0,
  "metadata": {
    "accelerator": "GPU",
    "colab": {
      "name": "Proyecto Marvik Country Prediction.ipynb",
      "provenance": [],
      "collapsed_sections": [],
      "authorship_tag": "ABX9TyO2FGapkK4tvnTRxmQNVgho",
      "include_colab_link": true
    },
    "kernelspec": {
      "display_name": "Python 3",
      "name": "python3"
    },
    "language_info": {
      "name": "python"
    }
  },
  "cells": [
    {
      "cell_type": "markdown",
      "metadata": {
        "id": "view-in-github",
        "colab_type": "text"
      },
      "source": [
        "<a href=\"https://colab.research.google.com/github/germansuarez017/Sentiment-Analysis-DeepLearningCourse/blob/main/Proyecto_Marvik_Country_Prediction.ipynb\" target=\"_parent\"><img src=\"https://colab.research.google.com/assets/colab-badge.svg\" alt=\"Open In Colab\"/></a>"
      ]
    },
    {
      "cell_type": "markdown",
      "metadata": {
        "id": "eD934LGNzC2F"
      },
      "source": [
        "# **Proyecto Marvick - Country Prediction**\n",
        "Para este proyecto utilizaremos tweets etiquetados provenientes de países hispanohablantes (Costa Rica, España, México, Perú, Puerto Rico y Uruguay) conseguidos de la página de TASS: Workshop on Semantic Analysis at SEPLN -http://tass.sepln.org/-.\n",
        "\n",
        "En la primer parte intentaremos predecir el sentimiento (Positivo o Negativo) de los tweets utilizando una red neuronal LSTM.\n",
        "Para la segunda parte del ejercicio nos concentraremos en predecir el país de origen de los tweets utilizando una red neuronal LSTM y aplicando SMOTE sampling"
      ]
    },
    {
      "cell_type": "code",
      "metadata": {
        "id": "P2LGFCRyczx0"
      },
      "source": [
        "# from google.colab import drive\n",
        "# drive.mount('/content/drive')"
      ],
      "execution_count": 1,
      "outputs": []
    },
    {
      "cell_type": "code",
      "metadata": {
        "colab": {
          "base_uri": "https://localhost:8080/"
        },
        "id": "2zyqJGkVHgJS",
        "outputId": "1f5a0d6f-a8e6-4c91-8adb-19865145713b"
      },
      "source": [
        "#upgrade library for plotting the confusion matrix\n",
        "%pip install mlxtend --upgrade"
      ],
      "execution_count": 2,
      "outputs": [
        {
          "output_type": "stream",
          "text": [
            "Requirement already satisfied: mlxtend in /usr/local/lib/python3.7/dist-packages (0.14.0)\n",
            "Collecting mlxtend\n",
            "  Downloading mlxtend-0.18.0-py2.py3-none-any.whl (1.3 MB)\n",
            "\u001b[K     |████████████████████████████████| 1.3 MB 4.2 MB/s \n",
            "\u001b[?25hRequirement already satisfied: joblib>=0.13.2 in /usr/local/lib/python3.7/dist-packages (from mlxtend) (1.0.1)\n",
            "Requirement already satisfied: scikit-learn>=0.20.3 in /usr/local/lib/python3.7/dist-packages (from mlxtend) (0.22.2.post1)\n",
            "Requirement already satisfied: numpy>=1.16.2 in /usr/local/lib/python3.7/dist-packages (from mlxtend) (1.19.5)\n",
            "Requirement already satisfied: matplotlib>=3.0.0 in /usr/local/lib/python3.7/dist-packages (from mlxtend) (3.2.2)\n",
            "Requirement already satisfied: pandas>=0.24.2 in /usr/local/lib/python3.7/dist-packages (from mlxtend) (1.1.5)\n",
            "Requirement already satisfied: scipy>=1.2.1 in /usr/local/lib/python3.7/dist-packages (from mlxtend) (1.4.1)\n",
            "Requirement already satisfied: setuptools in /usr/local/lib/python3.7/dist-packages (from mlxtend) (57.2.0)\n",
            "Requirement already satisfied: pyparsing!=2.0.4,!=2.1.2,!=2.1.6,>=2.0.1 in /usr/local/lib/python3.7/dist-packages (from matplotlib>=3.0.0->mlxtend) (2.4.7)\n",
            "Requirement already satisfied: python-dateutil>=2.1 in /usr/local/lib/python3.7/dist-packages (from matplotlib>=3.0.0->mlxtend) (2.8.1)\n",
            "Requirement already satisfied: cycler>=0.10 in /usr/local/lib/python3.7/dist-packages (from matplotlib>=3.0.0->mlxtend) (0.10.0)\n",
            "Requirement already satisfied: kiwisolver>=1.0.1 in /usr/local/lib/python3.7/dist-packages (from matplotlib>=3.0.0->mlxtend) (1.3.1)\n",
            "Requirement already satisfied: six in /usr/local/lib/python3.7/dist-packages (from cycler>=0.10->matplotlib>=3.0.0->mlxtend) (1.15.0)\n",
            "Requirement already satisfied: pytz>=2017.2 in /usr/local/lib/python3.7/dist-packages (from pandas>=0.24.2->mlxtend) (2018.9)\n",
            "Installing collected packages: mlxtend\n",
            "  Attempting uninstall: mlxtend\n",
            "    Found existing installation: mlxtend 0.14.0\n",
            "    Uninstalling mlxtend-0.14.0:\n",
            "      Successfully uninstalled mlxtend-0.14.0\n",
            "Successfully installed mlxtend-0.18.0\n"
          ],
          "name": "stdout"
        }
      ]
    },
    {
      "cell_type": "code",
      "metadata": {
        "colab": {
          "base_uri": "https://localhost:8080/"
        },
        "id": "lYHYGRnU4xdu",
        "outputId": "15006836-3272-474d-b91d-a8775b5777ce"
      },
      "source": [
        "#clone github repository\n",
        "! git clone https://github.com/germansuarez017/Sentiment-Analysis-DeepLearningCourse.git"
      ],
      "execution_count": 3,
      "outputs": [
        {
          "output_type": "stream",
          "text": [
            "Cloning into 'Sentiment-Analysis-DeepLearningCourse'...\n",
            "remote: Enumerating objects: 44, done.\u001b[K\n",
            "remote: Counting objects: 100% (44/44), done.\u001b[K\n",
            "remote: Compressing objects: 100% (42/42), done.\u001b[K\n",
            "remote: Total 44 (delta 14), reused 0 (delta 0), pack-reused 0\u001b[K\n",
            "Unpacking objects: 100% (44/44), done.\n"
          ],
          "name": "stdout"
        }
      ]
    },
    {
      "cell_type": "markdown",
      "metadata": {
        "id": "otGVqTlhzeOs"
      },
      "source": [
        "# **Parte 1 - Armado de dataframe**\n",
        "\n",
        "Primero pasaremos los diferentes archivos XML a un dataframe de pandas donde podremos ver la etiqueta del sentimiento asociado y de que país proviene. En una segunda instancia, eliminaremos los tweets que no tienen etiqueta o si la misma es neutral quedándonos solo con los sentimientos positivos y negativos."
      ]
    },
    {
      "cell_type": "code",
      "metadata": {
        "id": "NsstNkOkKIvZ"
      },
      "source": [
        "#unzip files\n",
        "! unzip '/content/Sentiment-Analysis-DeepLearningCourse/XML_files.zip' > /dev/null"
      ],
      "execution_count": 4,
      "outputs": []
    },
    {
      "cell_type": "code",
      "metadata": {
        "id": "k2WveSforxbR"
      },
      "source": [
        "#function to replace spanish punctuations in order not to loose the letters afterwards\n",
        "def normalize(s):\n",
        "    replacements = (\n",
        "        ('á', 'a'),\n",
        "        ('é', 'e'),\n",
        "        ('í', 'i'),\n",
        "        ('ó', 'o'),\n",
        "        ('ú', 'u'),\n",
        "        ('ñ', 'n')\n",
        "    )\n",
        "    for a, b in replacements:\n",
        "        s = s.replace(a, b).replace(a.upper(), b.upper())\n",
        "    return s"
      ],
      "execution_count": 5,
      "outputs": []
    },
    {
      "cell_type": "code",
      "metadata": {
        "id": "YPOFf3GrclhC"
      },
      "source": [
        "import pandas as pd\n",
        "import numpy as np\n",
        "import re\n",
        "import os\n",
        "import glob\n",
        "# this library is needed to read XML files for converting it into CSV\n",
        "import xml.etree.ElementTree as ET\n",
        "import shutil\n",
        "import csv\n",
        "\n",
        "# Convert xml files into one CSV\n",
        "# Function that will extract column data for our CSV file\n",
        "# ET = Element tree is used to parse, navigate, explore and populate xml files\n",
        "def xml_to_csv(path):\n",
        "    '''\n",
        "    Creates a dataframe populated with the XML information\n",
        "    :param path: path to the folder containing the XML files\n",
        "    :return: a dataframe with the information from the XML files\n",
        "    '''\n",
        "    xml_list = []\n",
        "    dataset_type = ''\n",
        "    for xml_file in glob.glob(path + '/*.xml'):\n",
        "        \n",
        "        #checks what type of dataset is\n",
        "        if 'train' in xml_file:\n",
        "          dataset_type = 'train'\n",
        "        if 'test' in xml_file:\n",
        "          dataset_type = 'test'\n",
        "        if 'dev' in xml_file:\n",
        "          dataset_type = 'val'\n",
        "        \n",
        "        #checks country\n",
        "        country = xml_file[36:38]\n",
        "        \n",
        "        tree = ET.parse(xml_file)                           # Reads the xml file and initialize the tree\n",
        "        root = tree.getroot()\n",
        "        \n",
        "        for tweet in root.findall('tweet'):\n",
        "          value = (normalize(tweet.find('content').text),\n",
        "                   tweet.find('date').text,\n",
        "                   tweet.find('sentiment')[0][0].text,\n",
        "                   country,\n",
        "                   dataset_type)\n",
        "          xml_list.append(value)\n",
        "    column_name = ['tweet_unclean', 'date', 'sentiment', 'country', 'dataset_type']\n",
        "    xml_df = pd.DataFrame(xml_list, columns = column_name)\n",
        "    return xml_df"
      ],
      "execution_count": 6,
      "outputs": []
    },
    {
      "cell_type": "code",
      "metadata": {
        "id": "tCfJld3Cfiom"
      },
      "source": [
        "#converts xml files into csv\n",
        "path_xml = '/content/XML_files'\n",
        "df = xml_to_csv(path_xml)"
      ],
      "execution_count": 7,
      "outputs": []
    },
    {
      "cell_type": "code",
      "metadata": {
        "id": "rVtxogDSDRuK"
      },
      "source": [
        "#discard test tweets, they are untagged\n",
        "df = df[df.dataset_type != 'test']\n",
        "\n",
        "#lets stay with the tweets, sentiment and country\n",
        "df = df[['tweet_unclean', 'sentiment', 'country']]\n",
        "\n",
        "#discard NEU or NONE tags\n",
        "df = df[df.sentiment != 'NEU']\n",
        "df = df[df.sentiment != 'NONE']"
      ],
      "execution_count": 8,
      "outputs": []
    },
    {
      "cell_type": "code",
      "metadata": {
        "id": "jwG-xnDQlWMA"
      },
      "source": [
        "#converts dataframe to csv\n",
        "# path = '/content/Sentiment-Analysis-DeepLearningCourse'\n",
        "# df.to_csv(path + '/' + 'tweetslatinamerica.csv')"
      ],
      "execution_count": 9,
      "outputs": []
    },
    {
      "cell_type": "markdown",
      "metadata": {
        "id": "5jh8AHw61KXP"
      },
      "source": [
        "Viendo el gráfico debajo podemos concluir que el dataset está relativamente balanceado."
      ]
    },
    {
      "cell_type": "code",
      "metadata": {
        "colab": {
          "base_uri": "https://localhost:8080/",
          "height": 265
        },
        "id": "86uQtu3EDyB_",
        "outputId": "86501265-c1e8-408e-9432-12d439aa51a3"
      },
      "source": [
        "#check how many positive and negative tags are in the dataset\n",
        "ax = df['sentiment'].value_counts(sort=False).plot(kind='barh')"
      ],
      "execution_count": 10,
      "outputs": [
        {
          "output_type": "display_data",
          "data": {
            "image/png": "[encoded data removed]",
            "text/plain": [
              "<Figure size 432x288 with 1 Axes>"
            ]
          },
          "metadata": {
            "tags": [],
            "needs_background": "light"
          }
        }
      ]
    },
    {
      "cell_type": "markdown",
      "metadata": {
        "id": "xLVymj042G_v"
      },
      "source": [
        "# **Parte 2 - Limpieza de tweets**\n",
        "En esta parte limpiaremos los tweets de la siguiente manera:\n",
        "- Pasaremos todo a lowercase\n",
        "- Quitaremos punctuaciones y símbolos\n",
        "- Quitaremos las referencias a los retweets (rt)\n",
        "- Quitaremos las stopwords\n",
        "- Haremos un stemmering, intentando achicar el vocabulario total\n",
        "- Quitaremos todos los caractéres que no sean alfabéticos\n",
        "\n",
        "Luego utilizaremos CountVectorizer de ScikitLearn para contar cuantas palabras tiene el dataset y obtener las más utilizadas."
      ]
    },
    {
      "cell_type": "code",
      "metadata": {
        "colab": {
          "base_uri": "https://localhost:8080/"
        },
        "id": "a-iY5c9Abrmv",
        "outputId": "a1e7204a-c825-4fd8-fef5-f63da25e9715"
      },
      "source": [
        "#nltk librería de análisis de lenguaje\n",
        "import nltk\n",
        "from nltk.corpus import stopwords\n",
        "from nltk.stem import SnowballStemmer\n",
        "stemmer = SnowballStemmer('spanish')\n",
        "\n",
        "#imports spanish stopwords\n",
        "nltk.download('stopwords')\n",
        "stopwords = set(stopwords.words('spanish'))\n",
        "\n",
        "#function to clean tweets\n",
        "def clean_tweets(tweet):\n",
        "  #lowercase\n",
        "  tweet = tweet.lower()\n",
        "  #removes punctiations\n",
        "  tweet = re.sub(r'[^a-zA-Z0-9]', ' ', tweet)\n",
        "  #delete retweets references\n",
        "  tweet = tweet.replace(' rt ', '')\n",
        "  #remove stopwords\n",
        "  tweet = [word for word in tweet.split(sep = ' ') if word not in stopwords]\n",
        "  #stemming words\n",
        "  tweet = [stemmer.stem(word) for word in tweet]\n",
        "  #stay with alphanumeric characters\n",
        "  tweet = [word for word in tweet if word.isalpha()]\n",
        "\n",
        "  return ' '.join(tweet)"
      ],
      "execution_count": 11,
      "outputs": [
        {
          "output_type": "stream",
          "text": [
            "[nltk_data] Downloading package stopwords to /root/nltk_data...\n",
            "[nltk_data]   Unzipping corpora/stopwords.zip.\n"
          ],
          "name": "stdout"
        }
      ]
    },
    {
      "cell_type": "code",
      "metadata": {
        "id": "6lXnszNsVFaA"
      },
      "source": [
        "#apply function to clean text creating a new column that will have the cleaned text\n",
        "df['tweet'] = df['tweet_unclean'].apply(lambda x: clean_tweets(x))"
      ],
      "execution_count": 12,
      "outputs": []
    },
    {
      "cell_type": "code",
      "metadata": {
        "colab": {
          "base_uri": "https://localhost:8080/"
        },
        "id": "v8iaMEMLTPM7",
        "outputId": "e0027c42-15a1-432b-9888-fee6c896ec0b"
      },
      "source": [
        "#check how it looks the cleaned tweets¿¨\n",
        "for i in range(0,5):\n",
        "  print('unclean: {}'.format(df['tweet_unclean'].iloc[i]),'\\n', 'clean: {}'.format(df['tweet'].iloc[i]))\n",
        "  print('-----------------------------')\n"
      ],
      "execution_count": 13,
      "outputs": [
        {
          "output_type": "stream",
          "text": [
            "unclean: El primer ano que empece a vivir lejos de mi casa mami me llamaba todos los dias, ya no, se pasan los dias y nada, el amor se acaba \n",
            " clean: prim ano empec viv lej cas mami llam dias pas dias amor acab\n",
            "-----------------------------\n",
            "unclean: @TomasZumad Ando peor que Tinkerbell en sus anos mozos. ¿Y si nos vemos hoy? Tia se fue a la romeria, estoy sola y tengo maqueta q hacer. \n",
            " clean: tomaszum ando peor tinkerbell anos moz si vem hoy tia romeri sol maquet q hac\n",
            "-----------------------------\n",
            "unclean: Estabamos subrayando en Sociales y el apellido de un mae era \"Kagame\", y soy tan inmadura que no pare de reirme por casi toda la leccion. \n",
            " clean: estab subray social apell mae kagam tan inmadur par reirm casi tod leccion\n",
            "-----------------------------\n",
            "unclean: \"El es raro, pero es hay q estar demasiado mal de la cabeza para querer estar con alguien tan danada como yo\". -Yo, hablando con mi papa. \n",
            " clean: rar q demasi mal cabez quer algui tan dan habl pap\n",
            "-----------------------------\n",
            "unclean: En teoria el comic SS no se basa solo en el Joker asi que es bola de ridiculos deberia de relaje la puta nalga y dejar al flaco en paz \n",
            " clean: teori comic ss bas sol jok asi bol ridicul deberi relaj put nalg dej flac paz\n",
            "-----------------------------\n"
          ],
          "name": "stdout"
        }
      ]
    },
    {
      "cell_type": "code",
      "metadata": {
        "colab": {
          "base_uri": "https://localhost:8080/"
        },
        "id": "5-A6NM358q5g",
        "outputId": "f54949f9-5120-42f0-e79b-55b7472afe23"
      },
      "source": [
        "from sklearn.feature_extraction.text import CountVectorizer\n",
        "\n",
        "#counts how many words are in the dataset\n",
        "countvectorizer = CountVectorizer()\n",
        "countVector = countvectorizer.fit_transform(df['tweet'])\n",
        "print('{} Number of reviews has {} words'.format(countVector.shape[0], countVector.shape[1]))"
      ],
      "execution_count": 14,
      "outputs": [
        {
          "output_type": "stream",
          "text": [
            "7037 Number of reviews has 9977 words\n"
          ],
          "name": "stdout"
        }
      ]
    },
    {
      "cell_type": "code",
      "metadata": {
        "colab": {
          "base_uri": "https://localhost:8080/",
          "height": 252
        },
        "id": "EWTmK6ww8uks",
        "outputId": "1f854c01-199b-475c-e444-ca20fe884387"
      },
      "source": [
        "#use countvectorizer to create a dataframe with all the words in columns\n",
        "count_vect_df = pd.DataFrame(countVector.toarray(), columns=countvectorizer.get_feature_names())\n",
        "count_vect_df.head()"
      ],
      "execution_count": 15,
      "outputs": [
        {
          "output_type": "execute_result",
          "data": {
            "text/html": [
              "<div>\n",
              "<style scoped>\n",
              "    .dataframe tbody tr th:only-of-type {\n",
              "        vertical-align: middle;\n",
              "    }\n",
              "\n",
              "    .dataframe tbody tr th {\n",
              "        vertical-align: top;\n",
              "    }\n",
              "\n",
              "    .dataframe thead th {\n",
              "        text-align: right;\n",
              "    }\n",
              "</style>\n",
              "<table border=\"1\" class=\"dataframe\">\n",
              "  <thead>\n",
              "    <tr style=\"text-align: right;\">\n",
              "      <th></th>\n",
              "      <th>aaa</th>\n",
              "      <th>aaaa</th>\n",
              "      <th>aaaaaay</th>\n",
              "      <th>aaaaajajajajajajajajaj</th>\n",
              "      <th>aaah</th>\n",
              "      <th>aaron</th>\n",
              "      <th>ab</th>\n",
              "      <th>abac</th>\n",
              "      <th>abaj</th>\n",
              "      <th>abandon</th>\n",
              "      <th>abandonadisim</th>\n",
              "      <th>abarc</th>\n",
              "      <th>abarrot</th>\n",
              "      <th>abast</th>\n",
              "      <th>abat</th>\n",
              "      <th>abby</th>\n",
              "      <th>abcdesignat</th>\n",
              "      <th>abdiel</th>\n",
              "      <th>abdielsmusic</th>\n",
              "      <th>abdom</th>\n",
              "      <th>abedul</th>\n",
              "      <th>abeftlouis</th>\n",
              "      <th>abel</th>\n",
              "      <th>aberron</th>\n",
              "      <th>abieeflor</th>\n",
              "      <th>abiert</th>\n",
              "      <th>abis</th>\n",
              "      <th>ablo</th>\n",
              "      <th>abord</th>\n",
              "      <th>abordaj</th>\n",
              "      <th>abossus</th>\n",
              "      <th>abrac</th>\n",
              "      <th>abraham</th>\n",
              "      <th>abrahamers</th>\n",
              "      <th>abrahammateoenuruguay</th>\n",
              "      <th>abrahammateomus</th>\n",
              "      <th>abram</th>\n",
              "      <th>abraz</th>\n",
              "      <th>abrazar</th>\n",
              "      <th>abrazart</th>\n",
              "      <th>...</th>\n",
              "      <th>zaharapop</th>\n",
              "      <th>zahirecoronel</th>\n",
              "      <th>zamruv</th>\n",
              "      <th>zanain</th>\n",
              "      <th>zapat</th>\n",
              "      <th>zapatill</th>\n",
              "      <th>zapd</th>\n",
              "      <th>zapejuan</th>\n",
              "      <th>zapot</th>\n",
              "      <th>zaragoz</th>\n",
              "      <th>zarcer</th>\n",
              "      <th>zarp</th>\n",
              "      <th>zaval</th>\n",
              "      <th>zayn</th>\n",
              "      <th>zeld</th>\n",
              "      <th>zeped</th>\n",
              "      <th>zepol</th>\n",
              "      <th>zer</th>\n",
              "      <th>zeroanim</th>\n",
              "      <th>zet</th>\n",
              "      <th>zgz</th>\n",
              "      <th>zi</th>\n",
              "      <th>zick</th>\n",
              "      <th>ziempr</th>\n",
              "      <th>zinoscrew</th>\n",
              "      <th>zoestrang</th>\n",
              "      <th>zombi</th>\n",
              "      <th>zombiepolar</th>\n",
              "      <th>zommix</th>\n",
              "      <th>zon</th>\n",
              "      <th>zonz</th>\n",
              "      <th>zoo</th>\n",
              "      <th>zorr</th>\n",
              "      <th>zoy</th>\n",
              "      <th>zum</th>\n",
              "      <th>zumb</th>\n",
              "      <th>zumbadisim</th>\n",
              "      <th>zumoo</th>\n",
              "      <th>zung</th>\n",
              "      <th>zylx</th>\n",
              "    </tr>\n",
              "  </thead>\n",
              "  <tbody>\n",
              "    <tr>\n",
              "      <th>0</th>\n",
              "      <td>0</td>\n",
              "      <td>0</td>\n",
              "      <td>0</td>\n",
              "      <td>0</td>\n",
              "      <td>0</td>\n",
              "      <td>0</td>\n",
              "      <td>0</td>\n",
              "      <td>0</td>\n",
              "      <td>0</td>\n",
              "      <td>0</td>\n",
              "      <td>0</td>\n",
              "      <td>0</td>\n",
              "      <td>0</td>\n",
              "      <td>0</td>\n",
              "      <td>0</td>\n",
              "      <td>0</td>\n",
              "      <td>0</td>\n",
              "      <td>0</td>\n",
              "      <td>0</td>\n",
              "      <td>0</td>\n",
              "      <td>0</td>\n",
              "      <td>0</td>\n",
              "      <td>0</td>\n",
              "      <td>0</td>\n",
              "      <td>0</td>\n",
              "      <td>0</td>\n",
              "      <td>0</td>\n",
              "      <td>0</td>\n",
              "      <td>0</td>\n",
              "      <td>0</td>\n",
              "      <td>0</td>\n",
              "      <td>0</td>\n",
              "      <td>0</td>\n",
              "      <td>0</td>\n",
              "      <td>0</td>\n",
              "      <td>0</td>\n",
              "      <td>0</td>\n",
              "      <td>0</td>\n",
              "      <td>0</td>\n",
              "      <td>0</td>\n",
              "      <td>...</td>\n",
              "      <td>0</td>\n",
              "      <td>0</td>\n",
              "      <td>0</td>\n",
              "      <td>0</td>\n",
              "      <td>0</td>\n",
              "      <td>0</td>\n",
              "      <td>0</td>\n",
              "      <td>0</td>\n",
              "      <td>0</td>\n",
              "      <td>0</td>\n",
              "      <td>0</td>\n",
              "      <td>0</td>\n",
              "      <td>0</td>\n",
              "      <td>0</td>\n",
              "      <td>0</td>\n",
              "      <td>0</td>\n",
              "      <td>0</td>\n",
              "      <td>0</td>\n",
              "      <td>0</td>\n",
              "      <td>0</td>\n",
              "      <td>0</td>\n",
              "      <td>0</td>\n",
              "      <td>0</td>\n",
              "      <td>0</td>\n",
              "      <td>0</td>\n",
              "      <td>0</td>\n",
              "      <td>0</td>\n",
              "      <td>0</td>\n",
              "      <td>0</td>\n",
              "      <td>0</td>\n",
              "      <td>0</td>\n",
              "      <td>0</td>\n",
              "      <td>0</td>\n",
              "      <td>0</td>\n",
              "      <td>0</td>\n",
              "      <td>0</td>\n",
              "      <td>0</td>\n",
              "      <td>0</td>\n",
              "      <td>0</td>\n",
              "      <td>0</td>\n",
              "    </tr>\n",
              "    <tr>\n",
              "      <th>1</th>\n",
              "      <td>0</td>\n",
              "      <td>0</td>\n",
              "      <td>0</td>\n",
              "      <td>0</td>\n",
              "      <td>0</td>\n",
              "      <td>0</td>\n",
              "      <td>0</td>\n",
              "      <td>0</td>\n",
              "      <td>0</td>\n",
              "      <td>0</td>\n",
              "      <td>0</td>\n",
              "      <td>0</td>\n",
              "      <td>0</td>\n",
              "      <td>0</td>\n",
              "      <td>0</td>\n",
              "      <td>0</td>\n",
              "      <td>0</td>\n",
              "      <td>0</td>\n",
              "      <td>0</td>\n",
              "      <td>0</td>\n",
              "      <td>0</td>\n",
              "      <td>0</td>\n",
              "      <td>0</td>\n",
              "      <td>0</td>\n",
              "      <td>0</td>\n",
              "      <td>0</td>\n",
              "      <td>0</td>\n",
              "      <td>0</td>\n",
              "      <td>0</td>\n",
              "      <td>0</td>\n",
              "      <td>0</td>\n",
              "      <td>0</td>\n",
              "      <td>0</td>\n",
              "      <td>0</td>\n",
              "      <td>0</td>\n",
              "      <td>0</td>\n",
              "      <td>0</td>\n",
              "      <td>0</td>\n",
              "      <td>0</td>\n",
              "      <td>0</td>\n",
              "      <td>...</td>\n",
              "      <td>0</td>\n",
              "      <td>0</td>\n",
              "      <td>0</td>\n",
              "      <td>0</td>\n",
              "      <td>0</td>\n",
              "      <td>0</td>\n",
              "      <td>0</td>\n",
              "      <td>0</td>\n",
              "      <td>0</td>\n",
              "      <td>0</td>\n",
              "      <td>0</td>\n",
              "      <td>0</td>\n",
              "      <td>0</td>\n",
              "      <td>0</td>\n",
              "      <td>0</td>\n",
              "      <td>0</td>\n",
              "      <td>0</td>\n",
              "      <td>0</td>\n",
              "      <td>0</td>\n",
              "      <td>0</td>\n",
              "      <td>0</td>\n",
              "      <td>0</td>\n",
              "      <td>0</td>\n",
              "      <td>0</td>\n",
              "      <td>0</td>\n",
              "      <td>0</td>\n",
              "      <td>0</td>\n",
              "      <td>0</td>\n",
              "      <td>0</td>\n",
              "      <td>0</td>\n",
              "      <td>0</td>\n",
              "      <td>0</td>\n",
              "      <td>0</td>\n",
              "      <td>0</td>\n",
              "      <td>0</td>\n",
              "      <td>0</td>\n",
              "      <td>0</td>\n",
              "      <td>0</td>\n",
              "      <td>0</td>\n",
              "      <td>0</td>\n",
              "    </tr>\n",
              "    <tr>\n",
              "      <th>2</th>\n",
              "      <td>0</td>\n",
              "      <td>0</td>\n",
              "      <td>0</td>\n",
              "      <td>0</td>\n",
              "      <td>0</td>\n",
              "      <td>0</td>\n",
              "      <td>0</td>\n",
              "      <td>0</td>\n",
              "      <td>0</td>\n",
              "      <td>0</td>\n",
              "      <td>0</td>\n",
              "      <td>0</td>\n",
              "      <td>0</td>\n",
              "      <td>0</td>\n",
              "      <td>0</td>\n",
              "      <td>0</td>\n",
              "      <td>0</td>\n",
              "      <td>0</td>\n",
              "      <td>0</td>\n",
              "      <td>0</td>\n",
              "      <td>0</td>\n",
              "      <td>0</td>\n",
              "      <td>0</td>\n",
              "      <td>0</td>\n",
              "      <td>0</td>\n",
              "      <td>0</td>\n",
              "      <td>0</td>\n",
              "      <td>0</td>\n",
              "      <td>0</td>\n",
              "      <td>0</td>\n",
              "      <td>0</td>\n",
              "      <td>0</td>\n",
              "      <td>0</td>\n",
              "      <td>0</td>\n",
              "      <td>0</td>\n",
              "      <td>0</td>\n",
              "      <td>0</td>\n",
              "      <td>0</td>\n",
              "      <td>0</td>\n",
              "      <td>0</td>\n",
              "      <td>...</td>\n",
              "      <td>0</td>\n",
              "      <td>0</td>\n",
              "      <td>0</td>\n",
              "      <td>0</td>\n",
              "      <td>0</td>\n",
              "      <td>0</td>\n",
              "      <td>0</td>\n",
              "      <td>0</td>\n",
              "      <td>0</td>\n",
              "      <td>0</td>\n",
              "      <td>0</td>\n",
              "      <td>0</td>\n",
              "      <td>0</td>\n",
              "      <td>0</td>\n",
              "      <td>0</td>\n",
              "      <td>0</td>\n",
              "      <td>0</td>\n",
              "      <td>0</td>\n",
              "      <td>0</td>\n",
              "      <td>0</td>\n",
              "      <td>0</td>\n",
              "      <td>0</td>\n",
              "      <td>0</td>\n",
              "      <td>0</td>\n",
              "      <td>0</td>\n",
              "      <td>0</td>\n",
              "      <td>0</td>\n",
              "      <td>0</td>\n",
              "      <td>0</td>\n",
              "      <td>0</td>\n",
              "      <td>0</td>\n",
              "      <td>0</td>\n",
              "      <td>0</td>\n",
              "      <td>0</td>\n",
              "      <td>0</td>\n",
              "      <td>0</td>\n",
              "      <td>0</td>\n",
              "      <td>0</td>\n",
              "      <td>0</td>\n",
              "      <td>0</td>\n",
              "    </tr>\n",
              "    <tr>\n",
              "      <th>3</th>\n",
              "      <td>0</td>\n",
              "      <td>0</td>\n",
              "      <td>0</td>\n",
              "      <td>0</td>\n",
              "      <td>0</td>\n",
              "      <td>0</td>\n",
              "      <td>0</td>\n",
              "      <td>0</td>\n",
              "      <td>0</td>\n",
              "      <td>0</td>\n",
              "      <td>0</td>\n",
              "      <td>0</td>\n",
              "      <td>0</td>\n",
              "      <td>0</td>\n",
              "      <td>0</td>\n",
              "      <td>0</td>\n",
              "      <td>0</td>\n",
              "      <td>0</td>\n",
              "      <td>0</td>\n",
              "      <td>0</td>\n",
              "      <td>0</td>\n",
              "      <td>0</td>\n",
              "      <td>0</td>\n",
              "      <td>0</td>\n",
              "      <td>0</td>\n",
              "      <td>0</td>\n",
              "      <td>0</td>\n",
              "      <td>0</td>\n",
              "      <td>0</td>\n",
              "      <td>0</td>\n",
              "      <td>0</td>\n",
              "      <td>0</td>\n",
              "      <td>0</td>\n",
              "      <td>0</td>\n",
              "      <td>0</td>\n",
              "      <td>0</td>\n",
              "      <td>0</td>\n",
              "      <td>0</td>\n",
              "      <td>0</td>\n",
              "      <td>0</td>\n",
              "      <td>...</td>\n",
              "      <td>0</td>\n",
              "      <td>0</td>\n",
              "      <td>0</td>\n",
              "      <td>0</td>\n",
              "      <td>0</td>\n",
              "      <td>0</td>\n",
              "      <td>0</td>\n",
              "      <td>0</td>\n",
              "      <td>0</td>\n",
              "      <td>0</td>\n",
              "      <td>0</td>\n",
              "      <td>0</td>\n",
              "      <td>0</td>\n",
              "      <td>0</td>\n",
              "      <td>0</td>\n",
              "      <td>0</td>\n",
              "      <td>0</td>\n",
              "      <td>0</td>\n",
              "      <td>0</td>\n",
              "      <td>0</td>\n",
              "      <td>0</td>\n",
              "      <td>0</td>\n",
              "      <td>0</td>\n",
              "      <td>0</td>\n",
              "      <td>0</td>\n",
              "      <td>0</td>\n",
              "      <td>0</td>\n",
              "      <td>0</td>\n",
              "      <td>0</td>\n",
              "      <td>0</td>\n",
              "      <td>0</td>\n",
              "      <td>0</td>\n",
              "      <td>0</td>\n",
              "      <td>0</td>\n",
              "      <td>0</td>\n",
              "      <td>0</td>\n",
              "      <td>0</td>\n",
              "      <td>0</td>\n",
              "      <td>0</td>\n",
              "      <td>0</td>\n",
              "    </tr>\n",
              "    <tr>\n",
              "      <th>4</th>\n",
              "      <td>0</td>\n",
              "      <td>0</td>\n",
              "      <td>0</td>\n",
              "      <td>0</td>\n",
              "      <td>0</td>\n",
              "      <td>0</td>\n",
              "      <td>0</td>\n",
              "      <td>0</td>\n",
              "      <td>0</td>\n",
              "      <td>0</td>\n",
              "      <td>0</td>\n",
              "      <td>0</td>\n",
              "      <td>0</td>\n",
              "      <td>0</td>\n",
              "      <td>0</td>\n",
              "      <td>0</td>\n",
              "      <td>0</td>\n",
              "      <td>0</td>\n",
              "      <td>0</td>\n",
              "      <td>0</td>\n",
              "      <td>0</td>\n",
              "      <td>0</td>\n",
              "      <td>0</td>\n",
              "      <td>0</td>\n",
              "      <td>0</td>\n",
              "      <td>0</td>\n",
              "      <td>0</td>\n",
              "      <td>0</td>\n",
              "      <td>0</td>\n",
              "      <td>0</td>\n",
              "      <td>0</td>\n",
              "      <td>0</td>\n",
              "      <td>0</td>\n",
              "      <td>0</td>\n",
              "      <td>0</td>\n",
              "      <td>0</td>\n",
              "      <td>0</td>\n",
              "      <td>0</td>\n",
              "      <td>0</td>\n",
              "      <td>0</td>\n",
              "      <td>...</td>\n",
              "      <td>0</td>\n",
              "      <td>0</td>\n",
              "      <td>0</td>\n",
              "      <td>0</td>\n",
              "      <td>0</td>\n",
              "      <td>0</td>\n",
              "      <td>0</td>\n",
              "      <td>0</td>\n",
              "      <td>0</td>\n",
              "      <td>0</td>\n",
              "      <td>0</td>\n",
              "      <td>0</td>\n",
              "      <td>0</td>\n",
              "      <td>0</td>\n",
              "      <td>0</td>\n",
              "      <td>0</td>\n",
              "      <td>0</td>\n",
              "      <td>0</td>\n",
              "      <td>0</td>\n",
              "      <td>0</td>\n",
              "      <td>0</td>\n",
              "      <td>0</td>\n",
              "      <td>0</td>\n",
              "      <td>0</td>\n",
              "      <td>0</td>\n",
              "      <td>0</td>\n",
              "      <td>0</td>\n",
              "      <td>0</td>\n",
              "      <td>0</td>\n",
              "      <td>0</td>\n",
              "      <td>0</td>\n",
              "      <td>0</td>\n",
              "      <td>0</td>\n",
              "      <td>0</td>\n",
              "      <td>0</td>\n",
              "      <td>0</td>\n",
              "      <td>0</td>\n",
              "      <td>0</td>\n",
              "      <td>0</td>\n",
              "      <td>0</td>\n",
              "    </tr>\n",
              "  </tbody>\n",
              "</table>\n",
              "<p>5 rows × 9977 columns</p>\n",
              "</div>"
            ],
            "text/plain": [
              "   aaa  aaaa  aaaaaay  aaaaajajajajajajajajaj  ...  zumbadisim  zumoo  zung  zylx\n",
              "0    0     0        0                       0  ...           0      0     0     0\n",
              "1    0     0        0                       0  ...           0      0     0     0\n",
              "2    0     0        0                       0  ...           0      0     0     0\n",
              "3    0     0        0                       0  ...           0      0     0     0\n",
              "4    0     0        0                       0  ...           0      0     0     0\n",
              "\n",
              "[5 rows x 9977 columns]"
            ]
          },
          "metadata": {
            "tags": []
          },
          "execution_count": 15
        }
      ]
    },
    {
      "cell_type": "code",
      "metadata": {
        "colab": {
          "base_uri": "https://localhost:8080/",
          "height": 326
        },
        "id": "BMWHDMu58xkS",
        "outputId": "52e28d0d-51b4-4fc0-baeb-6d0dd0d1ac9f"
      },
      "source": [
        "#shows most used words\n",
        "count = pd.DataFrame(count_vect_df.sum())\n",
        "countdf = count.sort_values(0,ascending=False).head(20)\n",
        "countdf[0:9]"
      ],
      "execution_count": 16,
      "outputs": [
        {
          "output_type": "execute_result",
          "data": {
            "text/html": [
              "<div>\n",
              "<style scoped>\n",
              "    .dataframe tbody tr th:only-of-type {\n",
              "        vertical-align: middle;\n",
              "    }\n",
              "\n",
              "    .dataframe tbody tr th {\n",
              "        vertical-align: top;\n",
              "    }\n",
              "\n",
              "    .dataframe thead th {\n",
              "        text-align: right;\n",
              "    }\n",
              "</style>\n",
              "<table border=\"1\" class=\"dataframe\">\n",
              "  <thead>\n",
              "    <tr style=\"text-align: right;\">\n",
              "      <th></th>\n",
              "      <th>0</th>\n",
              "    </tr>\n",
              "  </thead>\n",
              "  <tbody>\n",
              "    <tr>\n",
              "      <th>buen</th>\n",
              "      <td>774</td>\n",
              "    </tr>\n",
              "    <tr>\n",
              "      <th>si</th>\n",
              "      <td>653</td>\n",
              "    </tr>\n",
              "    <tr>\n",
              "      <th>mas</th>\n",
              "      <td>600</td>\n",
              "    </tr>\n",
              "    <tr>\n",
              "      <th>hac</th>\n",
              "      <td>525</td>\n",
              "    </tr>\n",
              "    <tr>\n",
              "      <th>mejor</th>\n",
              "      <td>410</td>\n",
              "    </tr>\n",
              "    <tr>\n",
              "      <th>quier</th>\n",
              "      <td>400</td>\n",
              "    </tr>\n",
              "    <tr>\n",
              "      <th>sol</th>\n",
              "      <td>391</td>\n",
              "    </tr>\n",
              "    <tr>\n",
              "      <th>ser</th>\n",
              "      <td>377</td>\n",
              "    </tr>\n",
              "    <tr>\n",
              "      <th>pas</th>\n",
              "      <td>372</td>\n",
              "    </tr>\n",
              "  </tbody>\n",
              "</table>\n",
              "</div>"
            ],
            "text/plain": [
              "         0\n",
              "buen   774\n",
              "si     653\n",
              "mas    600\n",
              "hac    525\n",
              "mejor  410\n",
              "quier  400\n",
              "sol    391\n",
              "ser    377\n",
              "pas    372"
            ]
          },
          "metadata": {
            "tags": []
          },
          "execution_count": 16
        }
      ]
    },
    {
      "cell_type": "markdown",
      "metadata": {
        "id": "M1-cBy4MfKUe"
      },
      "source": [
        "# **Parte 3 - Estudio del dataset**\n",
        "Primeo estudiaremos un poco el dataset, veremos cuantos tweets tenemos para cada uno de los países presentes en proporción del total.\n",
        "Viendo el gráfico circular se puede apreciar que España es el país que cuenta con más tweets, contrario a Puerto Rico que apenas representa un 7% de los tweets totales. Debido a la poca proporción de tweets para este último país, lo excluiremos del análisis."
      ]
    },
    {
      "cell_type": "code",
      "metadata": {
        "id": "P2g3So3ZhNSf"
      },
      "source": [
        "# =======================================\n",
        "# COUNTRY PREDICTION\n",
        "# ======================================="
      ],
      "execution_count": 17,
      "outputs": []
    },
    {
      "cell_type": "code",
      "metadata": {
        "colab": {
          "base_uri": "https://localhost:8080/",
          "height": 405
        },
        "id": "8L5huwinFP8s",
        "outputId": "30dc6c25-5b19-463d-8f3a-960406fd1cef"
      },
      "source": [
        "#creates pie chart to see the how many tweets has each country\n",
        "import matplotlib.pyplot as plt\n",
        "\n",
        "#group by countries\n",
        "country_counts = df.groupby(['country'])['country'].count()\n",
        "\n",
        "#same groupby but in percentage (not used actually)\n",
        "country_percentage = round((country_counts/country_counts.sum())*100)\n",
        "\n",
        "#change country names for more suitables\n",
        "country_percentage.rename(index= {'CR':'Costa Rica', 'ES': 'Spain', 'MX': 'Mexico', 'PE': 'Peru', 'PR': 'Puerto Rico', 'UY':'Uruguay',}, inplace=True)\n",
        "\n",
        "#get the labels\n",
        "country_labels = country_percentage.index\n",
        "\n",
        "# colors=['green', 'blue', 'red', 'yellow', 'orange', 'brown']\n",
        "#create a circle for the center of the plot\n",
        "circle = plt.Circle( (0,0), radius = 1.2, color='white')\n",
        "plt.pie(country_percentage, labels = country_labels, radius = 2, textprops = {'fontsize':'xx-large'}, autopct='%1.0f%%', pctdistance=0.8, labeldistance=1.1)\n",
        "p=plt.gcf()\n",
        "p.gca().add_artist(circle)\n",
        "plt.show()"
      ],
      "execution_count": 18,
      "outputs": [
        {
          "output_type": "display_data",
          "data": {
            "image/png": "[encoded data removed]",
            "text/plain": [
              "<Figure size 432x288 with 1 Axes>"
            ]
          },
          "metadata": {
            "tags": []
          }
        }
      ]
    },
    {
      "cell_type": "markdown",
      "metadata": {
        "id": "nlQoCZEugwG7"
      },
      "source": [
        "Para las siguientes partes procederemos de manera similar a cuando hicimos el análisis de sentimiento, la única diferencia es que ahora nuestras etiquetas son los países y nos olvidaremos de los sentimientos."
      ]
    },
    {
      "cell_type": "code",
      "metadata": {
        "id": "XXuKLMLZoZp9"
      },
      "source": [
        "from keras.preprocessing.text import Tokenizer\n",
        "from keras.preprocessing.sequence import pad_sequences\n",
        "\n",
        "#exclude Puerto Rico due to very low samples\n",
        "df_country = df[df.country != 'PR']\n",
        "\n",
        "#the features will be the amount of words\n",
        "max_features = countVector.shape[1]\n",
        "\n",
        "#initilize Tokenizer\n",
        "tokenizer = Tokenizer(num_words = max_features, split =' ')\n",
        "\n",
        "#training\n",
        "tokenizer.fit_on_texts(df_country['tweet'].values)\n",
        "\n",
        "#transforms tweets in numeric arrays\n",
        "X1_c = tokenizer.texts_to_sequences(df_country['tweet'].values)\n",
        "\n",
        "#transforms all sequences into same length\n",
        "X_c = pad_sequences(X1_c)"
      ],
      "execution_count": 19,
      "outputs": []
    },
    {
      "cell_type": "code",
      "metadata": {
        "id": "OaXcv6MkgSsp"
      },
      "source": [
        "#instead of predicting the sentiment we ar going to predict the country\n",
        "from sklearn.model_selection import train_test_split\n",
        "\n",
        "#dummies for country\n",
        "Y_c = pd.get_dummies(df_country['country']).values\n",
        "\n",
        "#train and test separation\n",
        "X_train_c, X_test_c, Y_train_c, Y_test_c = train_test_split(X_c, Y_c, test_size = 0.33, random_state = 42)"
      ],
      "execution_count": 20,
      "outputs": []
    },
    {
      "cell_type": "code",
      "metadata": {
        "id": "HvZlGSpeg8HU"
      },
      "source": [
        "#create validation set with 1000 tweets\n",
        "validation_size = 500\n",
        "\n",
        "X_validate_c = X_test_c[-validation_size:]\n",
        "Y_validate_c = Y_test_c[-validation_size:]\n",
        "X_test_c = X_test_c[:-validation_size]\n",
        "Y_test_c = Y_test_c[:-validation_size]"
      ],
      "execution_count": 21,
      "outputs": []
    },
    {
      "cell_type": "markdown",
      "metadata": {
        "id": "3f5Ei3_Gzrn8"
      },
      "source": [
        "# **Parte 4 - Ensamble de la red neuronal y entrenamiento**\n",
        "La red estará compuesta por las siguientes capas:\n",
        "- Embedding con un output_dim de 200\n",
        "- Densa con 32 unidades y activación relu\n",
        "- Dropout (0.25)\n",
        "- LSTM de 32 unidades\n",
        "- Droput (0.5)\n",
        "- Densa con 5 unidades (una por país) y activación softmax\n",
        "\n",
        "Compilaremos el modelo utilizando el optimizador adam, la función de los categorical_crossentropy y accuracy para las métricas. Entrenaremos con 10 epochs y un batch_size de 128. \n"
      ]
    },
    {
      "cell_type": "code",
      "metadata": {
        "colab": {
          "base_uri": "https://localhost:8080/"
        },
        "id": "Q7tFKsl3hgj1",
        "outputId": "4970a34b-17bf-4a3b-dd92-9a7aba9fa707"
      },
      "source": [
        "#assembling of neural network\n",
        "from keras.models import Sequential\n",
        "from keras.layers import Embedding, LSTM, Dense, Dropout, Flatten\n",
        "\n",
        "# foir this part the embedding dimension will larger than the sentiment part\n",
        "embed_dim = 200\n",
        "\n",
        "model_country = Sequential()\n",
        "model_country.add(Embedding(input_dim = max_features, output_dim = embed_dim, input_length = X_c.shape[1]))\n",
        "model_country.add(Dense(32, activation = 'relu'))\n",
        "model_country.add(Dropout(0.25))\n",
        "model_country.add(LSTM(32, dropout = 0.2, recurrent_dropout = 0.2))\n",
        "model_country.add(Dropout(0.5))\n",
        "model_country.add(Dense(Y_c.shape[1], activation = 'softmax'))\n",
        "model_country.summary()"
      ],
      "execution_count": 22,
      "outputs": [
        {
          "output_type": "stream",
          "text": [
            "WARNING:tensorflow:Layer lstm will not use cuDNN kernels since it doesn't meet the criteria. It will use a generic GPU kernel as fallback when running on GPU.\n",
            "Model: \"sequential\"\n",
            "_________________________________________________________________\n",
            "Layer (type)                 Output Shape              Param #   \n",
            "=================================================================\n",
            "embedding (Embedding)        (None, 22, 200)           1995400   \n",
            "_________________________________________________________________\n",
            "dense (Dense)                (None, 22, 32)            6432      \n",
            "_________________________________________________________________\n",
            "dropout (Dropout)            (None, 22, 32)            0         \n",
            "_________________________________________________________________\n",
            "lstm (LSTM)                  (None, 32)                8320      \n",
            "_________________________________________________________________\n",
            "dropout_1 (Dropout)          (None, 32)                0         \n",
            "_________________________________________________________________\n",
            "dense_1 (Dense)              (None, 5)                 165       \n",
            "=================================================================\n",
            "Total params: 2,010,317\n",
            "Trainable params: 2,010,317\n",
            "Non-trainable params: 0\n",
            "_________________________________________________________________\n"
          ],
          "name": "stdout"
        }
      ]
    },
    {
      "cell_type": "code",
      "metadata": {
        "colab": {
          "base_uri": "https://localhost:8080/"
        },
        "id": "qqL3lswdhLHC",
        "outputId": "7bfa3056-7fff-4822-a134-605fb27715c8"
      },
      "source": [
        "#compile and train model\n",
        "batch_size = 128\n",
        "model_country.compile(optimizer = 'adam', loss = 'categorical_crossentropy', metrics = ['accuracy'])\n",
        "model_country.fit(X_train_c, Y_train_c, batch_size = batch_size, epochs = 10, validation_data = (X_validate_c, Y_validate_c))"
      ],
      "execution_count": 23,
      "outputs": [
        {
          "output_type": "stream",
          "text": [
            "Epoch 1/10\n",
            "35/35 [==============================] - 27s 148ms/step - loss: 1.5982 - accuracy: 0.2522 - val_loss: 1.5477 - val_accuracy: 0.2940\n",
            "Epoch 2/10\n",
            "35/35 [==============================] - 4s 112ms/step - loss: 1.5531 - accuracy: 0.3056 - val_loss: 1.5234 - val_accuracy: 0.2940\n",
            "Epoch 3/10\n",
            "35/35 [==============================] - 4s 113ms/step - loss: 1.4599 - accuracy: 0.3615 - val_loss: 1.3546 - val_accuracy: 0.4560\n",
            "Epoch 4/10\n",
            "35/35 [==============================] - 4s 114ms/step - loss: 1.0692 - accuracy: 0.5922 - val_loss: 1.2125 - val_accuracy: 0.5360\n",
            "Epoch 5/10\n",
            "35/35 [==============================] - 4s 117ms/step - loss: 0.6998 - accuracy: 0.7783 - val_loss: 1.2273 - val_accuracy: 0.5820\n",
            "Epoch 6/10\n",
            "35/35 [==============================] - 4s 117ms/step - loss: 0.4572 - accuracy: 0.8607 - val_loss: 1.3393 - val_accuracy: 0.6020\n",
            "Epoch 7/10\n",
            "35/35 [==============================] - 4s 114ms/step - loss: 0.3397 - accuracy: 0.9083 - val_loss: 1.3329 - val_accuracy: 0.6120\n",
            "Epoch 8/10\n",
            "35/35 [==============================] - 4s 111ms/step - loss: 0.2476 - accuracy: 0.9324 - val_loss: 1.4068 - val_accuracy: 0.6160\n",
            "Epoch 9/10\n",
            "35/35 [==============================] - 4s 115ms/step - loss: 0.2020 - accuracy: 0.9427 - val_loss: 1.5484 - val_accuracy: 0.5980\n",
            "Epoch 10/10\n",
            "35/35 [==============================] - 4s 111ms/step - loss: 0.1572 - accuracy: 0.9588 - val_loss: 1.5966 - val_accuracy: 0.6120\n"
          ],
          "name": "stdout"
        },
        {
          "output_type": "execute_result",
          "data": {
            "text/plain": [
              "<keras.callbacks.History at 0x7f1c302e5590>"
            ]
          },
          "metadata": {
            "tags": []
          },
          "execution_count": 23
        }
      ]
    },
    {
      "cell_type": "code",
      "metadata": {
        "colab": {
          "base_uri": "https://localhost:8080/"
        },
        "id": "UCgR4WySk6te",
        "outputId": "bb6ffc1a-f705-4907-c7a7-f49b30564ab6"
      },
      "source": [
        "#check score and accuracy in test set\n",
        "score_c,acc_c = model_country.evaluate(X_test_c, Y_test_c, batch_size = batch_size)\n",
        "print(\"Score: %.2f\" % (score_c))\n",
        "print(\"Acc: %.2f\" % (acc_c))"
      ],
      "execution_count": 24,
      "outputs": [
        {
          "output_type": "stream",
          "text": [
            "14/14 [==============================] - 0s 8ms/step - loss: 1.7149 - accuracy: 0.5735\n",
            "Score: 1.71\n",
            "Acc: 0.57\n"
          ],
          "name": "stdout"
        }
      ]
    },
    {
      "cell_type": "code",
      "metadata": {
        "id": "hYeqRb3FjiSY",
        "colab": {
          "base_uri": "https://localhost:8080/"
        },
        "outputId": "f00c578f-4670-440d-bfa4-f1a32beaa373"
      },
      "source": [
        "import numpy as np\n",
        "cr, es, mx, pe, uy = 0, 0, 0, 0, 0\n",
        "cr_cnt, es_cnt, mx_cnt, pe_cnt, uy_cnt = 0, 0, 0, 0, 0\n",
        "\n",
        "for x in range(len(X_validate_c)):\n",
        "    \n",
        "    result = model_country.predict(X_test_c[x].reshape(1,X_test_c.shape[1]),batch_size=1,verbose = 2)[0]\n",
        "\n",
        "    if np.argmax(result) == np.argmax(Y_test_c[x]):\n",
        "\n",
        "        if np.argmax(Y_test_c[x]) == 0:\n",
        "          cr += 1\n",
        "        if np.argmax(Y_test_c[x]) == 1:\n",
        "          es +=1\n",
        "        if np.argmax(Y_test_c[x]) == 2:\n",
        "          mx +=1\n",
        "        if np.argmax(Y_test_c[x]) == 3:\n",
        "          pe +=1\n",
        "        if np.argmax(Y_test_c[x]) == 4:\n",
        "          uy +=1\n",
        "\n",
        "    if np.argmax(Y_test_c[x]) == 0:\n",
        "      cr_cnt += 1\n",
        "    if np.argmax(Y_test_c[x]) == 1:\n",
        "      es_cnt += 1\n",
        "    if np.argmax(Y_test_c[x]) == 2:\n",
        "      mx_cnt += 1\n",
        "    if np.argmax(Y_test_c[x]) == 3:\n",
        "      pe_cnt += 1\n",
        "    if np.argmax(Y_test_c[x]) == 4:\n",
        "      uy_cnt += 1\n",
        "    \n",
        "\n",
        "print(\"costa rica_acc\", round(cr/cr_cnt*100,1), \"%\")\n",
        "print(\"spain_acc\", round(es/es_cnt*100,1), \"%\")\n",
        "print(\"mexico_acc\", round(mx/mx_cnt*100,1), \"%\")\n",
        "print(\"peru_acc\", round(pe/pe_cnt*100,1), \"%\")\n",
        "print(\"uruguay_acc\", round(uy/uy_cnt*100,1), \"%\")\n"
      ],
      "execution_count": 25,
      "outputs": [
        {
          "output_type": "stream",
          "text": [
            "1/1 - 1s\n",
            "1/1 - 0s\n",
            "1/1 - 0s\n",
            "1/1 - 0s\n",
            "1/1 - 0s\n",
            "1/1 - 0s\n",
            "1/1 - 0s\n",
            "1/1 - 0s\n",
            "1/1 - 0s\n",
            "1/1 - 0s\n",
            "1/1 - 0s\n",
            "1/1 - 0s\n",
            "1/1 - 0s\n",
            "1/1 - 0s\n",
            "1/1 - 0s\n",
            "1/1 - 0s\n",
            "1/1 - 0s\n",
            "1/1 - 0s\n",
            "1/1 - 0s\n",
            "1/1 - 0s\n",
            "1/1 - 0s\n",
            "1/1 - 0s\n",
            "1/1 - 0s\n",
            "1/1 - 0s\n",
            "1/1 - 0s\n",
            "1/1 - 0s\n",
            "1/1 - 0s\n",
            "1/1 - 0s\n",
            "1/1 - 0s\n",
            "1/1 - 0s\n",
            "1/1 - 0s\n",
            "1/1 - 0s\n",
            "1/1 - 0s\n",
            "1/1 - 0s\n",
            "1/1 - 0s\n",
            "1/1 - 0s\n",
            "1/1 - 0s\n",
            "1/1 - 0s\n",
            "1/1 - 0s\n",
            "1/1 - 0s\n",
            "1/1 - 0s\n",
            "1/1 - 0s\n",
            "1/1 - 0s\n",
            "1/1 - 0s\n",
            "1/1 - 0s\n",
            "1/1 - 0s\n",
            "1/1 - 0s\n",
            "1/1 - 0s\n",
            "1/1 - 0s\n",
            "1/1 - 0s\n",
            "1/1 - 0s\n",
            "1/1 - 0s\n",
            "1/1 - 0s\n",
            "1/1 - 0s\n",
            "1/1 - 0s\n",
            "1/1 - 0s\n",
            "1/1 - 0s\n",
            "1/1 - 0s\n",
            "1/1 - 0s\n",
            "1/1 - 0s\n",
            "1/1 - 0s\n",
            "1/1 - 0s\n",
            "1/1 - 0s\n",
            "1/1 - 0s\n",
            "1/1 - 0s\n",
            "1/1 - 0s\n",
            "1/1 - 0s\n",
            "1/1 - 0s\n",
            "1/1 - 0s\n",
            "1/1 - 0s\n",
            "1/1 - 0s\n",
            "1/1 - 0s\n",
            "1/1 - 0s\n",
            "1/1 - 0s\n",
            "1/1 - 0s\n",
            "1/1 - 0s\n",
            "1/1 - 0s\n",
            "1/1 - 0s\n",
            "1/1 - 0s\n",
            "1/1 - 0s\n",
            "1/1 - 0s\n",
            "1/1 - 0s\n",
            "1/1 - 0s\n",
            "1/1 - 0s\n",
            "1/1 - 0s\n",
            "1/1 - 0s\n",
            "1/1 - 0s\n",
            "1/1 - 0s\n",
            "1/1 - 0s\n",
            "1/1 - 0s\n",
            "1/1 - 0s\n",
            "1/1 - 0s\n",
            "1/1 - 0s\n",
            "1/1 - 0s\n",
            "1/1 - 0s\n",
            "1/1 - 0s\n",
            "1/1 - 0s\n",
            "1/1 - 0s\n",
            "1/1 - 0s\n",
            "1/1 - 0s\n",
            "1/1 - 0s\n",
            "1/1 - 0s\n",
            "1/1 - 0s\n",
            "1/1 - 0s\n",
            "1/1 - 0s\n",
            "1/1 - 0s\n",
            "1/1 - 0s\n",
            "1/1 - 0s\n",
            "1/1 - 0s\n",
            "1/1 - 0s\n",
            "1/1 - 0s\n",
            "1/1 - 0s\n",
            "1/1 - 0s\n",
            "1/1 - 0s\n",
            "1/1 - 0s\n",
            "1/1 - 0s\n",
            "1/1 - 0s\n",
            "1/1 - 0s\n",
            "1/1 - 0s\n",
            "1/1 - 0s\n",
            "1/1 - 0s\n",
            "1/1 - 0s\n",
            "1/1 - 0s\n",
            "1/1 - 0s\n",
            "1/1 - 0s\n",
            "1/1 - 0s\n",
            "1/1 - 0s\n",
            "1/1 - 0s\n",
            "1/1 - 0s\n",
            "1/1 - 0s\n",
            "1/1 - 0s\n",
            "1/1 - 0s\n",
            "1/1 - 0s\n",
            "1/1 - 0s\n",
            "1/1 - 0s\n",
            "1/1 - 0s\n",
            "1/1 - 0s\n",
            "1/1 - 0s\n",
            "1/1 - 0s\n",
            "1/1 - 0s\n",
            "1/1 - 0s\n",
            "1/1 - 0s\n",
            "1/1 - 0s\n",
            "1/1 - 0s\n",
            "1/1 - 0s\n",
            "1/1 - 0s\n",
            "1/1 - 0s\n",
            "1/1 - 0s\n",
            "1/1 - 0s\n",
            "1/1 - 0s\n",
            "1/1 - 0s\n",
            "1/1 - 0s\n",
            "1/1 - 0s\n",
            "1/1 - 0s\n",
            "1/1 - 0s\n",
            "1/1 - 0s\n",
            "1/1 - 0s\n",
            "1/1 - 0s\n",
            "1/1 - 0s\n",
            "1/1 - 0s\n",
            "1/1 - 0s\n",
            "1/1 - 0s\n",
            "1/1 - 0s\n",
            "1/1 - 0s\n",
            "1/1 - 0s\n",
            "1/1 - 0s\n",
            "1/1 - 0s\n",
            "1/1 - 0s\n",
            "1/1 - 0s\n",
            "1/1 - 0s\n",
            "1/1 - 0s\n",
            "1/1 - 0s\n",
            "1/1 - 0s\n",
            "1/1 - 0s\n",
            "1/1 - 0s\n",
            "1/1 - 0s\n",
            "1/1 - 0s\n",
            "1/1 - 0s\n",
            "1/1 - 0s\n",
            "1/1 - 0s\n",
            "1/1 - 0s\n",
            "1/1 - 0s\n",
            "1/1 - 0s\n",
            "1/1 - 0s\n",
            "1/1 - 0s\n",
            "1/1 - 0s\n",
            "1/1 - 0s\n",
            "1/1 - 0s\n",
            "1/1 - 0s\n",
            "1/1 - 0s\n",
            "1/1 - 0s\n",
            "1/1 - 0s\n",
            "1/1 - 0s\n",
            "1/1 - 0s\n",
            "1/1 - 0s\n",
            "1/1 - 0s\n",
            "1/1 - 0s\n",
            "1/1 - 0s\n",
            "1/1 - 0s\n",
            "1/1 - 0s\n",
            "1/1 - 0s\n",
            "1/1 - 0s\n",
            "1/1 - 0s\n",
            "1/1 - 0s\n",
            "1/1 - 0s\n",
            "1/1 - 0s\n",
            "1/1 - 0s\n",
            "1/1 - 0s\n",
            "1/1 - 0s\n",
            "1/1 - 0s\n",
            "1/1 - 0s\n",
            "1/1 - 0s\n",
            "1/1 - 0s\n",
            "1/1 - 0s\n",
            "1/1 - 0s\n",
            "1/1 - 0s\n",
            "1/1 - 0s\n",
            "1/1 - 0s\n",
            "1/1 - 0s\n",
            "1/1 - 0s\n",
            "1/1 - 0s\n",
            "1/1 - 0s\n",
            "1/1 - 0s\n",
            "1/1 - 0s\n",
            "1/1 - 0s\n",
            "1/1 - 0s\n",
            "1/1 - 0s\n",
            "1/1 - 0s\n",
            "1/1 - 0s\n",
            "1/1 - 0s\n",
            "1/1 - 0s\n",
            "1/1 - 0s\n",
            "1/1 - 0s\n",
            "1/1 - 0s\n",
            "1/1 - 0s\n",
            "1/1 - 0s\n",
            "1/1 - 0s\n",
            "1/1 - 0s\n",
            "1/1 - 0s\n",
            "1/1 - 0s\n",
            "1/1 - 0s\n",
            "1/1 - 0s\n",
            "1/1 - 0s\n",
            "1/1 - 0s\n",
            "1/1 - 0s\n",
            "1/1 - 0s\n",
            "1/1 - 0s\n",
            "1/1 - 0s\n",
            "1/1 - 0s\n",
            "1/1 - 0s\n",
            "1/1 - 0s\n",
            "1/1 - 0s\n",
            "1/1 - 0s\n",
            "1/1 - 0s\n",
            "1/1 - 0s\n",
            "1/1 - 0s\n",
            "1/1 - 0s\n",
            "1/1 - 0s\n",
            "1/1 - 0s\n",
            "1/1 - 0s\n",
            "1/1 - 0s\n",
            "1/1 - 0s\n",
            "1/1 - 0s\n",
            "1/1 - 0s\n",
            "1/1 - 0s\n",
            "1/1 - 0s\n",
            "1/1 - 0s\n",
            "1/1 - 0s\n",
            "1/1 - 0s\n",
            "1/1 - 0s\n",
            "1/1 - 0s\n",
            "1/1 - 0s\n",
            "1/1 - 0s\n",
            "1/1 - 0s\n",
            "1/1 - 0s\n",
            "1/1 - 0s\n",
            "1/1 - 0s\n",
            "1/1 - 0s\n",
            "1/1 - 0s\n",
            "1/1 - 0s\n",
            "1/1 - 0s\n",
            "1/1 - 0s\n",
            "1/1 - 0s\n",
            "1/1 - 0s\n",
            "1/1 - 0s\n",
            "1/1 - 0s\n",
            "1/1 - 0s\n",
            "1/1 - 0s\n",
            "1/1 - 0s\n",
            "1/1 - 0s\n",
            "1/1 - 0s\n",
            "1/1 - 0s\n",
            "1/1 - 0s\n",
            "1/1 - 0s\n",
            "1/1 - 0s\n",
            "1/1 - 0s\n",
            "1/1 - 0s\n",
            "1/1 - 0s\n",
            "1/1 - 0s\n",
            "1/1 - 0s\n",
            "1/1 - 0s\n",
            "1/1 - 0s\n",
            "1/1 - 0s\n",
            "1/1 - 0s\n",
            "1/1 - 0s\n",
            "1/1 - 0s\n",
            "1/1 - 0s\n",
            "1/1 - 0s\n",
            "1/1 - 0s\n",
            "1/1 - 0s\n",
            "1/1 - 0s\n",
            "1/1 - 0s\n",
            "1/1 - 0s\n",
            "1/1 - 0s\n",
            "1/1 - 0s\n",
            "1/1 - 0s\n",
            "1/1 - 0s\n",
            "1/1 - 0s\n",
            "1/1 - 0s\n",
            "1/1 - 0s\n",
            "1/1 - 0s\n",
            "1/1 - 0s\n",
            "1/1 - 0s\n",
            "1/1 - 0s\n",
            "1/1 - 0s\n",
            "1/1 - 0s\n",
            "1/1 - 0s\n",
            "1/1 - 0s\n",
            "1/1 - 0s\n",
            "1/1 - 0s\n",
            "1/1 - 0s\n",
            "1/1 - 0s\n",
            "1/1 - 0s\n",
            "1/1 - 0s\n",
            "1/1 - 0s\n",
            "1/1 - 0s\n",
            "1/1 - 0s\n",
            "1/1 - 0s\n",
            "1/1 - 0s\n",
            "1/1 - 0s\n",
            "1/1 - 0s\n",
            "1/1 - 0s\n",
            "1/1 - 0s\n",
            "1/1 - 0s\n",
            "1/1 - 0s\n",
            "1/1 - 0s\n",
            "1/1 - 0s\n",
            "1/1 - 0s\n",
            "1/1 - 0s\n",
            "1/1 - 0s\n",
            "1/1 - 0s\n",
            "1/1 - 0s\n",
            "1/1 - 0s\n",
            "1/1 - 0s\n",
            "1/1 - 0s\n",
            "1/1 - 0s\n",
            "1/1 - 0s\n",
            "1/1 - 0s\n",
            "1/1 - 0s\n",
            "1/1 - 0s\n",
            "1/1 - 0s\n",
            "1/1 - 0s\n",
            "1/1 - 0s\n",
            "1/1 - 0s\n",
            "1/1 - 0s\n",
            "1/1 - 0s\n",
            "1/1 - 0s\n",
            "1/1 - 0s\n",
            "1/1 - 0s\n",
            "1/1 - 0s\n",
            "1/1 - 0s\n",
            "1/1 - 0s\n",
            "1/1 - 0s\n",
            "1/1 - 0s\n",
            "1/1 - 0s\n",
            "1/1 - 0s\n",
            "1/1 - 0s\n",
            "1/1 - 0s\n",
            "1/1 - 0s\n",
            "1/1 - 0s\n",
            "1/1 - 0s\n",
            "1/1 - 0s\n",
            "1/1 - 0s\n",
            "1/1 - 0s\n",
            "1/1 - 0s\n",
            "1/1 - 0s\n",
            "1/1 - 0s\n",
            "1/1 - 0s\n",
            "1/1 - 0s\n",
            "1/1 - 0s\n",
            "1/1 - 0s\n",
            "1/1 - 0s\n",
            "1/1 - 0s\n",
            "1/1 - 0s\n",
            "1/1 - 0s\n",
            "1/1 - 0s\n",
            "1/1 - 0s\n",
            "1/1 - 0s\n",
            "1/1 - 0s\n",
            "1/1 - 0s\n",
            "1/1 - 0s\n",
            "1/1 - 0s\n",
            "1/1 - 0s\n",
            "1/1 - 0s\n",
            "1/1 - 0s\n",
            "1/1 - 0s\n",
            "1/1 - 0s\n",
            "1/1 - 0s\n",
            "1/1 - 0s\n",
            "1/1 - 0s\n",
            "1/1 - 0s\n",
            "1/1 - 0s\n",
            "1/1 - 0s\n",
            "1/1 - 0s\n",
            "1/1 - 0s\n",
            "1/1 - 0s\n",
            "1/1 - 0s\n",
            "1/1 - 0s\n",
            "1/1 - 0s\n",
            "1/1 - 0s\n",
            "1/1 - 0s\n",
            "1/1 - 0s\n",
            "1/1 - 0s\n",
            "1/1 - 0s\n",
            "1/1 - 0s\n",
            "1/1 - 0s\n",
            "1/1 - 0s\n",
            "1/1 - 0s\n",
            "1/1 - 0s\n",
            "1/1 - 0s\n",
            "1/1 - 0s\n",
            "1/1 - 0s\n",
            "1/1 - 0s\n",
            "1/1 - 0s\n",
            "1/1 - 0s\n",
            "1/1 - 0s\n",
            "1/1 - 0s\n",
            "1/1 - 0s\n",
            "1/1 - 0s\n",
            "1/1 - 0s\n",
            "1/1 - 0s\n",
            "1/1 - 0s\n",
            "1/1 - 0s\n",
            "1/1 - 0s\n",
            "1/1 - 0s\n",
            "1/1 - 0s\n",
            "1/1 - 0s\n",
            "1/1 - 0s\n",
            "1/1 - 0s\n",
            "1/1 - 0s\n",
            "1/1 - 0s\n",
            "1/1 - 0s\n",
            "1/1 - 0s\n",
            "1/1 - 0s\n",
            "1/1 - 0s\n",
            "1/1 - 0s\n",
            "1/1 - 0s\n",
            "1/1 - 0s\n",
            "1/1 - 0s\n",
            "1/1 - 0s\n",
            "1/1 - 0s\n",
            "1/1 - 0s\n",
            "1/1 - 0s\n",
            "1/1 - 0s\n",
            "1/1 - 0s\n",
            "1/1 - 0s\n",
            "1/1 - 0s\n",
            "1/1 - 0s\n",
            "1/1 - 0s\n",
            "1/1 - 0s\n",
            "1/1 - 0s\n",
            "1/1 - 0s\n",
            "1/1 - 0s\n",
            "1/1 - 0s\n",
            "1/1 - 0s\n",
            "1/1 - 0s\n",
            "1/1 - 0s\n",
            "1/1 - 0s\n",
            "1/1 - 0s\n",
            "1/1 - 0s\n",
            "1/1 - 0s\n",
            "1/1 - 0s\n",
            "1/1 - 0s\n",
            "1/1 - 0s\n",
            "1/1 - 0s\n",
            "1/1 - 0s\n",
            "1/1 - 0s\n",
            "1/1 - 0s\n",
            "1/1 - 0s\n",
            "1/1 - 0s\n",
            "1/1 - 0s\n",
            "1/1 - 0s\n",
            "1/1 - 0s\n",
            "1/1 - 0s\n",
            "1/1 - 0s\n",
            "1/1 - 0s\n",
            "1/1 - 0s\n",
            "1/1 - 0s\n",
            "1/1 - 0s\n",
            "1/1 - 0s\n",
            "costa rica_acc 73.5 %\n",
            "spain_acc 64.9 %\n",
            "mexico_acc 39.8 %\n",
            "peru_acc 51.4 %\n",
            "uruguay_acc 39.7 %\n"
          ],
          "name": "stdout"
        }
      ]
    },
    {
      "cell_type": "code",
      "metadata": {
        "colab": {
          "base_uri": "https://localhost:8080/",
          "height": 421
        },
        "id": "5PBGcvV8qZQE",
        "outputId": "431bbce7-9561-4c14-9996-809b88db9cf0"
      },
      "source": [
        "#using the confusion matrix is easier to calculate accuracy and recall\n",
        "\n",
        "from sklearn.metrics import confusion_matrix\n",
        "import matplotlib.pyplot as plt\n",
        "from mlxtend.plotting import plot_confusion_matrix\n",
        "\n",
        "y_pred= model_country.predict(X_test_c).round()\n",
        "\n",
        "# calculates confusion matrix\n",
        "cnf_matrix = confusion_matrix(Y_test_c.argmax(axis=1), y_pred.argmax(axis=1))\n",
        "np.set_printoptions(precision=3)\n",
        "\n",
        "# graph confusion matrix\n",
        "labels = ['CR', 'ES', 'MX', 'PE', 'UY']\n",
        "plt.figure()\n",
        "plot_confusion_matrix(conf_mat = cnf_matrix, figsize = (6,6), class_names = labels, show_absolute = True, show_normed = True)\n",
        "plt.xlabel('Predictions', fontsize=18)\n",
        "plt.ylabel('Actuals', fontsize=18)\n",
        "plt.show()"
      ],
      "execution_count": 26,
      "outputs": [
        {
          "output_type": "display_data",
          "data": {
            "text/plain": [
              "<Figure size 432x288 with 0 Axes>"
            ]
          },
          "metadata": {
            "tags": []
          }
        },
        {
          "output_type": "display_data",
          "data": {
            "image/png": "[encoded data removed]",
            "text/plain": [
              "<Figure size 432x432 with 1 Axes>"
            ]
          },
          "metadata": {
            "tags": [],
            "needs_background": "light"
          }
        }
      ]
    },
    {
      "cell_type": "code",
      "metadata": {
        "id": "HWtUZhUNbDd2"
      },
      "source": [
        "def calculates_acc_recall (country, cnf_matrix):\n",
        "  countries = ['CR', 'ES', 'MX', 'PE', 'UY']\n",
        "  #get country index\n",
        "  i = countries.index(country)\n",
        "  #calculates accuracy\n",
        "  country_recall = cnf_matrix[i][i]/cnf_matrix[i].sum()\n",
        "  #calculates recall\n",
        "  country_precision = cnf_matrix.transpose()[i][i]/cnf_matrix.transpose()[i].sum()\n",
        "  \n",
        "  print('{} recall: {}'.format(country, round(country_recall*100,1)), '%', '\\n'\n",
        "              '{} precision: {}'.format(country, round(country_precision*100,1)), '%')\n",
        "  \n",
        "  return round(country_recall*100,1), round(country_precision*100,1)"
      ],
      "execution_count": 27,
      "outputs": []
    },
    {
      "cell_type": "code",
      "metadata": {
        "colab": {
          "base_uri": "https://localhost:8080/"
        },
        "id": "s7_n0qAFlNDR",
        "outputId": "acfb28a1-5833-4d70-a028-accfef2a487d"
      },
      "source": [
        "countries = ['CR', 'ES', 'MX', 'PE','UY']\n",
        "for country in countries:\n",
        "  calculates_acc_recall(country, cnf_matrix)\n",
        "  print('\\n')"
      ],
      "execution_count": 28,
      "outputs": [
        {
          "output_type": "stream",
          "text": [
            "CR recall: 77.9 % \n",
            "CR precision: 54.9 %\n",
            "\n",
            "\n",
            "ES recall: 64.2 % \n",
            "ES precision: 71.4 %\n",
            "\n",
            "\n",
            "MX recall: 36.9 % \n",
            "MX precision: 49.4 %\n",
            "\n",
            "\n",
            "PE recall: 44.2 % \n",
            "PE precision: 41.1 %\n",
            "\n",
            "\n",
            "UY recall: 40.6 % \n",
            "UY precision: 52.7 %\n",
            "\n",
            "\n"
          ],
          "name": "stdout"
        }
      ]
    },
    {
      "cell_type": "markdown",
      "metadata": {
        "id": "AdYWk5Ma0RFu"
      },
      "source": [
        "# **Parte 5 - Balanceo de dataset utilizando SMOTE sampling**\n",
        "Para esta parte utilizaremos SMOTE sampling con el objetivo de tener la misma cantidad de muestras para cada país, generando un dataset más balanceado. Tanto la red neuronal como los hiper-parámetros se mantienen igual de modo de poder comparar resultados."
      ]
    },
    {
      "cell_type": "code",
      "metadata": {
        "id": "Q6lPpYJgaxOB",
        "colab": {
          "base_uri": "https://localhost:8080/"
        },
        "outputId": "99a04f00-2670-4fb7-ea0e-24148402660c"
      },
      "source": [
        "#Lets balance a bit the dataset\n",
        "\n",
        "from imblearn.over_sampling import SMOTE\n",
        "from sklearn.model_selection import train_test_split\n",
        "\n",
        "# Sampling\n",
        "X_resample, y_resample = SMOTE().fit_sample(X_train_c, Y_train_c)\n",
        "\n",
        "# transforms into nparray\n",
        "y_resample = np.array(y_resample)\n",
        "X_resample = np.array(X_resample)"
      ],
      "execution_count": 29,
      "outputs": [
        {
          "output_type": "stream",
          "text": [
            "/usr/local/lib/python3.7/dist-packages/sklearn/externals/six.py:31: FutureWarning: The module is deprecated in version 0.21 and will be removed in version 0.23 since we've dropped support for Python 2.7. Please rely on the official version of six (https://pypi.org/project/six/).\n",
            "  \"(https://pypi.org/project/six/).\", FutureWarning)\n",
            "/usr/local/lib/python3.7/dist-packages/sklearn/utils/deprecation.py:144: FutureWarning: The sklearn.neighbors.base module is  deprecated in version 0.22 and will be removed in version 0.24. The corresponding classes / functions should instead be imported from sklearn.neighbors. Anything that cannot be imported from sklearn.neighbors is now part of the private API.\n",
            "  warnings.warn(message, FutureWarning)\n",
            "/usr/local/lib/python3.7/dist-packages/sklearn/utils/deprecation.py:87: FutureWarning: Function safe_indexing is deprecated; safe_indexing is deprecated in version 0.22 and will be removed in version 0.24.\n",
            "  warnings.warn(msg, category=FutureWarning)\n",
            "/usr/local/lib/python3.7/dist-packages/sklearn/utils/deprecation.py:87: FutureWarning: Function safe_indexing is deprecated; safe_indexing is deprecated in version 0.22 and will be removed in version 0.24.\n",
            "  warnings.warn(msg, category=FutureWarning)\n",
            "/usr/local/lib/python3.7/dist-packages/sklearn/utils/deprecation.py:87: FutureWarning: Function safe_indexing is deprecated; safe_indexing is deprecated in version 0.22 and will be removed in version 0.24.\n",
            "  warnings.warn(msg, category=FutureWarning)\n",
            "/usr/local/lib/python3.7/dist-packages/sklearn/utils/deprecation.py:87: FutureWarning: Function safe_indexing is deprecated; safe_indexing is deprecated in version 0.22 and will be removed in version 0.24.\n",
            "  warnings.warn(msg, category=FutureWarning)\n"
          ],
          "name": "stderr"
        }
      ]
    },
    {
      "cell_type": "code",
      "metadata": {
        "colab": {
          "base_uri": "https://localhost:8080/"
        },
        "id": "yfIimlKJCjqT",
        "outputId": "777c762f-7c0d-46e6-a79d-4cd05caa6eea"
      },
      "source": [
        "print ('Total datos antes del sampling : ' + str(len(X_train_c)))\n",
        "print ('Total datos de Costa Rica: '+ str(Y_train_c.transpose()[0].sum()))\n",
        "print ('Total datos de España: '+ str(Y_train_c.transpose()[1].sum()))\n",
        "print ('Total datos de Mexico: '+ str(Y_train_c.transpose()[2].sum()))\n",
        "print ('Total datos de Peru: '+ str(Y_train_c.transpose()[3].sum()))\n",
        "print ('Total datos de Uruguay: '+ str(Y_train_c.transpose()[4].sum()))\n",
        "print('\\n')\n",
        "print ('Total datos después del sampling : ' + str(len(X_resample)))\n",
        "print ('Total datos de Costa Rica: '+ str(y_resample.transpose()[0].sum()))\n",
        "print ('Total datos de España: '+ str(y_resample.transpose()[1].sum()))\n",
        "print ('Total datos de Mexico: '+ str(y_resample.transpose()[2].sum()))\n",
        "print ('Total datos de Peru: '+ str(y_resample.transpose()[3].sum()))\n",
        "print ('Total datos de Uruguay: '+ str(y_resample.transpose()[4].sum()))\n"
      ],
      "execution_count": 30,
      "outputs": [
        {
          "output_type": "stream",
          "text": [
            "Total datos antes del sampling : 4397\n",
            "Total datos de Costa Rica: 1010\n",
            "Total datos de España: 1303\n",
            "Total datos de Mexico: 825\n",
            "Total datos de Peru: 563\n",
            "Total datos de Uruguay: 696\n",
            "\n",
            "\n",
            "Total datos después del sampling : 6515\n",
            "Total datos de Costa Rica: 1303\n",
            "Total datos de España: 1303\n",
            "Total datos de Mexico: 1303\n",
            "Total datos de Peru: 1303\n",
            "Total datos de Uruguay: 1303\n"
          ],
          "name": "stdout"
        }
      ]
    },
    {
      "cell_type": "code",
      "metadata": {
        "colab": {
          "base_uri": "https://localhost:8080/"
        },
        "id": "zNbGckzDPM3N",
        "outputId": "015a5a87-c4cb-4140-eef8-799f3cd30f33"
      },
      "source": [
        "#assembling of neural network for data resampled\n",
        "from keras.models import Sequential\n",
        "from keras.layers import Embedding, LSTM, Dense, Dropout\n",
        "\n",
        "embed_dim = 200\n",
        "\n",
        "model_country_resampled = Sequential()\n",
        "model_country_resampled.add(Embedding(input_dim = max_features, output_dim = embed_dim, input_length = X_c.shape[1]))\n",
        "model_country_resampled.add(Dense(32, activation = 'relu'))\n",
        "model_country_resampled.add(Dropout(0.25))\n",
        "model_country_resampled.add(LSTM(32, dropout = 0.2, recurrent_dropout = 0.2))\n",
        "model_country_resampled.add(Dropout(0.5))\n",
        "model_country_resampled.add(Dense(Y_c.shape[1], activation = 'softmax'))\n",
        "model_country_resampled.summary()"
      ],
      "execution_count": 31,
      "outputs": [
        {
          "output_type": "stream",
          "text": [
            "WARNING:tensorflow:Layer lstm_1 will not use cuDNN kernels since it doesn't meet the criteria. It will use a generic GPU kernel as fallback when running on GPU.\n",
            "Model: \"sequential_1\"\n",
            "_________________________________________________________________\n",
            "Layer (type)                 Output Shape              Param #   \n",
            "=================================================================\n",
            "embedding_1 (Embedding)      (None, 22, 200)           1995400   \n",
            "_________________________________________________________________\n",
            "dense_2 (Dense)              (None, 22, 32)            6432      \n",
            "_________________________________________________________________\n",
            "dropout_2 (Dropout)          (None, 22, 32)            0         \n",
            "_________________________________________________________________\n",
            "lstm_1 (LSTM)                (None, 32)                8320      \n",
            "_________________________________________________________________\n",
            "dropout_3 (Dropout)          (None, 32)                0         \n",
            "_________________________________________________________________\n",
            "dense_3 (Dense)              (None, 5)                 165       \n",
            "=================================================================\n",
            "Total params: 2,010,317\n",
            "Trainable params: 2,010,317\n",
            "Non-trainable params: 0\n",
            "_________________________________________________________________\n"
          ],
          "name": "stdout"
        }
      ]
    },
    {
      "cell_type": "code",
      "metadata": {
        "colab": {
          "base_uri": "https://localhost:8080/"
        },
        "id": "NBuuCwdXcNrJ",
        "outputId": "91ebc1df-bc2a-41bc-bc22-9e6666586249"
      },
      "source": [
        "#compile and train model using resampled data\n",
        "batch_size = 128\n",
        "model_country_resampled.compile(optimizer = 'adam', loss = 'categorical_crossentropy', metrics = ['accuracy'])\n",
        "model_country_resampled.fit(X_resample, y_resample, batch_size = batch_size, epochs = 10, validation_data = (X_validate_c, Y_validate_c))"
      ],
      "execution_count": 32,
      "outputs": [
        {
          "output_type": "stream",
          "text": [
            "Epoch 1/10\n",
            "51/51 [==============================] - 10s 131ms/step - loss: 1.6093 - accuracy: 0.1981 - val_loss: 1.6016 - val_accuracy: 0.3120\n",
            "Epoch 2/10\n",
            "51/51 [==============================] - 6s 114ms/step - loss: 1.5881 - accuracy: 0.3172 - val_loss: 1.5433 - val_accuracy: 0.3820\n",
            "Epoch 3/10\n",
            "51/51 [==============================] - 6s 109ms/step - loss: 1.4240 - accuracy: 0.4360 - val_loss: 1.3596 - val_accuracy: 0.4520\n",
            "Epoch 4/10\n",
            "51/51 [==============================] - 6s 113ms/step - loss: 0.9763 - accuracy: 0.6617 - val_loss: 1.2903 - val_accuracy: 0.5000\n",
            "Epoch 5/10\n",
            "51/51 [==============================] - 6s 112ms/step - loss: 0.6699 - accuracy: 0.7801 - val_loss: 1.3069 - val_accuracy: 0.5540\n",
            "Epoch 6/10\n",
            "51/51 [==============================] - 6s 113ms/step - loss: 0.4974 - accuracy: 0.8418 - val_loss: 1.2742 - val_accuracy: 0.6120\n",
            "Epoch 7/10\n",
            "51/51 [==============================] - 5s 108ms/step - loss: 0.3794 - accuracy: 0.8871 - val_loss: 1.3882 - val_accuracy: 0.5760\n",
            "Epoch 8/10\n",
            "51/51 [==============================] - 6s 112ms/step - loss: 0.3230 - accuracy: 0.8970 - val_loss: 1.4611 - val_accuracy: 0.6040\n",
            "Epoch 9/10\n",
            "51/51 [==============================] - 6s 110ms/step - loss: 0.2617 - accuracy: 0.9117 - val_loss: 1.5963 - val_accuracy: 0.5820\n",
            "Epoch 10/10\n",
            "51/51 [==============================] - 6s 112ms/step - loss: 0.2464 - accuracy: 0.9215 - val_loss: 1.5912 - val_accuracy: 0.5900\n"
          ],
          "name": "stdout"
        },
        {
          "output_type": "execute_result",
          "data": {
            "text/plain": [
              "<keras.callbacks.History at 0x7f1bd8132790>"
            ]
          },
          "metadata": {
            "tags": []
          },
          "execution_count": 32
        }
      ]
    },
    {
      "cell_type": "code",
      "metadata": {
        "colab": {
          "base_uri": "https://localhost:8080/"
        },
        "id": "iYryVQYKdkoc",
        "outputId": "048ba5cb-09b3-4c96-eafb-041ff13a246c"
      },
      "source": [
        "#check score and accuracy in test set\n",
        "score_c,acc_c = model_country_resampled.evaluate(X_test_c, Y_test_c, batch_size = batch_size)\n",
        "print(\"Score: %.2f\" % (score_c))\n",
        "print(\"Acc: %.2f\" % (acc_c))"
      ],
      "execution_count": 33,
      "outputs": [
        {
          "output_type": "stream",
          "text": [
            "14/14 [==============================] - 0s 9ms/step - loss: 1.7857 - accuracy: 0.5669\n",
            "Score: 1.79\n",
            "Acc: 0.57\n"
          ],
          "name": "stdout"
        }
      ]
    },
    {
      "cell_type": "code",
      "metadata": {
        "colab": {
          "base_uri": "https://localhost:8080/",
          "height": 421
        },
        "id": "mvdJPHEXdW3s",
        "outputId": "61735b31-0b9f-42ed-cce7-39863f681d6d"
      },
      "source": [
        "#using the confusion matrix is easier to calculate accuracy and recall\n",
        "\n",
        "from sklearn.metrics import confusion_matrix\n",
        "import matplotlib.pyplot as plt\n",
        "from mlxtend.plotting import plot_confusion_matrix\n",
        "\n",
        "y_pred= model_country_resampled.predict(X_test_c).round()\n",
        "\n",
        "# calculates confusion matrix\n",
        "cnf_matrix_resampled = confusion_matrix(Y_test_c.argmax(axis=1), y_pred.argmax(axis=1))\n",
        "np.set_printoptions(precision=3)\n",
        "\n",
        "# graph confusion matrix\n",
        "labels = ['CR', 'ES', 'MX', 'PE', 'UY']\n",
        "plt.figure()\n",
        "plot_confusion_matrix(conf_mat = cnf_matrix_resampled, figsize = (6,6), class_names = labels, show_absolute = True, show_normed = True)\n",
        "plt.xlabel('Predictions', fontsize=18)\n",
        "plt.ylabel('Actuals', fontsize=18)\n",
        "plt.show()"
      ],
      "execution_count": 34,
      "outputs": [
        {
          "output_type": "display_data",
          "data": {
            "text/plain": [
              "<Figure size 432x288 with 0 Axes>"
            ]
          },
          "metadata": {
            "tags": []
          }
        },
        {
          "output_type": "display_data",
          "data": {
            "image/png": "[encoded data removed]",
            "text/plain": [
              "<Figure size 432x432 with 1 Axes>"
            ]
          },
          "metadata": {
            "tags": [],
            "needs_background": "light"
          }
        }
      ]
    },
    {
      "cell_type": "code",
      "metadata": {
        "colab": {
          "base_uri": "https://localhost:8080/"
        },
        "id": "J6Ks0EXBdr-h",
        "outputId": "5470fd62-d12a-459a-e5c7-c723c1f6245b"
      },
      "source": [
        "countries = ['CR', 'ES', 'MX', 'PE', 'UY']\n",
        "for country in countries:\n",
        "  calculates_acc_recall(country, cnf_matrix_resampled)\n",
        "  print('\\n')"
      ],
      "execution_count": 35,
      "outputs": [
        {
          "output_type": "stream",
          "text": [
            "CR recall: 73.6 % \n",
            "CR precision: 57.9 %\n",
            "\n",
            "\n",
            "ES recall: 50.5 % \n",
            "ES precision: 83.2 %\n",
            "\n",
            "\n",
            "MX recall: 45.5 % \n",
            "MX precision: 50.4 %\n",
            "\n",
            "\n",
            "PE recall: 52.2 % \n",
            "PE precision: 40.6 %\n",
            "\n",
            "\n",
            "UY recall: 55.7 % \n",
            "UY precision: 46.3 %\n",
            "\n",
            "\n"
          ],
          "name": "stdout"
        }
      ]
    },
    {
      "cell_type": "markdown",
      "metadata": {
        "id": "GEE5aDU1RtjA"
      },
      "source": [
        "# **Comparación**"
      ]
    },
    {
      "cell_type": "code",
      "metadata": {
        "colab": {
          "base_uri": "https://localhost:8080/"
        },
        "id": "uJCgvqB-O30L",
        "outputId": "16342666-6dbc-4cd6-ce3d-171dd4e0d84b"
      },
      "source": [
        "#before SMOTE sampling\n",
        "cr_rec, cr_pre = calculates_acc_recall('CR', cnf_matrix)\n",
        "es_rec, es_pre = calculates_acc_recall('ES', cnf_matrix)\n",
        "mx_rec, mx_pre = calculates_acc_recall('MX', cnf_matrix)\n",
        "pe_rec, pe_pre = calculates_acc_recall('PE', cnf_matrix)\n",
        "uy_rec, uy_pre = calculates_acc_recall('UY', cnf_matrix)\n",
        "\n",
        "#after SMOTE sampling\n",
        "cr_rec_smote, cr_pre_smote = calculates_acc_recall('CR', cnf_matrix_resampled)\n",
        "es_rec_smote, es_pre_smote = calculates_acc_recall('ES', cnf_matrix_resampled)\n",
        "mx_rec_smote, mx_pre_smote = calculates_acc_recall('MX', cnf_matrix_resampled)\n",
        "pe_rec_smote, pe_pre_smote = calculates_acc_recall('PE', cnf_matrix_resampled)\n",
        "uy_rec_smote, uy_pre_smote = calculates_acc_recall('UY', cnf_matrix_resampled)\n",
        "\n",
        "#recall variation\n",
        "cr_rec_var = cr_rec_smote - cr_rec\n",
        "es_rec_var = es_rec_smote - es_rec\n",
        "mx_rec_var = mx_rec_smote - mx_rec\n",
        "pe_rec_var = pe_rec_smote - pe_rec\n",
        "uy_rec_var = uy_rec_smote - uy_rec\n",
        "\n",
        "#precision variation\n",
        "cr_pre_var = cr_pre_smote - cr_pre\n",
        "es_pre_var = es_pre_smote - es_pre\n",
        "mx_pre_var = mx_pre_smote - mx_pre\n",
        "pe_pre_var = pe_pre_smote - pe_pre\n",
        "uy_pre_var = uy_pre_smote - uy_pre"
      ],
      "execution_count": 36,
      "outputs": [
        {
          "output_type": "stream",
          "text": [
            "CR recall: 77.9 % \n",
            "CR precision: 54.9 %\n",
            "ES recall: 64.2 % \n",
            "ES precision: 71.4 %\n",
            "MX recall: 36.9 % \n",
            "MX precision: 49.4 %\n",
            "PE recall: 44.2 % \n",
            "PE precision: 41.1 %\n",
            "UY recall: 40.6 % \n",
            "UY precision: 52.7 %\n",
            "CR recall: 73.6 % \n",
            "CR precision: 57.9 %\n",
            "ES recall: 50.5 % \n",
            "ES precision: 83.2 %\n",
            "MX recall: 45.5 % \n",
            "MX precision: 50.4 %\n",
            "PE recall: 52.2 % \n",
            "PE precision: 40.6 %\n",
            "UY recall: 55.7 % \n",
            "UY precision: 46.3 %\n"
          ],
          "name": "stdout"
        }
      ]
    },
    {
      "cell_type": "code",
      "metadata": {
        "colab": {
          "base_uri": "https://localhost:8080/",
          "height": 203
        },
        "id": "_prDHZ9yOVE2",
        "outputId": "589d864a-c9d8-4fa7-a093-b0d380feeed4"
      },
      "source": [
        "models = pd.DataFrame({'Country': ['Costa Rica', 'Spain', 'Mexico','Perú', 'Uruguay'],\n",
        "                      'Recall before SMOTE': [cr_rec, es_rec,mx_rec, pe_rec, uy_rec ],\n",
        "                      'Precision before SMOTE' : [cr_pre, es_pre, mx_pre, pe_pre, uy_pre],\n",
        "                      'Recall after SMOTE': [cr_rec_smote, es_rec_smote, mx_rec_smote, pe_rec_smote, uy_rec_smote ],\n",
        "                      'Precision after SMOTE': [cr_pre_smote, es_pre_smote, mx_pre_smote, pe_pre_smote, uy_pre_smote],\n",
        "                      'Recall Variation': [cr_rec_var, es_rec_var, mx_rec_var, pe_rec_var, uy_rec_var],\n",
        "                      'Precision Variation': [cr_pre_var, es_pre_var, mx_pre_var, pe_pre_var, uy_pre_var]})\n",
        "models.sort_values(by='Country', ascending=True)"
      ],
      "execution_count": 37,
      "outputs": [
        {
          "output_type": "execute_result",
          "data": {
            "text/html": [
              "<div>\n",
              "<style scoped>\n",
              "    .dataframe tbody tr th:only-of-type {\n",
              "        vertical-align: middle;\n",
              "    }\n",
              "\n",
              "    .dataframe tbody tr th {\n",
              "        vertical-align: top;\n",
              "    }\n",
              "\n",
              "    .dataframe thead th {\n",
              "        text-align: right;\n",
              "    }\n",
              "</style>\n",
              "<table border=\"1\" class=\"dataframe\">\n",
              "  <thead>\n",
              "    <tr style=\"text-align: right;\">\n",
              "      <th></th>\n",
              "      <th>Country</th>\n",
              "      <th>Recall before SMOTE</th>\n",
              "      <th>Precision before SMOTE</th>\n",
              "      <th>Recall after SMOTE</th>\n",
              "      <th>Precision after SMOTE</th>\n",
              "      <th>Recall Variation</th>\n",
              "      <th>Precision Variation</th>\n",
              "    </tr>\n",
              "  </thead>\n",
              "  <tbody>\n",
              "    <tr>\n",
              "      <th>0</th>\n",
              "      <td>Costa Rica</td>\n",
              "      <td>77.9</td>\n",
              "      <td>54.9</td>\n",
              "      <td>73.6</td>\n",
              "      <td>57.9</td>\n",
              "      <td>-4.3</td>\n",
              "      <td>3.0</td>\n",
              "    </tr>\n",
              "    <tr>\n",
              "      <th>2</th>\n",
              "      <td>Mexico</td>\n",
              "      <td>36.9</td>\n",
              "      <td>49.4</td>\n",
              "      <td>45.5</td>\n",
              "      <td>50.4</td>\n",
              "      <td>8.6</td>\n",
              "      <td>1.0</td>\n",
              "    </tr>\n",
              "    <tr>\n",
              "      <th>3</th>\n",
              "      <td>Perú</td>\n",
              "      <td>44.2</td>\n",
              "      <td>41.1</td>\n",
              "      <td>52.2</td>\n",
              "      <td>40.6</td>\n",
              "      <td>8.0</td>\n",
              "      <td>-0.5</td>\n",
              "    </tr>\n",
              "    <tr>\n",
              "      <th>1</th>\n",
              "      <td>Spain</td>\n",
              "      <td>64.2</td>\n",
              "      <td>71.4</td>\n",
              "      <td>50.5</td>\n",
              "      <td>83.2</td>\n",
              "      <td>-13.7</td>\n",
              "      <td>11.8</td>\n",
              "    </tr>\n",
              "    <tr>\n",
              "      <th>4</th>\n",
              "      <td>Uruguay</td>\n",
              "      <td>40.6</td>\n",
              "      <td>52.7</td>\n",
              "      <td>55.7</td>\n",
              "      <td>46.3</td>\n",
              "      <td>15.1</td>\n",
              "      <td>-6.4</td>\n",
              "    </tr>\n",
              "  </tbody>\n",
              "</table>\n",
              "</div>"
            ],
            "text/plain": [
              "      Country  Recall before SMOTE  ...  Recall Variation  Precision Variation\n",
              "0  Costa Rica                 77.9  ...              -4.3                  3.0\n",
              "2      Mexico                 36.9  ...               8.6                  1.0\n",
              "3        Perú                 44.2  ...               8.0                 -0.5\n",
              "1       Spain                 64.2  ...             -13.7                 11.8\n",
              "4     Uruguay                 40.6  ...              15.1                 -6.4\n",
              "\n",
              "[5 rows x 7 columns]"
            ]
          },
          "metadata": {
            "tags": []
          },
          "execution_count": 37
        }
      ]
    }
  ]
}