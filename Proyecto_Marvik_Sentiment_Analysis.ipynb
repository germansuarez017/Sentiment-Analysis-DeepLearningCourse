{
  "nbformat": 4,
  "nbformat_minor": 0,
  "metadata": {
    "colab": {
      "name": "Proyecto Marvik Sentiment Analysis.ipynb",
      "provenance": [],
      "collapsed_sections": [],
      "include_colab_link": true
    },
    "kernelspec": {
      "display_name": "Python 3",
      "name": "python3"
    },
    "language_info": {
      "name": "python"
    }
  },
  "cells": [
    {
      "cell_type": "markdown",
      "metadata": {
        "id": "view-in-github",
        "colab_type": "text"
      },
      "source": [
        "<a href=\"https://colab.research.google.com/github/germansuarez017/Sentiment-Analysis-DeepLearningCourse/blob/main/Proyecto_Marvik_Sentiment_Analysis.ipynb\" target=\"_parent\"><img src=\"https://colab.research.google.com/assets/colab-badge.svg\" alt=\"Open In Colab\"/></a>"
      ]
    },
    {
      "cell_type": "markdown",
      "metadata": {
        "id": "eD934LGNzC2F"
      },
      "source": [
        "# **Proyecto Marvik - Sentiment Analysis**\n",
        "Para este proyecto utilizaremos tweets etiquetados provenientes de países hispanohablantes (Costa Rica, España, México, Perú, Puerto Rico y Uruguay) conseguidos de la página de TASS: Workshop on Semantic Analysis at SEPLN -http://tass.sepln.org/-.\n",
        "\n",
        "En la primer parte intentaremos predecir el sentimiento (Positivo o Negativo) de los tweets utilizando una red neuronal LSTM y diversos modelos de machine learning.\n",
        "Para la segunda parte del ejercicio nos concentraremos en predecir el país de origen de los tweets utilizando una red neuronal LSTM y aplicando SMOTE sampling"
      ]
    },
    {
      "cell_type": "code",
      "metadata": {
        "id": "DtazPu0Se1t3"
      },
      "source": [
        "# =======================================\n",
        "# SENTIMENT ANALYSIS\n",
        "# ======================================="
      ],
      "execution_count": null,
      "outputs": []
    },
    {
      "cell_type": "code",
      "metadata": {
        "id": "P2LGFCRyczx0",
        "colab": {
          "base_uri": "https://localhost:8080/"
        },
        "outputId": "27a173ca-ac8b-4e26-be6a-06de521bffac"
      },
      "source": [
        "from google.colab import drive\n",
        "drive.mount('/content/drive')"
      ],
      "execution_count": null,
      "outputs": [
        {
          "output_type": "stream",
          "text": [
            "Mounted at /content/drive\n"
          ],
          "name": "stdout"
        }
      ]
    },
    {
      "cell_type": "code",
      "metadata": {
        "id": "2zyqJGkVHgJS",
        "colab": {
          "base_uri": "https://localhost:8080/"
        },
        "outputId": "ae790def-913a-4f44-d463-eab5605802da"
      },
      "source": [
        "#upgrade library for plotting the confusion matrix\n",
        "%pip install mlxtend --upgrade"
      ],
      "execution_count": null,
      "outputs": [
        {
          "output_type": "stream",
          "text": [
            "Requirement already satisfied: mlxtend in /usr/local/lib/python3.7/dist-packages (0.14.0)\n",
            "Collecting mlxtend\n",
            "  Downloading mlxtend-0.18.0-py2.py3-none-any.whl (1.3 MB)\n",
            "\u001b[K     |████████████████████████████████| 1.3 MB 23.4 MB/s \n",
            "\u001b[?25hRequirement already satisfied: joblib>=0.13.2 in /usr/local/lib/python3.7/dist-packages (from mlxtend) (1.0.1)\n",
            "Requirement already satisfied: setuptools in /usr/local/lib/python3.7/dist-packages (from mlxtend) (57.2.0)\n",
            "Requirement already satisfied: pandas>=0.24.2 in /usr/local/lib/python3.7/dist-packages (from mlxtend) (1.1.5)\n",
            "Requirement already satisfied: scipy>=1.2.1 in /usr/local/lib/python3.7/dist-packages (from mlxtend) (1.4.1)\n",
            "Requirement already satisfied: matplotlib>=3.0.0 in /usr/local/lib/python3.7/dist-packages (from mlxtend) (3.2.2)\n",
            "Requirement already satisfied: scikit-learn>=0.20.3 in /usr/local/lib/python3.7/dist-packages (from mlxtend) (0.22.2.post1)\n",
            "Requirement already satisfied: numpy>=1.16.2 in /usr/local/lib/python3.7/dist-packages (from mlxtend) (1.19.5)\n",
            "Requirement already satisfied: cycler>=0.10 in /usr/local/lib/python3.7/dist-packages (from matplotlib>=3.0.0->mlxtend) (0.10.0)\n",
            "Requirement already satisfied: kiwisolver>=1.0.1 in /usr/local/lib/python3.7/dist-packages (from matplotlib>=3.0.0->mlxtend) (1.3.1)\n",
            "Requirement already satisfied: pyparsing!=2.0.4,!=2.1.2,!=2.1.6,>=2.0.1 in /usr/local/lib/python3.7/dist-packages (from matplotlib>=3.0.0->mlxtend) (2.4.7)\n",
            "Requirement already satisfied: python-dateutil>=2.1 in /usr/local/lib/python3.7/dist-packages (from matplotlib>=3.0.0->mlxtend) (2.8.1)\n",
            "Requirement already satisfied: six in /usr/local/lib/python3.7/dist-packages (from cycler>=0.10->matplotlib>=3.0.0->mlxtend) (1.15.0)\n",
            "Requirement already satisfied: pytz>=2017.2 in /usr/local/lib/python3.7/dist-packages (from pandas>=0.24.2->mlxtend) (2018.9)\n",
            "Installing collected packages: mlxtend\n",
            "  Attempting uninstall: mlxtend\n",
            "    Found existing installation: mlxtend 0.14.0\n",
            "    Uninstalling mlxtend-0.14.0:\n",
            "      Successfully uninstalled mlxtend-0.14.0\n",
            "Successfully installed mlxtend-0.18.0\n"
          ],
          "name": "stdout"
        }
      ]
    },
    {
      "cell_type": "code",
      "metadata": {
        "id": "lYHYGRnU4xdu",
        "colab": {
          "base_uri": "https://localhost:8080/"
        },
        "outputId": "0de4c687-4ab1-4f6e-adbf-194f4fdca237"
      },
      "source": [
        "#clone github repository\n",
        "! git clone https://github.com/germansuarez017/Sentiment-Analysis-DeepLearningCourse.git"
      ],
      "execution_count": null,
      "outputs": [
        {
          "output_type": "stream",
          "text": [
            "Cloning into 'Sentiment-Analysis-DeepLearningCourse'...\n",
            "remote: Enumerating objects: 38, done.\u001b[K\n",
            "remote: Counting objects: 100% (38/38), done.\u001b[K\n",
            "remote: Compressing objects: 100% (36/36), done.\u001b[K\n",
            "remote: Total 38 (delta 11), reused 0 (delta 0), pack-reused 0\u001b[K\n",
            "Unpacking objects: 100% (38/38), done.\n"
          ],
          "name": "stdout"
        }
      ]
    },
    {
      "cell_type": "markdown",
      "metadata": {
        "id": "otGVqTlhzeOs"
      },
      "source": [
        "# **Parte 1 - Armado de dataframe**\n",
        "\n",
        "Primero pasaremos los diferentes archivos XML a un dataframe de pandas donde podremos ver la etiqueta del sentimiento asociado y de que país proviene. En una segunda instancia, eliminaremos los tweets que no tienen etiqueta o si la misma es neutral quedándonos solo con los sentimientos positivos y negativos."
      ]
    },
    {
      "cell_type": "code",
      "metadata": {
        "id": "NsstNkOkKIvZ"
      },
      "source": [
        "#unzip files\n",
        "! unzip '/content/Sentiment-Analysis-DeepLearningCourse/XML_files.zip' > /dev/null"
      ],
      "execution_count": null,
      "outputs": []
    },
    {
      "cell_type": "code",
      "metadata": {
        "id": "3NLIBzJRoyUH"
      },
      "source": [
        "#function to replace spanish punctuations in order not to loose the letters afterwards\n",
        "def normalize(s):\n",
        "    replacements = (\n",
        "        ('á', 'a'),\n",
        "        ('é', 'e'),\n",
        "        ('í', 'i'),\n",
        "        ('ó', 'o'),\n",
        "        ('ú', 'u'),\n",
        "        ('ñ', 'n')\n",
        "    )\n",
        "    for a, b in replacements:\n",
        "        s = s.replace(a, b).replace(a.upper(), b.upper())\n",
        "    return s"
      ],
      "execution_count": null,
      "outputs": []
    },
    {
      "cell_type": "code",
      "metadata": {
        "id": "YPOFf3GrclhC"
      },
      "source": [
        "import pandas as pd\n",
        "import numpy as np\n",
        "import re\n",
        "import os\n",
        "import glob\n",
        "# this library is needed to read XML files for converting it into CSV\n",
        "import xml.etree.ElementTree as ET\n",
        "import shutil\n",
        "import csv\n",
        "\n",
        "# Convert xml files into one CSV\n",
        "# Function that will extract column data for our CSV file\n",
        "# ET = Element tree is used to parse, navigate, explore and populate xml files\n",
        "def xml_to_csv(path):\n",
        "    '''\n",
        "    Creates a dataframe populated with the XML information\n",
        "    :param path: path to the folder containing the XML files\n",
        "    :return: a dataframe with the information from the XML files\n",
        "    '''\n",
        "    xml_list = []\n",
        "    dataset_type = ''\n",
        "    for xml_file in glob.glob(path + '/*.xml'):\n",
        "        \n",
        "        #checks what type of dataset is\n",
        "        if 'train' in xml_file:\n",
        "          dataset_type = 'train'\n",
        "        if 'test' in xml_file:\n",
        "          dataset_type = 'test'\n",
        "        if 'dev' in xml_file:\n",
        "          dataset_type = 'val'\n",
        "        \n",
        "        #checks country\n",
        "        country = xml_file[36:38]\n",
        "        \n",
        "        tree = ET.parse(xml_file)                           # Reads the xml file and initialize the tree\n",
        "        root = tree.getroot()\n",
        "        \n",
        "        for tweet in root.findall('tweet'):\n",
        "          value = (normalize(tweet.find('content').text),\n",
        "                   tweet.find('date').text,\n",
        "                   tweet.find('sentiment')[0][0].text,\n",
        "                   country,\n",
        "                   dataset_type)\n",
        "          xml_list.append(value)\n",
        "    column_name = ['tweet_unclean', 'date', 'sentiment', 'country', 'dataset_type']\n",
        "    xml_df = pd.DataFrame(xml_list, columns = column_name)\n",
        "    return xml_df"
      ],
      "execution_count": null,
      "outputs": []
    },
    {
      "cell_type": "code",
      "metadata": {
        "id": "tCfJld3Cfiom"
      },
      "source": [
        "#converts xml files into csv\n",
        "path_xml = '/content/XML_files'\n",
        "df = xml_to_csv(path_xml)"
      ],
      "execution_count": null,
      "outputs": []
    },
    {
      "cell_type": "code",
      "metadata": {
        "id": "rVtxogDSDRuK"
      },
      "source": [
        "#discard test tweets, they are untagged\n",
        "df = df[df.dataset_type != 'test']\n",
        "\n",
        "#lets stay with the tweets, sentiment and country\n",
        "df = df[['tweet_unclean', 'sentiment', 'country']]\n",
        "\n",
        "#discard NEU or NONE tags\n",
        "df = df[df.sentiment != 'NEU']\n",
        "df = df[df.sentiment != 'NONE']"
      ],
      "execution_count": null,
      "outputs": []
    },
    {
      "cell_type": "code",
      "metadata": {
        "id": "jwG-xnDQlWMA"
      },
      "source": [
        "#converts dataframe to csv\n",
        "# path = '/content/Sentiment-Analysis-DeepLearningCourse'\n",
        "# df.to_csv(path + '/' + 'tweetslatinamerica.csv')"
      ],
      "execution_count": null,
      "outputs": []
    },
    {
      "cell_type": "markdown",
      "metadata": {
        "id": "5jh8AHw61KXP"
      },
      "source": [
        "Viendo el gráfico debajo podemos concluir que el dataset está relativamente balanceado."
      ]
    },
    {
      "cell_type": "code",
      "metadata": {
        "id": "86uQtu3EDyB_",
        "colab": {
          "base_uri": "https://localhost:8080/"
        },
        "outputId": "aedd11e9-3dc9-4bee-e7f5-d81c9eae8d2f"
      },
      "source": [
        "#check how many positive and negative tags are in the dataset\n",
        "ax = df['sentiment'].value_counts(sort=False).plot(kind='barh')"
      ],
      "execution_count": null,
      "outputs": [
        {
          "output_type": "display_data",
          "data": {
            "image/png": "[encoded data removed]",
            "text/plain": [
              "<Figure size 432x288 with 1 Axes>"
            ]
          },
          "metadata": {
            "tags": [],
            "needs_background": "light"
          }
        }
      ]
    },
    {
      "cell_type": "markdown",
      "metadata": {
        "id": "xLVymj042G_v"
      },
      "source": [
        "# **Parte 2 - Limpieza de tweets**\n",
        "En esta parte limpiaremos los tweets de la siguiente manera:\n",
        "- Pasaremos todo a minúscula\n",
        "- Quitaremos puntuaciones y símbolos\n",
        "- Quitaremos las referencias a los retweets (rt)\n",
        "- Quitaremos las stopwords\n",
        "-\tHaremos stemmering a las palabras, intentando reducir el vocabulario total\n",
        "- Quitaremos todos los caracteres que no sean alfabéticos\n",
        "\n",
        "Luego utilizaremos CountVectorizer de ScikitLearn para contar cuantas palabras tiene el dataset y obtener las más utilizadas."
      ]
    },
    {
      "cell_type": "code",
      "metadata": {
        "id": "a-iY5c9Abrmv",
        "colab": {
          "base_uri": "https://localhost:8080/"
        },
        "outputId": "5ed412a3-e15f-4d02-e7af-8ad433929dc6"
      },
      "source": [
        "#nltk librería de análisis de lenguaje\n",
        "import nltk\n",
        "from nltk.corpus import stopwords\n",
        "from nltk.stem import SnowballStemmer\n",
        "stemmer = SnowballStemmer('spanish')\n",
        "\n",
        "#imports spanish stopwords\n",
        "nltk.download('stopwords')\n",
        "stopwords = set(stopwords.words('spanish'))\n",
        "\n",
        "#function to clean tweets\n",
        "def clean_tweets(tweet):\n",
        "  #lowercase\n",
        "  tweet = tweet.lower()\n",
        "  #removes punctiations\n",
        "  tweet = re.sub(r'[^a-zA-Z0-9]', ' ', tweet)\n",
        "  #delete retweets references\n",
        "  tweet = tweet.replace(' rt ', '')\n",
        "  #remove stopwords\n",
        "  tweet = [word for word in tweet.split(sep = ' ') if word not in stopwords]\n",
        "  #stemming words\n",
        "  tweet = [stemmer.stem(word) for word in tweet]\n",
        "  #stay with alphanumeric characters\n",
        "  tweet = [word for word in tweet if word.isalpha()]\n",
        "\n",
        "  return ' '.join(tweet)"
      ],
      "execution_count": null,
      "outputs": [
        {
          "output_type": "stream",
          "text": [
            "[nltk_data] Downloading package stopwords to /root/nltk_data...\n",
            "[nltk_data]   Unzipping corpora/stopwords.zip.\n"
          ],
          "name": "stdout"
        }
      ]
    },
    {
      "cell_type": "code",
      "metadata": {
        "id": "6lXnszNsVFaA"
      },
      "source": [
        "#apply function to clean text creating a new column that will have the cleaned text\n",
        "df['tweet'] = df['tweet_unclean'].apply(lambda x: clean_tweets(x))"
      ],
      "execution_count": null,
      "outputs": []
    },
    {
      "cell_type": "code",
      "metadata": {
        "id": "v8iaMEMLTPM7",
        "colab": {
          "base_uri": "https://localhost:8080/"
        },
        "outputId": "a53aa79f-4367-49b2-dd70-7255d185f73b"
      },
      "source": [
        "#check how it looks the cleaned tweets\n",
        "for i in range(26,30):\n",
        "  print('unclean: {}'.format(df['tweet_unclean'].iloc[i]),'\\n','clean: {}'.format(df['tweet'].iloc[i]))\n",
        "  print('-----------------------------')\n"
      ],
      "execution_count": null,
      "outputs": [
        {
          "output_type": "stream",
          "text": [
            "unclean: Hoy fui al gimnasio, hice la rutina de brazos y ahora estoy tan dolido que me cuesta levantar los chicharrones y la birra... #GymRat \n",
            " clean: hoy gimnasi hic rutin braz ahor tan dol cuest levant chicharron birr gymrat\n",
            "-----------------------------\n",
            "unclean: Las personas jovenes no deberian partir . Un muchacho super emprendedor y lleno de suenos se fue Mucha fuerza a la familia y amigos. \n",
            " clean: person joven deberi part muchach sup emprendedor llen suen much fuerz famili amig\n",
            "-----------------------------\n",
            "unclean: Dificilmente el quiera algo serio con ust si todo empezo por yaleo y nudes respetese y vera que la buscan para algo serio y bonito️ \n",
            " clean: dificil quier seri ust si empez yale nud respetes ver busc seri bonit\n",
            "-----------------------------\n",
            "unclean: A mi si me gustan los carros renos, a veces los veo bonitos, a veces ridiculos, en cualquiera de los casos, me sacan una sonrisa \n",
            " clean: si gust carr ren vec veo bonit vec ridicul cualqu cas sac sonris\n",
            "-----------------------------\n"
          ],
          "name": "stdout"
        }
      ]
    },
    {
      "cell_type": "code",
      "metadata": {
        "id": "5-A6NM358q5g",
        "colab": {
          "base_uri": "https://localhost:8080/"
        },
        "outputId": "d0f60ccd-7260-4c4f-b27b-d98a033f056a"
      },
      "source": [
        "from sklearn.feature_extraction.text import CountVectorizer\n",
        "\n",
        "#counts how many words are in the dataset\n",
        "countvectorizer = CountVectorizer()\n",
        "countVector = countvectorizer.fit_transform(df['tweet'])\n",
        "print('{} Number of reviews has {} words'.format(countVector.shape[0], countVector.shape[1]))"
      ],
      "execution_count": null,
      "outputs": [
        {
          "output_type": "stream",
          "text": [
            "7037 Number of reviews has 9977 words\n"
          ],
          "name": "stdout"
        }
      ]
    },
    {
      "cell_type": "code",
      "metadata": {
        "id": "EWTmK6ww8uks",
        "colab": {
          "base_uri": "https://localhost:8080/"
        },
        "outputId": "f50b1c6e-f1eb-483f-8d98-6003f1a1af67"
      },
      "source": [
        "#use countvectorizer to create a dataframe with all the words in columns\n",
        "count_vect_df = pd.DataFrame(countVector.toarray(), columns=countvectorizer.get_feature_names())\n",
        "count_vect_df.head()"
      ],
      "execution_count": null,
      "outputs": [
        {
          "output_type": "execute_result",
          "data": {
            "text/html": [
              "<div>\n",
              "<style scoped>\n",
              "    .dataframe tbody tr th:only-of-type {\n",
              "        vertical-align: middle;\n",
              "    }\n",
              "\n",
              "    .dataframe tbody tr th {\n",
              "        vertical-align: top;\n",
              "    }\n",
              "\n",
              "    .dataframe thead th {\n",
              "        text-align: right;\n",
              "    }\n",
              "</style>\n",
              "<table border=\"1\" class=\"dataframe\">\n",
              "  <thead>\n",
              "    <tr style=\"text-align: right;\">\n",
              "      <th></th>\n",
              "      <th>aaa</th>\n",
              "      <th>aaaa</th>\n",
              "      <th>aaaaaay</th>\n",
              "      <th>aaaaajajajajajajajajaj</th>\n",
              "      <th>aaah</th>\n",
              "      <th>aaron</th>\n",
              "      <th>ab</th>\n",
              "      <th>abac</th>\n",
              "      <th>abaj</th>\n",
              "      <th>abandon</th>\n",
              "      <th>abandonadisim</th>\n",
              "      <th>abarc</th>\n",
              "      <th>abarrot</th>\n",
              "      <th>abast</th>\n",
              "      <th>abat</th>\n",
              "      <th>abby</th>\n",
              "      <th>abcdesignat</th>\n",
              "      <th>abdiel</th>\n",
              "      <th>abdielsmusic</th>\n",
              "      <th>abdom</th>\n",
              "      <th>abedul</th>\n",
              "      <th>abeftlouis</th>\n",
              "      <th>abel</th>\n",
              "      <th>aberron</th>\n",
              "      <th>abieeflor</th>\n",
              "      <th>abiert</th>\n",
              "      <th>abis</th>\n",
              "      <th>ablo</th>\n",
              "      <th>abord</th>\n",
              "      <th>abordaj</th>\n",
              "      <th>abossus</th>\n",
              "      <th>abrac</th>\n",
              "      <th>abraham</th>\n",
              "      <th>abrahamers</th>\n",
              "      <th>abrahammateoenuruguay</th>\n",
              "      <th>abrahammateomus</th>\n",
              "      <th>abram</th>\n",
              "      <th>abraz</th>\n",
              "      <th>abrazar</th>\n",
              "      <th>abrazart</th>\n",
              "      <th>...</th>\n",
              "      <th>zaharapop</th>\n",
              "      <th>zahirecoronel</th>\n",
              "      <th>zamruv</th>\n",
              "      <th>zanain</th>\n",
              "      <th>zapat</th>\n",
              "      <th>zapatill</th>\n",
              "      <th>zapd</th>\n",
              "      <th>zapejuan</th>\n",
              "      <th>zapot</th>\n",
              "      <th>zaragoz</th>\n",
              "      <th>zarcer</th>\n",
              "      <th>zarp</th>\n",
              "      <th>zaval</th>\n",
              "      <th>zayn</th>\n",
              "      <th>zeld</th>\n",
              "      <th>zeped</th>\n",
              "      <th>zepol</th>\n",
              "      <th>zer</th>\n",
              "      <th>zeroanim</th>\n",
              "      <th>zet</th>\n",
              "      <th>zgz</th>\n",
              "      <th>zi</th>\n",
              "      <th>zick</th>\n",
              "      <th>ziempr</th>\n",
              "      <th>zinoscrew</th>\n",
              "      <th>zoestrang</th>\n",
              "      <th>zombi</th>\n",
              "      <th>zombiepolar</th>\n",
              "      <th>zommix</th>\n",
              "      <th>zon</th>\n",
              "      <th>zonz</th>\n",
              "      <th>zoo</th>\n",
              "      <th>zorr</th>\n",
              "      <th>zoy</th>\n",
              "      <th>zum</th>\n",
              "      <th>zumb</th>\n",
              "      <th>zumbadisim</th>\n",
              "      <th>zumoo</th>\n",
              "      <th>zung</th>\n",
              "      <th>zylx</th>\n",
              "    </tr>\n",
              "  </thead>\n",
              "  <tbody>\n",
              "    <tr>\n",
              "      <th>0</th>\n",
              "      <td>0</td>\n",
              "      <td>0</td>\n",
              "      <td>0</td>\n",
              "      <td>0</td>\n",
              "      <td>0</td>\n",
              "      <td>0</td>\n",
              "      <td>0</td>\n",
              "      <td>0</td>\n",
              "      <td>0</td>\n",
              "      <td>0</td>\n",
              "      <td>0</td>\n",
              "      <td>0</td>\n",
              "      <td>0</td>\n",
              "      <td>0</td>\n",
              "      <td>0</td>\n",
              "      <td>0</td>\n",
              "      <td>0</td>\n",
              "      <td>0</td>\n",
              "      <td>0</td>\n",
              "      <td>0</td>\n",
              "      <td>0</td>\n",
              "      <td>0</td>\n",
              "      <td>0</td>\n",
              "      <td>0</td>\n",
              "      <td>0</td>\n",
              "      <td>0</td>\n",
              "      <td>0</td>\n",
              "      <td>0</td>\n",
              "      <td>0</td>\n",
              "      <td>0</td>\n",
              "      <td>0</td>\n",
              "      <td>0</td>\n",
              "      <td>0</td>\n",
              "      <td>0</td>\n",
              "      <td>0</td>\n",
              "      <td>0</td>\n",
              "      <td>0</td>\n",
              "      <td>0</td>\n",
              "      <td>0</td>\n",
              "      <td>0</td>\n",
              "      <td>...</td>\n",
              "      <td>0</td>\n",
              "      <td>0</td>\n",
              "      <td>0</td>\n",
              "      <td>0</td>\n",
              "      <td>0</td>\n",
              "      <td>0</td>\n",
              "      <td>0</td>\n",
              "      <td>0</td>\n",
              "      <td>0</td>\n",
              "      <td>0</td>\n",
              "      <td>0</td>\n",
              "      <td>0</td>\n",
              "      <td>0</td>\n",
              "      <td>0</td>\n",
              "      <td>0</td>\n",
              "      <td>0</td>\n",
              "      <td>0</td>\n",
              "      <td>0</td>\n",
              "      <td>0</td>\n",
              "      <td>0</td>\n",
              "      <td>0</td>\n",
              "      <td>0</td>\n",
              "      <td>0</td>\n",
              "      <td>0</td>\n",
              "      <td>0</td>\n",
              "      <td>0</td>\n",
              "      <td>0</td>\n",
              "      <td>0</td>\n",
              "      <td>0</td>\n",
              "      <td>0</td>\n",
              "      <td>0</td>\n",
              "      <td>0</td>\n",
              "      <td>0</td>\n",
              "      <td>0</td>\n",
              "      <td>0</td>\n",
              "      <td>0</td>\n",
              "      <td>0</td>\n",
              "      <td>0</td>\n",
              "      <td>0</td>\n",
              "      <td>0</td>\n",
              "    </tr>\n",
              "    <tr>\n",
              "      <th>1</th>\n",
              "      <td>0</td>\n",
              "      <td>0</td>\n",
              "      <td>0</td>\n",
              "      <td>0</td>\n",
              "      <td>0</td>\n",
              "      <td>0</td>\n",
              "      <td>0</td>\n",
              "      <td>0</td>\n",
              "      <td>0</td>\n",
              "      <td>0</td>\n",
              "      <td>0</td>\n",
              "      <td>0</td>\n",
              "      <td>0</td>\n",
              "      <td>0</td>\n",
              "      <td>0</td>\n",
              "      <td>0</td>\n",
              "      <td>0</td>\n",
              "      <td>0</td>\n",
              "      <td>0</td>\n",
              "      <td>0</td>\n",
              "      <td>0</td>\n",
              "      <td>0</td>\n",
              "      <td>0</td>\n",
              "      <td>0</td>\n",
              "      <td>0</td>\n",
              "      <td>0</td>\n",
              "      <td>0</td>\n",
              "      <td>0</td>\n",
              "      <td>0</td>\n",
              "      <td>0</td>\n",
              "      <td>0</td>\n",
              "      <td>0</td>\n",
              "      <td>0</td>\n",
              "      <td>0</td>\n",
              "      <td>0</td>\n",
              "      <td>0</td>\n",
              "      <td>0</td>\n",
              "      <td>0</td>\n",
              "      <td>0</td>\n",
              "      <td>0</td>\n",
              "      <td>...</td>\n",
              "      <td>0</td>\n",
              "      <td>0</td>\n",
              "      <td>0</td>\n",
              "      <td>0</td>\n",
              "      <td>0</td>\n",
              "      <td>0</td>\n",
              "      <td>0</td>\n",
              "      <td>0</td>\n",
              "      <td>0</td>\n",
              "      <td>0</td>\n",
              "      <td>0</td>\n",
              "      <td>0</td>\n",
              "      <td>0</td>\n",
              "      <td>0</td>\n",
              "      <td>0</td>\n",
              "      <td>0</td>\n",
              "      <td>0</td>\n",
              "      <td>0</td>\n",
              "      <td>0</td>\n",
              "      <td>0</td>\n",
              "      <td>0</td>\n",
              "      <td>0</td>\n",
              "      <td>0</td>\n",
              "      <td>0</td>\n",
              "      <td>0</td>\n",
              "      <td>0</td>\n",
              "      <td>0</td>\n",
              "      <td>0</td>\n",
              "      <td>0</td>\n",
              "      <td>0</td>\n",
              "      <td>0</td>\n",
              "      <td>0</td>\n",
              "      <td>0</td>\n",
              "      <td>0</td>\n",
              "      <td>0</td>\n",
              "      <td>0</td>\n",
              "      <td>0</td>\n",
              "      <td>0</td>\n",
              "      <td>0</td>\n",
              "      <td>0</td>\n",
              "    </tr>\n",
              "    <tr>\n",
              "      <th>2</th>\n",
              "      <td>0</td>\n",
              "      <td>0</td>\n",
              "      <td>0</td>\n",
              "      <td>0</td>\n",
              "      <td>0</td>\n",
              "      <td>0</td>\n",
              "      <td>0</td>\n",
              "      <td>0</td>\n",
              "      <td>0</td>\n",
              "      <td>0</td>\n",
              "      <td>0</td>\n",
              "      <td>0</td>\n",
              "      <td>0</td>\n",
              "      <td>0</td>\n",
              "      <td>0</td>\n",
              "      <td>0</td>\n",
              "      <td>0</td>\n",
              "      <td>0</td>\n",
              "      <td>0</td>\n",
              "      <td>0</td>\n",
              "      <td>0</td>\n",
              "      <td>0</td>\n",
              "      <td>0</td>\n",
              "      <td>0</td>\n",
              "      <td>0</td>\n",
              "      <td>0</td>\n",
              "      <td>0</td>\n",
              "      <td>0</td>\n",
              "      <td>0</td>\n",
              "      <td>0</td>\n",
              "      <td>0</td>\n",
              "      <td>0</td>\n",
              "      <td>0</td>\n",
              "      <td>0</td>\n",
              "      <td>0</td>\n",
              "      <td>0</td>\n",
              "      <td>0</td>\n",
              "      <td>0</td>\n",
              "      <td>0</td>\n",
              "      <td>0</td>\n",
              "      <td>...</td>\n",
              "      <td>0</td>\n",
              "      <td>0</td>\n",
              "      <td>0</td>\n",
              "      <td>0</td>\n",
              "      <td>0</td>\n",
              "      <td>0</td>\n",
              "      <td>0</td>\n",
              "      <td>0</td>\n",
              "      <td>0</td>\n",
              "      <td>0</td>\n",
              "      <td>0</td>\n",
              "      <td>0</td>\n",
              "      <td>0</td>\n",
              "      <td>0</td>\n",
              "      <td>0</td>\n",
              "      <td>0</td>\n",
              "      <td>0</td>\n",
              "      <td>0</td>\n",
              "      <td>0</td>\n",
              "      <td>0</td>\n",
              "      <td>0</td>\n",
              "      <td>0</td>\n",
              "      <td>0</td>\n",
              "      <td>0</td>\n",
              "      <td>0</td>\n",
              "      <td>0</td>\n",
              "      <td>0</td>\n",
              "      <td>0</td>\n",
              "      <td>0</td>\n",
              "      <td>0</td>\n",
              "      <td>0</td>\n",
              "      <td>0</td>\n",
              "      <td>0</td>\n",
              "      <td>0</td>\n",
              "      <td>0</td>\n",
              "      <td>0</td>\n",
              "      <td>0</td>\n",
              "      <td>0</td>\n",
              "      <td>0</td>\n",
              "      <td>0</td>\n",
              "    </tr>\n",
              "    <tr>\n",
              "      <th>3</th>\n",
              "      <td>0</td>\n",
              "      <td>0</td>\n",
              "      <td>0</td>\n",
              "      <td>0</td>\n",
              "      <td>0</td>\n",
              "      <td>0</td>\n",
              "      <td>0</td>\n",
              "      <td>0</td>\n",
              "      <td>0</td>\n",
              "      <td>0</td>\n",
              "      <td>0</td>\n",
              "      <td>0</td>\n",
              "      <td>0</td>\n",
              "      <td>0</td>\n",
              "      <td>0</td>\n",
              "      <td>0</td>\n",
              "      <td>0</td>\n",
              "      <td>0</td>\n",
              "      <td>0</td>\n",
              "      <td>0</td>\n",
              "      <td>0</td>\n",
              "      <td>0</td>\n",
              "      <td>0</td>\n",
              "      <td>0</td>\n",
              "      <td>0</td>\n",
              "      <td>0</td>\n",
              "      <td>0</td>\n",
              "      <td>0</td>\n",
              "      <td>0</td>\n",
              "      <td>0</td>\n",
              "      <td>0</td>\n",
              "      <td>0</td>\n",
              "      <td>0</td>\n",
              "      <td>0</td>\n",
              "      <td>0</td>\n",
              "      <td>0</td>\n",
              "      <td>0</td>\n",
              "      <td>0</td>\n",
              "      <td>0</td>\n",
              "      <td>0</td>\n",
              "      <td>...</td>\n",
              "      <td>0</td>\n",
              "      <td>0</td>\n",
              "      <td>0</td>\n",
              "      <td>0</td>\n",
              "      <td>0</td>\n",
              "      <td>0</td>\n",
              "      <td>0</td>\n",
              "      <td>0</td>\n",
              "      <td>0</td>\n",
              "      <td>0</td>\n",
              "      <td>0</td>\n",
              "      <td>0</td>\n",
              "      <td>0</td>\n",
              "      <td>0</td>\n",
              "      <td>0</td>\n",
              "      <td>0</td>\n",
              "      <td>0</td>\n",
              "      <td>0</td>\n",
              "      <td>0</td>\n",
              "      <td>0</td>\n",
              "      <td>0</td>\n",
              "      <td>0</td>\n",
              "      <td>0</td>\n",
              "      <td>0</td>\n",
              "      <td>0</td>\n",
              "      <td>0</td>\n",
              "      <td>0</td>\n",
              "      <td>0</td>\n",
              "      <td>0</td>\n",
              "      <td>0</td>\n",
              "      <td>0</td>\n",
              "      <td>0</td>\n",
              "      <td>0</td>\n",
              "      <td>0</td>\n",
              "      <td>0</td>\n",
              "      <td>0</td>\n",
              "      <td>0</td>\n",
              "      <td>0</td>\n",
              "      <td>0</td>\n",
              "      <td>0</td>\n",
              "    </tr>\n",
              "    <tr>\n",
              "      <th>4</th>\n",
              "      <td>0</td>\n",
              "      <td>0</td>\n",
              "      <td>0</td>\n",
              "      <td>0</td>\n",
              "      <td>0</td>\n",
              "      <td>0</td>\n",
              "      <td>0</td>\n",
              "      <td>0</td>\n",
              "      <td>0</td>\n",
              "      <td>0</td>\n",
              "      <td>0</td>\n",
              "      <td>0</td>\n",
              "      <td>0</td>\n",
              "      <td>0</td>\n",
              "      <td>0</td>\n",
              "      <td>0</td>\n",
              "      <td>0</td>\n",
              "      <td>0</td>\n",
              "      <td>0</td>\n",
              "      <td>0</td>\n",
              "      <td>0</td>\n",
              "      <td>0</td>\n",
              "      <td>0</td>\n",
              "      <td>0</td>\n",
              "      <td>0</td>\n",
              "      <td>0</td>\n",
              "      <td>0</td>\n",
              "      <td>0</td>\n",
              "      <td>0</td>\n",
              "      <td>0</td>\n",
              "      <td>0</td>\n",
              "      <td>0</td>\n",
              "      <td>0</td>\n",
              "      <td>0</td>\n",
              "      <td>0</td>\n",
              "      <td>0</td>\n",
              "      <td>0</td>\n",
              "      <td>0</td>\n",
              "      <td>0</td>\n",
              "      <td>0</td>\n",
              "      <td>...</td>\n",
              "      <td>0</td>\n",
              "      <td>0</td>\n",
              "      <td>0</td>\n",
              "      <td>0</td>\n",
              "      <td>0</td>\n",
              "      <td>0</td>\n",
              "      <td>0</td>\n",
              "      <td>0</td>\n",
              "      <td>0</td>\n",
              "      <td>0</td>\n",
              "      <td>0</td>\n",
              "      <td>0</td>\n",
              "      <td>0</td>\n",
              "      <td>0</td>\n",
              "      <td>0</td>\n",
              "      <td>0</td>\n",
              "      <td>0</td>\n",
              "      <td>0</td>\n",
              "      <td>0</td>\n",
              "      <td>0</td>\n",
              "      <td>0</td>\n",
              "      <td>0</td>\n",
              "      <td>0</td>\n",
              "      <td>0</td>\n",
              "      <td>0</td>\n",
              "      <td>0</td>\n",
              "      <td>0</td>\n",
              "      <td>0</td>\n",
              "      <td>0</td>\n",
              "      <td>0</td>\n",
              "      <td>0</td>\n",
              "      <td>0</td>\n",
              "      <td>0</td>\n",
              "      <td>0</td>\n",
              "      <td>0</td>\n",
              "      <td>0</td>\n",
              "      <td>0</td>\n",
              "      <td>0</td>\n",
              "      <td>0</td>\n",
              "      <td>0</td>\n",
              "    </tr>\n",
              "  </tbody>\n",
              "</table>\n",
              "<p>5 rows × 9977 columns</p>\n",
              "</div>"
            ],
            "text/plain": [
              "   aaa  aaaa  aaaaaay  aaaaajajajajajajajajaj  ...  zumbadisim  zumoo  zung  zylx\n",
              "0    0     0        0                       0  ...           0      0     0     0\n",
              "1    0     0        0                       0  ...           0      0     0     0\n",
              "2    0     0        0                       0  ...           0      0     0     0\n",
              "3    0     0        0                       0  ...           0      0     0     0\n",
              "4    0     0        0                       0  ...           0      0     0     0\n",
              "\n",
              "[5 rows x 9977 columns]"
            ]
          },
          "metadata": {
            "tags": []
          },
          "execution_count": 16
        }
      ]
    },
    {
      "cell_type": "code",
      "metadata": {
        "id": "BMWHDMu58xkS",
        "colab": {
          "base_uri": "https://localhost:8080/",
          "height": 326
        },
        "outputId": "928d4416-6ccd-4d74-f198-36bafc70c406"
      },
      "source": [
        "#shows most used words\n",
        "count = pd.DataFrame(count_vect_df.sum())\n",
        "countdf = count.sort_values(0,ascending=False).head(20)\n",
        "countdf[0:9]"
      ],
      "execution_count": null,
      "outputs": [
        {
          "output_type": "execute_result",
          "data": {
            "text/html": [
              "<div>\n",
              "<style scoped>\n",
              "    .dataframe tbody tr th:only-of-type {\n",
              "        vertical-align: middle;\n",
              "    }\n",
              "\n",
              "    .dataframe tbody tr th {\n",
              "        vertical-align: top;\n",
              "    }\n",
              "\n",
              "    .dataframe thead th {\n",
              "        text-align: right;\n",
              "    }\n",
              "</style>\n",
              "<table border=\"1\" class=\"dataframe\">\n",
              "  <thead>\n",
              "    <tr style=\"text-align: right;\">\n",
              "      <th></th>\n",
              "      <th>0</th>\n",
              "    </tr>\n",
              "  </thead>\n",
              "  <tbody>\n",
              "    <tr>\n",
              "      <th>buen</th>\n",
              "      <td>774</td>\n",
              "    </tr>\n",
              "    <tr>\n",
              "      <th>si</th>\n",
              "      <td>653</td>\n",
              "    </tr>\n",
              "    <tr>\n",
              "      <th>mas</th>\n",
              "      <td>600</td>\n",
              "    </tr>\n",
              "    <tr>\n",
              "      <th>hac</th>\n",
              "      <td>525</td>\n",
              "    </tr>\n",
              "    <tr>\n",
              "      <th>mejor</th>\n",
              "      <td>410</td>\n",
              "    </tr>\n",
              "    <tr>\n",
              "      <th>quier</th>\n",
              "      <td>400</td>\n",
              "    </tr>\n",
              "    <tr>\n",
              "      <th>sol</th>\n",
              "      <td>391</td>\n",
              "    </tr>\n",
              "    <tr>\n",
              "      <th>ser</th>\n",
              "      <td>377</td>\n",
              "    </tr>\n",
              "    <tr>\n",
              "      <th>pas</th>\n",
              "      <td>372</td>\n",
              "    </tr>\n",
              "  </tbody>\n",
              "</table>\n",
              "</div>"
            ],
            "text/plain": [
              "         0\n",
              "buen   774\n",
              "si     653\n",
              "mas    600\n",
              "hac    525\n",
              "mejor  410\n",
              "quier  400\n",
              "sol    391\n",
              "ser    377\n",
              "pas    372"
            ]
          },
          "metadata": {
            "tags": []
          },
          "execution_count": 17
        }
      ]
    },
    {
      "cell_type": "markdown",
      "metadata": {
        "id": "tfi2pbE38Ctf"
      },
      "source": [
        "# **Parte 3 - Armado de WorldCloud**\n",
        "En esta sección armaremos un WordCloud con los tweets ya limpios y utilizando una máscara de latinoamerica.\n",
        "Primero importaremos la imagen a utilizar, la pasaremos a blanco y negro para luego utilizarla como máscara en la función que crea el WorldCloud."
      ]
    },
    {
      "cell_type": "code",
      "metadata": {
        "id": "TSoOdpsnNyEx",
        "colab": {
          "base_uri": "https://localhost:8080/"
        },
        "outputId": "37954310-078a-4bd5-fedd-c9a5d10285ac"
      },
      "source": [
        "#create mask for worldcloud\n",
        "import cv2\n",
        "import matplotlib.pyplot as plt\n",
        "\n",
        "path = '/content/Sentiment-Analysis-DeepLearningCourse'\n",
        "\n",
        "#reads image and crops it\n",
        "image = cv2.imread(path + '/latinamericamap.png')\n",
        "image = image[350:1500, 350:1500]\n",
        "plt.imshow(image)"
      ],
      "execution_count": null,
      "outputs": [
        {
          "output_type": "execute_result",
          "data": {
            "text/plain": [
              "<matplotlib.image.AxesImage at 0x7f3243c8f3d0>"
            ]
          },
          "metadata": {
            "tags": []
          },
          "execution_count": 18
        },
        {
          "output_type": "display_data",
          "data": {
            "image/png": "[encoded data removed]",
            "text/plain": [
              "<Figure size 432x288 with 1 Axes>"
            ]
          },
          "metadata": {
            "tags": [],
            "needs_background": "light"
          }
        }
      ]
    },
    {
      "cell_type": "code",
      "metadata": {
        "id": "zjX8zJSaPXd6",
        "colab": {
          "base_uri": "https://localhost:8080/"
        },
        "outputId": "9f84f61e-6953-4a5b-a27e-e9d87364af8e"
      },
      "source": [
        "#get mask from the image and saves it for later use\n",
        "lower = np.array([0,0,0])\n",
        "upper = np.array([40,255,40])\n",
        "mask = cv2.inRange(image,lower,upper)\n",
        "plt.imshow(mask, cmap = 'gray')\n",
        "cv2.imwrite(img = mask, filename = '/content/LAmask.jpg')"
      ],
      "execution_count": null,
      "outputs": [
        {
          "output_type": "execute_result",
          "data": {
            "text/plain": [
              "True"
            ]
          },
          "metadata": {
            "tags": []
          },
          "execution_count": 19
        },
        {
          "output_type": "display_data",
          "data": {
            "image/png": "[encoded data removed]",
            "text/plain": [
              "<Figure size 432x288 with 1 Axes>"
            ]
          },
          "metadata": {
            "tags": [],
            "needs_background": "light"
          }
        }
      ]
    },
    {
      "cell_type": "code",
      "metadata": {
        "id": "Uxqg_oD_41f5",
        "colab": {
          "base_uri": "https://localhost:8080/",
          "height": 1000
        },
        "outputId": "a128e25f-b50e-40f9-e7ee-a17cfe1285e6"
      },
      "source": [
        "#create wordcloud for positive and negative words using mask defined above\n",
        "\n",
        "from wordcloud import WordCloud, STOPWORDS\n",
        "import matplotlib.pyplot as plt\n",
        "from PIL import Image\n",
        "\n",
        "#creates mask for worldcloud\n",
        "LAmask = np.array(Image.open('/content/LAmask.jpg'))\n",
        "\n",
        "def wordcloud_draw(data, color = 'white'):\n",
        "  words = ' '.join(data)\n",
        "  wordcloud = WordCloud(stopwords = stopwords,\n",
        "                        background_color = color,\n",
        "                        mask = LAmask\n",
        "                        ).generate(words)\n",
        "  plt.figure(1, figsize=(13,13))\n",
        "  plt.imshow(wordcloud)\n",
        "  plt.axis('off')\n",
        "  plt.show()\n",
        "\n",
        "print(wordcloud_draw(df['tweet'][df.sentiment == 'P'], color = 'white'))\n",
        "print(wordcloud_draw(df['tweet'][df.sentiment == 'N'], color = 'black'))"
      ],
      "execution_count": null,
      "outputs": [
        {
          "output_type": "display_data",
          "data": {
            "image/png": "[encoded data removed]",
            "text/plain": [
              "<Figure size 936x936 with 1 Axes>"
            ]
          },
          "metadata": {
            "tags": [],
            "needs_background": "light"
          }
        },
        {
          "output_type": "stream",
          "text": [
            "None\n"
          ],
          "name": "stdout"
        },
        {
          "output_type": "display_data",
          "data": {
            "image/png": "[encoded data removed]",
            "text/plain": [
              "<Figure size 936x936 with 1 Axes>"
            ]
          },
          "metadata": {
            "tags": [],
            "needs_background": "light"
          }
        },
        {
          "output_type": "stream",
          "text": [
            "None\n"
          ],
          "name": "stdout"
        }
      ]
    },
    {
      "cell_type": "markdown",
      "metadata": {
        "id": "MPzLw_Ba9ewn"
      },
      "source": [
        "# **Parte 4 - Ensamble y entrenamiento de la red neuronal LSTM**\n",
        "Para entrenar la red neuronal primero transformaremos los tweets en vectores utilizando la función Tokenizer de Keras y separaremos el dataset en train, test y validation.\n",
        "La red neuronal constará de las siguientes capas:\n",
        "- Embedding\n",
        "- Dropout(0.5)\n",
        "- LSTM de 8 unidades\n",
        "- Densa de 2 unidades y activación sigmoid \n",
        "\n",
        "Para la capa de embedding utilizaremos un output_dim relacionado a la cantidad de las palabras presentes en el dataset.\n",
        "Compilaremos el modelo utilizando el optimizador adam, la función de loss binary_crossentropy y accuracy para las métricas. Entrenaremos la red durante 10 epochs y un batch_size de 32 teniendo poco más de 90 mil parámetros entrenables.\n"
      ]
    },
    {
      "cell_type": "code",
      "metadata": {
        "id": "2wfrbz9SIJdV"
      },
      "source": [
        "#trains tokenizer with the tweets\n",
        "\n",
        "from keras.preprocessing.text import Tokenizer\n",
        "from keras.preprocessing.sequence import pad_sequences\n",
        "\n",
        "#the features will be the amount of words\n",
        "max_features = countVector.shape[1]\n",
        "\n",
        "#initilize Tokenizer\n",
        "tokenizer = Tokenizer(num_words = max_features, split =' ')\n",
        "\n",
        "#training\n",
        "tokenizer.fit_on_texts(df['tweet'].values)\n",
        "\n",
        "#transforms tweets in numeric arrays\n",
        "X1 = tokenizer.texts_to_sequences(df['tweet'].values)\n",
        "\n",
        "#transforms all sequences into same length\n",
        "X = pad_sequences(X1)"
      ],
      "execution_count": null,
      "outputs": []
    },
    {
      "cell_type": "code",
      "metadata": {
        "id": "r78IPCtkMbq_"
      },
      "source": [
        "#prepare train and test dataset\n",
        "from sklearn.model_selection import train_test_split\n",
        "\n",
        "#dummies for sentiment\n",
        "Y = pd.get_dummies(df['sentiment']).values\n",
        "\n",
        "#train and test separation\n",
        "X_train, X_test, Y_train, Y_test = train_test_split(X, Y, test_size = 0.33, random_state = 42)"
      ],
      "execution_count": null,
      "outputs": []
    },
    {
      "cell_type": "code",
      "metadata": {
        "id": "uPCLN6Tqdb8K"
      },
      "source": [
        "#create validation set with 500 tweets\n",
        "validation_size = 500\n",
        "\n",
        "X_validate = X_test[-validation_size:]\n",
        "Y_validate = Y_test[-validation_size:]\n",
        "X_test = X_test[:-validation_size]\n",
        "Y_test = Y_test[:-validation_size]"
      ],
      "execution_count": null,
      "outputs": []
    },
    {
      "cell_type": "code",
      "metadata": {
        "id": "Ql3M2KhkQpb2",
        "colab": {
          "base_uri": "https://localhost:8080/"
        },
        "outputId": "9e76728d-d9c7-4c00-ea34-6da0a088931e"
      },
      "source": [
        "#assembling of neural network\n",
        "from keras.models import Sequential\n",
        "from keras.layers import Embedding, LSTM, Dense, Dropout\n",
        "\n",
        "# embedding dimension will be 4th root of the amout of words (=9)\n",
        "embed_dim = int(countVector.shape[1]**0.25)\n",
        "\n",
        "model = Sequential()\n",
        "model.add(Embedding(input_dim = max_features, output_dim = embed_dim, input_length = X.shape[1]))\n",
        "model.add(Dropout(0.5))\n",
        "model.add(LSTM(8, dropout = 0.2, recurrent_dropout = 0.2))\n",
        "model.add(Dense(Y.shape[1], activation = 'sigmoid'))\n",
        "model.summary()"
      ],
      "execution_count": null,
      "outputs": [
        {
          "output_type": "stream",
          "text": [
            "Model: \"sequential\"\n",
            "_________________________________________________________________\n",
            "Layer (type)                 Output Shape              Param #   \n",
            "=================================================================\n",
            "embedding (Embedding)        (None, 22, 9)             89793     \n",
            "_________________________________________________________________\n",
            "dropout (Dropout)            (None, 22, 9)             0         \n",
            "_________________________________________________________________\n",
            "lstm (LSTM)                  (None, 8)                 576       \n",
            "_________________________________________________________________\n",
            "dense (Dense)                (None, 2)                 18        \n",
            "=================================================================\n",
            "Total params: 90,387\n",
            "Trainable params: 90,387\n",
            "Non-trainable params: 0\n",
            "_________________________________________________________________\n"
          ],
          "name": "stdout"
        }
      ]
    },
    {
      "cell_type": "code",
      "metadata": {
        "id": "fOIdTCjUW0M_",
        "colab": {
          "base_uri": "https://localhost:8080/"
        },
        "outputId": "f95d2f69-8bbc-424b-fec2-f8eba491063b"
      },
      "source": [
        "#compile and train model\n",
        "model.compile(optimizer = 'adam', loss = 'binary_crossentropy', metrics = ['accuracy'])\n",
        "model.fit(X_train, Y_train, batch_size = 32, epochs = 10, validation_data = (X_validate, Y_validate))"
      ],
      "execution_count": null,
      "outputs": [
        {
          "output_type": "stream",
          "text": [
            "Epoch 1/10\n",
            "148/148 [==============================] - 30s 29ms/step - loss: 0.6858 - accuracy: 0.5532 - val_loss: 0.6678 - val_accuracy: 0.5600\n",
            "Epoch 2/10\n",
            "148/148 [==============================] - 3s 20ms/step - loss: 0.6384 - accuracy: 0.6096 - val_loss: 0.5369 - val_accuracy: 0.7120\n",
            "Epoch 3/10\n",
            "148/148 [==============================] - 3s 20ms/step - loss: 0.4720 - accuracy: 0.8208 - val_loss: 0.4485 - val_accuracy: 0.8340\n",
            "Epoch 4/10\n",
            "148/148 [==============================] - 3s 19ms/step - loss: 0.3495 - accuracy: 0.8756 - val_loss: 0.3944 - val_accuracy: 0.8400\n",
            "Epoch 5/10\n",
            "148/148 [==============================] - 3s 20ms/step - loss: 0.2671 - accuracy: 0.9096 - val_loss: 0.3774 - val_accuracy: 0.8380\n",
            "Epoch 6/10\n",
            "148/148 [==============================] - 3s 19ms/step - loss: 0.2034 - accuracy: 0.9260 - val_loss: 0.3851 - val_accuracy: 0.8420\n",
            "Epoch 7/10\n",
            "148/148 [==============================] - 3s 19ms/step - loss: 0.1549 - accuracy: 0.9477 - val_loss: 0.4041 - val_accuracy: 0.8360\n",
            "Epoch 8/10\n",
            "148/148 [==============================] - 3s 19ms/step - loss: 0.1241 - accuracy: 0.9580 - val_loss: 0.4043 - val_accuracy: 0.8520\n",
            "Epoch 9/10\n",
            "148/148 [==============================] - 3s 19ms/step - loss: 0.1233 - accuracy: 0.9547 - val_loss: 0.4311 - val_accuracy: 0.8480\n",
            "Epoch 10/10\n",
            "148/148 [==============================] - 3s 19ms/step - loss: 0.0953 - accuracy: 0.9679 - val_loss: 0.4656 - val_accuracy: 0.8400\n"
          ],
          "name": "stdout"
        },
        {
          "output_type": "execute_result",
          "data": {
            "text/plain": [
              "<keras.callbacks.History at 0x7f31f5cecf50>"
            ]
          },
          "metadata": {
            "tags": []
          },
          "execution_count": 25
        }
      ]
    },
    {
      "cell_type": "code",
      "metadata": {
        "id": "OduRUZ4SXuLS",
        "colab": {
          "base_uri": "https://localhost:8080/"
        },
        "outputId": "0b3e30b0-baaa-4dff-98b7-1cfadc0e9c64"
      },
      "source": [
        "#check score and accuracy in test set\n",
        "score,acc_lstm = model.evaluate(X_test, Y_test, batch_size = 8)\n",
        "print(\"Score: %.2f\" % (score))\n",
        "print(\"Acc: %.2f\" % (acc_lstm))"
      ],
      "execution_count": null,
      "outputs": [
        {
          "output_type": "stream",
          "text": [
            "228/228 [==============================] - 1s 3ms/step - loss: 0.4332 - accuracy: 0.8541\n",
            "Score: 0.43\n",
            "Acc: 0.85\n"
          ],
          "name": "stdout"
        }
      ]
    },
    {
      "cell_type": "code",
      "metadata": {
        "id": "pSLulUS8s_2z",
        "colab": {
          "base_uri": "https://localhost:8080/"
        },
        "outputId": "bbdbb027-7667-4314-dc83-e9104a45199c"
      },
      "source": [
        "import numpy as np\n",
        "pos_cnt, neg_cnt, pos_correct, neg_correct = 0, 0, 0, 0\n",
        "for x in range(len(X_validate)):\n",
        "    \n",
        "    result = model.predict(X_validate[x].reshape(1,X_test.shape[1]),batch_size=1,verbose = 2)[0]\n",
        "    \n",
        "    if np.argmax(result) == np.argmax(Y_validate[x]):\n",
        "\n",
        "        if np.argmax(Y_validate[x]) == 0:\n",
        "            neg_correct += 1\n",
        "        else:\n",
        "            pos_correct += 1\n",
        "       \n",
        "    if np.argmax(Y_validate[x]) == 0:\n",
        "        neg_cnt += 1\n",
        "    else:\n",
        "        pos_cnt += 1\n",
        "\n",
        "print(\"pos_recall\", pos_correct/pos_cnt*100, \"%\")\n",
        "print(\"neg_recall\", neg_correct/neg_cnt*100, \"%\")"
      ],
      "execution_count": null,
      "outputs": [
        {
          "output_type": "stream",
          "text": [
            "1/1 - 1s\n",
            "1/1 - 0s\n",
            "1/1 - 0s\n",
            "1/1 - 0s\n",
            "1/1 - 0s\n",
            "1/1 - 0s\n",
            "1/1 - 0s\n",
            "1/1 - 0s\n",
            "1/1 - 0s\n",
            "1/1 - 0s\n",
            "1/1 - 0s\n",
            "1/1 - 0s\n",
            "1/1 - 0s\n",
            "1/1 - 0s\n",
            "1/1 - 0s\n",
            "1/1 - 0s\n",
            "1/1 - 0s\n",
            "1/1 - 0s\n",
            "1/1 - 0s\n",
            "1/1 - 0s\n",
            "1/1 - 0s\n",
            "1/1 - 0s\n",
            "1/1 - 0s\n",
            "1/1 - 0s\n",
            "1/1 - 0s\n",
            "1/1 - 0s\n",
            "1/1 - 0s\n",
            "1/1 - 0s\n",
            "1/1 - 0s\n",
            "1/1 - 0s\n",
            "1/1 - 0s\n",
            "1/1 - 0s\n",
            "1/1 - 0s\n",
            "1/1 - 0s\n",
            "1/1 - 0s\n",
            "1/1 - 0s\n",
            "1/1 - 0s\n",
            "1/1 - 0s\n",
            "1/1 - 0s\n",
            "1/1 - 0s\n",
            "1/1 - 0s\n",
            "1/1 - 0s\n",
            "1/1 - 0s\n",
            "1/1 - 0s\n",
            "1/1 - 0s\n",
            "1/1 - 0s\n",
            "1/1 - 0s\n",
            "1/1 - 0s\n",
            "1/1 - 0s\n",
            "1/1 - 0s\n",
            "1/1 - 0s\n",
            "1/1 - 0s\n",
            "1/1 - 0s\n",
            "1/1 - 0s\n",
            "1/1 - 0s\n",
            "1/1 - 0s\n",
            "1/1 - 0s\n",
            "1/1 - 0s\n",
            "1/1 - 0s\n",
            "1/1 - 0s\n",
            "1/1 - 0s\n",
            "1/1 - 0s\n",
            "1/1 - 0s\n",
            "1/1 - 0s\n",
            "1/1 - 0s\n",
            "1/1 - 0s\n",
            "1/1 - 0s\n",
            "1/1 - 0s\n",
            "1/1 - 0s\n",
            "1/1 - 0s\n",
            "1/1 - 0s\n",
            "1/1 - 0s\n",
            "1/1 - 0s\n",
            "1/1 - 0s\n",
            "1/1 - 0s\n",
            "1/1 - 0s\n",
            "1/1 - 0s\n",
            "1/1 - 0s\n",
            "1/1 - 0s\n",
            "1/1 - 0s\n",
            "1/1 - 0s\n",
            "1/1 - 0s\n",
            "1/1 - 0s\n",
            "1/1 - 0s\n",
            "1/1 - 0s\n",
            "1/1 - 0s\n",
            "1/1 - 0s\n",
            "1/1 - 0s\n",
            "1/1 - 0s\n",
            "1/1 - 0s\n",
            "1/1 - 0s\n",
            "1/1 - 0s\n",
            "1/1 - 0s\n",
            "1/1 - 0s\n",
            "1/1 - 0s\n",
            "1/1 - 0s\n",
            "1/1 - 0s\n",
            "1/1 - 0s\n",
            "1/1 - 0s\n",
            "1/1 - 0s\n",
            "1/1 - 0s\n",
            "1/1 - 0s\n",
            "1/1 - 0s\n",
            "1/1 - 0s\n",
            "1/1 - 0s\n",
            "1/1 - 0s\n",
            "1/1 - 0s\n",
            "1/1 - 0s\n",
            "1/1 - 0s\n",
            "1/1 - 0s\n",
            "1/1 - 0s\n",
            "1/1 - 0s\n",
            "1/1 - 0s\n",
            "1/1 - 0s\n",
            "1/1 - 0s\n",
            "1/1 - 0s\n",
            "1/1 - 0s\n",
            "1/1 - 0s\n",
            "1/1 - 0s\n",
            "1/1 - 0s\n",
            "1/1 - 0s\n",
            "1/1 - 0s\n",
            "1/1 - 0s\n",
            "1/1 - 0s\n",
            "1/1 - 0s\n",
            "1/1 - 0s\n",
            "1/1 - 0s\n",
            "1/1 - 0s\n",
            "1/1 - 0s\n",
            "1/1 - 0s\n",
            "1/1 - 0s\n",
            "1/1 - 0s\n",
            "1/1 - 0s\n",
            "1/1 - 0s\n",
            "1/1 - 0s\n",
            "1/1 - 0s\n",
            "1/1 - 0s\n",
            "1/1 - 0s\n",
            "1/1 - 0s\n",
            "1/1 - 0s\n",
            "1/1 - 0s\n",
            "1/1 - 0s\n",
            "1/1 - 0s\n",
            "1/1 - 0s\n",
            "1/1 - 0s\n",
            "1/1 - 0s\n",
            "1/1 - 0s\n",
            "1/1 - 0s\n",
            "1/1 - 0s\n",
            "1/1 - 0s\n",
            "1/1 - 0s\n",
            "1/1 - 0s\n",
            "1/1 - 0s\n",
            "1/1 - 0s\n",
            "1/1 - 0s\n",
            "1/1 - 0s\n",
            "1/1 - 0s\n",
            "1/1 - 0s\n",
            "1/1 - 0s\n",
            "1/1 - 0s\n",
            "1/1 - 0s\n",
            "1/1 - 0s\n",
            "1/1 - 0s\n",
            "1/1 - 0s\n",
            "1/1 - 0s\n",
            "1/1 - 0s\n",
            "1/1 - 0s\n",
            "1/1 - 0s\n",
            "1/1 - 0s\n",
            "1/1 - 0s\n",
            "1/1 - 0s\n",
            "1/1 - 0s\n",
            "1/1 - 0s\n",
            "1/1 - 0s\n",
            "1/1 - 0s\n",
            "1/1 - 0s\n",
            "1/1 - 0s\n",
            "1/1 - 0s\n",
            "1/1 - 0s\n",
            "1/1 - 0s\n",
            "1/1 - 0s\n",
            "1/1 - 0s\n",
            "1/1 - 0s\n",
            "1/1 - 0s\n",
            "1/1 - 0s\n",
            "1/1 - 0s\n",
            "1/1 - 0s\n",
            "1/1 - 0s\n",
            "1/1 - 0s\n",
            "1/1 - 0s\n",
            "1/1 - 0s\n",
            "1/1 - 0s\n",
            "1/1 - 0s\n",
            "1/1 - 0s\n",
            "1/1 - 0s\n",
            "1/1 - 0s\n",
            "1/1 - 0s\n",
            "1/1 - 0s\n",
            "1/1 - 0s\n",
            "1/1 - 0s\n",
            "1/1 - 0s\n",
            "1/1 - 0s\n",
            "1/1 - 0s\n",
            "1/1 - 0s\n",
            "1/1 - 0s\n",
            "1/1 - 0s\n",
            "1/1 - 0s\n",
            "1/1 - 0s\n",
            "1/1 - 0s\n",
            "1/1 - 0s\n",
            "1/1 - 0s\n",
            "1/1 - 0s\n",
            "1/1 - 0s\n",
            "1/1 - 0s\n",
            "1/1 - 0s\n",
            "1/1 - 0s\n",
            "1/1 - 0s\n",
            "1/1 - 0s\n",
            "1/1 - 0s\n",
            "1/1 - 0s\n",
            "1/1 - 0s\n",
            "1/1 - 0s\n",
            "1/1 - 0s\n",
            "1/1 - 0s\n",
            "1/1 - 0s\n",
            "1/1 - 0s\n",
            "1/1 - 0s\n",
            "1/1 - 0s\n",
            "1/1 - 0s\n",
            "1/1 - 0s\n",
            "1/1 - 0s\n",
            "1/1 - 0s\n",
            "1/1 - 0s\n",
            "1/1 - 0s\n",
            "1/1 - 0s\n",
            "1/1 - 0s\n",
            "1/1 - 0s\n",
            "1/1 - 0s\n",
            "1/1 - 0s\n",
            "1/1 - 0s\n",
            "1/1 - 0s\n",
            "1/1 - 0s\n",
            "1/1 - 0s\n",
            "1/1 - 0s\n",
            "1/1 - 0s\n",
            "1/1 - 0s\n",
            "1/1 - 0s\n",
            "1/1 - 0s\n",
            "1/1 - 0s\n",
            "1/1 - 0s\n",
            "1/1 - 0s\n",
            "1/1 - 0s\n",
            "1/1 - 0s\n",
            "1/1 - 0s\n",
            "1/1 - 0s\n",
            "1/1 - 0s\n",
            "1/1 - 0s\n",
            "1/1 - 0s\n",
            "1/1 - 0s\n",
            "1/1 - 0s\n",
            "1/1 - 0s\n",
            "1/1 - 0s\n",
            "1/1 - 0s\n",
            "1/1 - 0s\n",
            "1/1 - 0s\n",
            "1/1 - 0s\n",
            "1/1 - 0s\n",
            "1/1 - 0s\n",
            "1/1 - 0s\n",
            "1/1 - 0s\n",
            "1/1 - 0s\n",
            "1/1 - 0s\n",
            "1/1 - 0s\n",
            "1/1 - 0s\n",
            "1/1 - 0s\n",
            "1/1 - 0s\n",
            "1/1 - 0s\n",
            "1/1 - 0s\n",
            "1/1 - 0s\n",
            "1/1 - 0s\n",
            "1/1 - 0s\n",
            "1/1 - 0s\n",
            "1/1 - 0s\n",
            "1/1 - 0s\n",
            "1/1 - 0s\n",
            "1/1 - 0s\n",
            "1/1 - 0s\n",
            "1/1 - 0s\n",
            "1/1 - 0s\n",
            "1/1 - 0s\n",
            "1/1 - 0s\n",
            "1/1 - 0s\n",
            "1/1 - 0s\n",
            "1/1 - 0s\n",
            "1/1 - 0s\n",
            "1/1 - 0s\n",
            "1/1 - 0s\n",
            "1/1 - 0s\n",
            "1/1 - 0s\n",
            "1/1 - 0s\n",
            "1/1 - 0s\n",
            "1/1 - 0s\n",
            "1/1 - 0s\n",
            "1/1 - 0s\n",
            "1/1 - 0s\n",
            "1/1 - 0s\n",
            "1/1 - 0s\n",
            "1/1 - 0s\n",
            "1/1 - 0s\n",
            "1/1 - 0s\n",
            "1/1 - 0s\n",
            "1/1 - 0s\n",
            "1/1 - 0s\n",
            "1/1 - 0s\n",
            "1/1 - 0s\n",
            "1/1 - 0s\n",
            "1/1 - 0s\n",
            "1/1 - 0s\n",
            "1/1 - 0s\n",
            "1/1 - 0s\n",
            "1/1 - 0s\n",
            "1/1 - 0s\n",
            "1/1 - 0s\n",
            "1/1 - 0s\n",
            "1/1 - 0s\n",
            "1/1 - 0s\n",
            "1/1 - 0s\n",
            "1/1 - 0s\n",
            "1/1 - 0s\n",
            "1/1 - 0s\n",
            "1/1 - 0s\n",
            "1/1 - 0s\n",
            "1/1 - 0s\n",
            "1/1 - 0s\n",
            "1/1 - 0s\n",
            "1/1 - 0s\n",
            "1/1 - 0s\n",
            "1/1 - 0s\n",
            "1/1 - 0s\n",
            "1/1 - 0s\n",
            "1/1 - 0s\n",
            "1/1 - 0s\n",
            "1/1 - 0s\n",
            "1/1 - 0s\n",
            "1/1 - 0s\n",
            "1/1 - 0s\n",
            "1/1 - 0s\n",
            "1/1 - 0s\n",
            "1/1 - 0s\n",
            "1/1 - 0s\n",
            "1/1 - 0s\n",
            "1/1 - 0s\n",
            "1/1 - 0s\n",
            "1/1 - 0s\n",
            "1/1 - 0s\n",
            "1/1 - 0s\n",
            "1/1 - 0s\n",
            "1/1 - 0s\n",
            "1/1 - 0s\n",
            "1/1 - 0s\n",
            "1/1 - 0s\n",
            "1/1 - 0s\n",
            "1/1 - 0s\n",
            "1/1 - 0s\n",
            "1/1 - 0s\n",
            "1/1 - 0s\n",
            "1/1 - 0s\n",
            "1/1 - 0s\n",
            "1/1 - 0s\n",
            "1/1 - 0s\n",
            "1/1 - 0s\n",
            "1/1 - 0s\n",
            "1/1 - 0s\n",
            "1/1 - 0s\n",
            "1/1 - 0s\n",
            "1/1 - 0s\n",
            "1/1 - 0s\n",
            "1/1 - 0s\n",
            "1/1 - 0s\n",
            "1/1 - 0s\n",
            "1/1 - 0s\n",
            "1/1 - 0s\n",
            "1/1 - 0s\n",
            "1/1 - 0s\n",
            "1/1 - 0s\n",
            "1/1 - 0s\n",
            "1/1 - 0s\n",
            "1/1 - 0s\n",
            "1/1 - 0s\n",
            "1/1 - 0s\n",
            "1/1 - 0s\n",
            "1/1 - 0s\n",
            "1/1 - 0s\n",
            "1/1 - 0s\n",
            "1/1 - 0s\n",
            "1/1 - 0s\n",
            "1/1 - 0s\n",
            "1/1 - 0s\n",
            "1/1 - 0s\n",
            "1/1 - 0s\n",
            "1/1 - 0s\n",
            "1/1 - 0s\n",
            "1/1 - 0s\n",
            "1/1 - 0s\n",
            "1/1 - 0s\n",
            "1/1 - 0s\n",
            "1/1 - 0s\n",
            "1/1 - 0s\n",
            "1/1 - 0s\n",
            "1/1 - 0s\n",
            "1/1 - 0s\n",
            "1/1 - 0s\n",
            "1/1 - 0s\n",
            "1/1 - 0s\n",
            "1/1 - 0s\n",
            "1/1 - 0s\n",
            "1/1 - 0s\n",
            "1/1 - 0s\n",
            "1/1 - 0s\n",
            "1/1 - 0s\n",
            "1/1 - 0s\n",
            "1/1 - 0s\n",
            "1/1 - 0s\n",
            "1/1 - 0s\n",
            "1/1 - 0s\n",
            "1/1 - 0s\n",
            "1/1 - 0s\n",
            "1/1 - 0s\n",
            "1/1 - 0s\n",
            "1/1 - 0s\n",
            "1/1 - 0s\n",
            "1/1 - 0s\n",
            "1/1 - 0s\n",
            "1/1 - 0s\n",
            "1/1 - 0s\n",
            "1/1 - 0s\n",
            "1/1 - 0s\n",
            "1/1 - 0s\n",
            "1/1 - 0s\n",
            "1/1 - 0s\n",
            "1/1 - 0s\n",
            "1/1 - 0s\n",
            "1/1 - 0s\n",
            "1/1 - 0s\n",
            "1/1 - 0s\n",
            "1/1 - 0s\n",
            "1/1 - 0s\n",
            "1/1 - 0s\n",
            "1/1 - 0s\n",
            "1/1 - 0s\n",
            "1/1 - 0s\n",
            "1/1 - 0s\n",
            "1/1 - 0s\n",
            "1/1 - 0s\n",
            "1/1 - 0s\n",
            "1/1 - 0s\n",
            "1/1 - 0s\n",
            "1/1 - 0s\n",
            "1/1 - 0s\n",
            "1/1 - 0s\n",
            "1/1 - 0s\n",
            "1/1 - 0s\n",
            "1/1 - 0s\n",
            "1/1 - 0s\n",
            "1/1 - 0s\n",
            "1/1 - 0s\n",
            "1/1 - 0s\n",
            "1/1 - 0s\n",
            "1/1 - 0s\n",
            "1/1 - 0s\n",
            "1/1 - 0s\n",
            "1/1 - 0s\n",
            "1/1 - 0s\n",
            "1/1 - 0s\n",
            "1/1 - 0s\n",
            "1/1 - 0s\n",
            "1/1 - 0s\n",
            "1/1 - 0s\n",
            "1/1 - 0s\n",
            "1/1 - 0s\n",
            "1/1 - 0s\n",
            "1/1 - 0s\n",
            "1/1 - 0s\n",
            "1/1 - 0s\n",
            "1/1 - 0s\n",
            "1/1 - 0s\n",
            "1/1 - 0s\n",
            "1/1 - 0s\n",
            "1/1 - 0s\n",
            "1/1 - 0s\n",
            "1/1 - 0s\n",
            "1/1 - 0s\n",
            "1/1 - 0s\n",
            "1/1 - 0s\n",
            "1/1 - 0s\n",
            "1/1 - 0s\n",
            "1/1 - 0s\n",
            "1/1 - 0s\n",
            "1/1 - 0s\n",
            "1/1 - 0s\n",
            "pos_recall 80.99547511312217 %\n",
            "neg_recall 86.37992831541219 %\n"
          ],
          "name": "stdout"
        }
      ]
    },
    {
      "cell_type": "code",
      "metadata": {
        "id": "ilTVNi8x1ZDq",
        "colab": {
          "base_uri": "https://localhost:8080/"
        },
        "outputId": "a5ec9b9d-84df-4608-f9a8-d559c7e1d4ac"
      },
      "source": [
        "from sklearn.metrics import confusion_matrix\n",
        "import matplotlib.pyplot as plt\n",
        "from mlxtend.plotting import plot_confusion_matrix\n",
        "\n",
        "y_pred= model.predict(X_test).round()\n",
        "\n",
        "# calculates confusion matrix\n",
        "cnf_matrix = confusion_matrix(Y_test.argmax(axis=1), y_pred.argmax(axis=1))\n",
        "np.set_printoptions(precision=3)\n",
        "\n",
        "print(\"Recall: \", cnf_matrix[1,1]/(cnf_matrix[1,0]+cnf_matrix[1,1]))\n",
        "\n",
        "# graph confusion matrix\n",
        "labels = ['Negative', 'Positive']\n",
        "plt.figure()\n",
        "plot_confusion_matrix(conf_mat = cnf_matrix, figsize = (4,4), class_names = labels, show_absolute = True, show_normed = True )\n",
        "plt.xlabel('Predictions', fontsize=15)\n",
        "plt.ylabel('Actuals', fontsize=15)\n",
        "plt.show()"
      ],
      "execution_count": null,
      "outputs": [
        {
          "output_type": "stream",
          "text": [
            "Recall:  0.8264248704663213\n"
          ],
          "name": "stdout"
        },
        {
          "output_type": "display_data",
          "data": {
            "text/plain": [
              "<Figure size 432x288 with 0 Axes>"
            ]
          },
          "metadata": {
            "tags": []
          }
        },
        {
          "output_type": "display_data",
          "data": {
            "image/png": "[encoded data removed]",
            "text/plain": [
              "<Figure size 288x288 with 1 Axes>"
            ]
          },
          "metadata": {
            "tags": [],
            "needs_background": "light"
          }
        }
      ]
    },
    {
      "cell_type": "markdown",
      "metadata": {
        "id": "XvpKFn63OH2n"
      },
      "source": [
        "# **Parte 6 - Entrenamiento utilizando un embedding pre-entrenado**\n",
        "Para esta parte utilizaremos un embedding ya entrenado como punto de partida, el modelo viene en formato vectorial por lo que primero debemos extraer la matriz con los pesos.\n",
        "La red neuronal LSTM a utilizar será la misma que la parte anterior de manera de comparar resultados.\n"
      ]
    },
    {
      "cell_type": "code",
      "metadata": {
        "colab": {
          "base_uri": "https://localhost:8080/"
        },
        "id": "PR2PoSQSyOrE",
        "outputId": "7639ccbd-1dc8-4222-cf7d-f676d36b734d"
      },
      "source": [
        "# =======================================\n",
        "# TRAIN USING PRETRAINED MODEL\n",
        "# =======================================\n",
        "from gensim.models import KeyedVectors\n",
        "from gensim.models import Word2Vec\n",
        "\n",
        "#route to where the .vec file should be\n",
        "embedding_model_route = '/content/drive/MyDrive/embeddings-s-model.vec'\n",
        "\n",
        "#load the model \n",
        "embedding_model = KeyedVectors.load_word2vec_format(embedding_model_route)\n",
        "\n",
        "#extract the matrix with the weights\n",
        "embedding_matrix = embedding_model.wv.syn0"
      ],
      "execution_count": null,
      "outputs": [
        {
          "output_type": "stream",
          "text": [
            "/usr/local/lib/python3.7/dist-packages/ipykernel_launcher.py:14: DeprecationWarning: Call to deprecated `wv` (Attribute will be removed in 4.0.0, use self instead).\n",
            "  \n",
            "/usr/local/lib/python3.7/dist-packages/ipykernel_launcher.py:14: DeprecationWarning: Call to deprecated `syn0` (Attribute will be removed in 4.0.0, use self.wv.vectors instead).\n",
            "  \n"
          ],
          "name": "stderr"
        }
      ]
    },
    {
      "cell_type": "code",
      "metadata": {
        "colab": {
          "base_uri": "https://localhost:8080/"
        },
        "id": "GtLMt4p5yTyk",
        "outputId": "aee802cf-1aee-4099-99b8-d486fafb49d7"
      },
      "source": [
        "#assembling of neural network\n",
        "from keras.models import Sequential\n",
        "from keras.layers import Embedding, LSTM, Dense, Dropout\n",
        "\n",
        "#embedding dimensions and input dimensions are related to the pre-trained embbeding\n",
        "embed_dim_emb = embedding_matrix.shape[1]\n",
        "max_features_emb = embedding_matrix.shape[0]\n",
        "\n",
        "model_emb = Sequential()\n",
        "model_emb.add(Embedding(input_dim = max_features_emb, output_dim = embed_dim_emb, weights = [embedding_matrix], trainable = True ))\n",
        "model_emb.add(Dropout(0.5))\n",
        "model_emb.add(LSTM(8, dropout = 0.2, recurrent_dropout = 0.2))\n",
        "model_emb.add(Dense(Y.shape[1], activation = 'sigmoid'))\n",
        "model_emb.summary()"
      ],
      "execution_count": null,
      "outputs": [
        {
          "output_type": "stream",
          "text": [
            "Model: \"sequential_1\"\n",
            "_________________________________________________________________\n",
            "Layer (type)                 Output Shape              Param #   \n",
            "=================================================================\n",
            "embedding_1 (Embedding)      (None, None, 30)          39402690  \n",
            "_________________________________________________________________\n",
            "dropout_1 (Dropout)          (None, None, 30)          0         \n",
            "_________________________________________________________________\n",
            "lstm_1 (LSTM)                (None, 8)                 1248      \n",
            "_________________________________________________________________\n",
            "dense_1 (Dense)              (None, 2)                 18        \n",
            "=================================================================\n",
            "Total params: 39,403,956\n",
            "Trainable params: 39,403,956\n",
            "Non-trainable params: 0\n",
            "_________________________________________________________________\n"
          ],
          "name": "stdout"
        }
      ]
    },
    {
      "cell_type": "code",
      "metadata": {
        "colab": {
          "base_uri": "https://localhost:8080/"
        },
        "id": "1WkUkRQDy2Cq",
        "outputId": "d9c3cd0b-7bd9-46be-894e-e3429d593670"
      },
      "source": [
        "#compile and train model\n",
        "model_emb.compile(optimizer = 'adam', loss = 'binary_crossentropy', metrics = ['accuracy'])\n",
        "model_emb.fit(X_train, Y_train, batch_size = 32, epochs = 10, validation_data = (X_validate, Y_validate))"
      ],
      "execution_count": null,
      "outputs": [
        {
          "output_type": "stream",
          "text": [
            "Epoch 1/10\n",
            "148/148 [==============================] - 65s 409ms/step - loss: 0.6920 - accuracy: 0.5392 - val_loss: 0.6831 - val_accuracy: 0.5580\n",
            "Epoch 2/10\n",
            "148/148 [==============================] - 58s 391ms/step - loss: 0.6741 - accuracy: 0.5830 - val_loss: 0.6716 - val_accuracy: 0.5640\n",
            "Epoch 3/10\n",
            "148/148 [==============================] - 58s 391ms/step - loss: 0.6668 - accuracy: 0.5964 - val_loss: 0.6248 - val_accuracy: 0.6420\n",
            "Epoch 4/10\n",
            "148/148 [==============================] - 58s 391ms/step - loss: 0.6093 - accuracy: 0.6880 - val_loss: 0.5482 - val_accuracy: 0.7300\n",
            "Epoch 5/10\n",
            "148/148 [==============================] - 58s 391ms/step - loss: 0.5511 - accuracy: 0.7371 - val_loss: 0.5559 - val_accuracy: 0.7140\n",
            "Epoch 6/10\n",
            "148/148 [==============================] - 58s 391ms/step - loss: 0.4932 - accuracy: 0.7707 - val_loss: 0.5064 - val_accuracy: 0.7460\n",
            "Epoch 7/10\n",
            "148/148 [==============================] - 58s 390ms/step - loss: 0.4639 - accuracy: 0.7886 - val_loss: 0.5376 - val_accuracy: 0.7460\n",
            "Epoch 8/10\n",
            "148/148 [==============================] - 58s 392ms/step - loss: 0.4264 - accuracy: 0.8129 - val_loss: 0.4808 - val_accuracy: 0.7720\n",
            "Epoch 9/10\n",
            "148/148 [==============================] - 58s 390ms/step - loss: 0.3923 - accuracy: 0.8285 - val_loss: 0.4904 - val_accuracy: 0.7780\n",
            "Epoch 10/10\n",
            "148/148 [==============================] - 58s 391ms/step - loss: 0.3493 - accuracy: 0.8552 - val_loss: 0.5362 - val_accuracy: 0.7700\n"
          ],
          "name": "stdout"
        },
        {
          "output_type": "execute_result",
          "data": {
            "text/plain": [
              "<keras.callbacks.History at 0x7f31d5500e50>"
            ]
          },
          "metadata": {
            "tags": []
          },
          "execution_count": 31
        }
      ]
    },
    {
      "cell_type": "code",
      "metadata": {
        "colab": {
          "base_uri": "https://localhost:8080/"
        },
        "id": "8dXRx2fAy5le",
        "outputId": "77603f03-47fc-420b-b5dd-0748e72f53f8"
      },
      "source": [
        "#check score and accuracy in test set\n",
        "score,acc_lstm_emb = model_emb.evaluate(X_test, Y_test, batch_size = 8)\n",
        "print(\"Score: %.2f\" % (score))\n",
        "print(\"Acc: %.2f\" % (acc_lstm_emb))"
      ],
      "execution_count": null,
      "outputs": [
        {
          "output_type": "stream",
          "text": [
            "228/228 [==============================] - 1s 3ms/step - loss: 0.4944 - accuracy: 0.7910\n",
            "Score: 0.49\n",
            "Acc: 0.79\n"
          ],
          "name": "stdout"
        }
      ]
    },
    {
      "cell_type": "code",
      "metadata": {
        "colab": {
          "base_uri": "https://localhost:8080/"
        },
        "id": "1b3Tt1Fty9es",
        "outputId": "353ceb11-87a4-420f-8af6-af4caee943a9"
      },
      "source": [
        "import numpy as np\n",
        "pos_cnt, neg_cnt, pos_correct, neg_correct = 0, 0, 0, 0\n",
        "for x in range(len(X_validate)):\n",
        "    \n",
        "    result = model_emb.predict(X_validate[x].reshape(1,X_test.shape[1]),batch_size=1,verbose = 2)[0]\n",
        "    \n",
        "    if np.argmax(result) == np.argmax(Y_validate[x]):\n",
        "\n",
        "        if np.argmax(Y_validate[x]) == 0:\n",
        "            neg_correct += 1\n",
        "        else:\n",
        "            pos_correct += 1\n",
        "       \n",
        "    if np.argmax(Y_validate[x]) == 0:\n",
        "        neg_cnt += 1\n",
        "    else:\n",
        "        pos_cnt += 1\n",
        "\n",
        "print(\"pos_recall\", pos_correct/pos_cnt*100, \"%\")\n",
        "print(\"neg_recall\", neg_correct/neg_cnt*100, \"%\")"
      ],
      "execution_count": null,
      "outputs": [
        {
          "output_type": "stream",
          "text": [
            "1/1 - 1s\n",
            "1/1 - 0s\n",
            "1/1 - 0s\n",
            "1/1 - 0s\n",
            "1/1 - 0s\n",
            "1/1 - 0s\n",
            "1/1 - 0s\n",
            "1/1 - 0s\n",
            "1/1 - 0s\n",
            "1/1 - 0s\n",
            "1/1 - 0s\n",
            "1/1 - 0s\n",
            "1/1 - 0s\n",
            "1/1 - 0s\n",
            "1/1 - 0s\n",
            "1/1 - 0s\n",
            "1/1 - 0s\n",
            "1/1 - 0s\n",
            "1/1 - 0s\n",
            "1/1 - 0s\n",
            "1/1 - 0s\n",
            "1/1 - 0s\n",
            "1/1 - 0s\n",
            "1/1 - 0s\n",
            "1/1 - 0s\n",
            "1/1 - 0s\n",
            "1/1 - 0s\n",
            "1/1 - 0s\n",
            "1/1 - 0s\n",
            "1/1 - 0s\n",
            "1/1 - 0s\n",
            "1/1 - 0s\n",
            "1/1 - 0s\n",
            "1/1 - 0s\n",
            "1/1 - 0s\n",
            "1/1 - 0s\n",
            "1/1 - 0s\n",
            "1/1 - 0s\n",
            "1/1 - 0s\n",
            "1/1 - 0s\n",
            "1/1 - 0s\n",
            "1/1 - 0s\n",
            "1/1 - 0s\n",
            "1/1 - 0s\n",
            "1/1 - 0s\n",
            "1/1 - 0s\n",
            "1/1 - 0s\n",
            "1/1 - 0s\n",
            "1/1 - 0s\n",
            "1/1 - 0s\n",
            "1/1 - 0s\n",
            "1/1 - 0s\n",
            "1/1 - 0s\n",
            "1/1 - 0s\n",
            "1/1 - 0s\n",
            "1/1 - 0s\n",
            "1/1 - 0s\n",
            "1/1 - 0s\n",
            "1/1 - 0s\n",
            "1/1 - 0s\n",
            "1/1 - 0s\n",
            "1/1 - 0s\n",
            "1/1 - 0s\n",
            "1/1 - 0s\n",
            "1/1 - 0s\n",
            "1/1 - 0s\n",
            "1/1 - 0s\n",
            "1/1 - 0s\n",
            "1/1 - 0s\n",
            "1/1 - 0s\n",
            "1/1 - 0s\n",
            "1/1 - 0s\n",
            "1/1 - 0s\n",
            "1/1 - 0s\n",
            "1/1 - 0s\n",
            "1/1 - 0s\n",
            "1/1 - 0s\n",
            "1/1 - 0s\n",
            "1/1 - 0s\n",
            "1/1 - 0s\n",
            "1/1 - 0s\n",
            "1/1 - 0s\n",
            "1/1 - 0s\n",
            "1/1 - 0s\n",
            "1/1 - 0s\n",
            "1/1 - 0s\n",
            "1/1 - 0s\n",
            "1/1 - 0s\n",
            "1/1 - 0s\n",
            "1/1 - 0s\n",
            "1/1 - 0s\n",
            "1/1 - 0s\n",
            "1/1 - 0s\n",
            "1/1 - 0s\n",
            "1/1 - 0s\n",
            "1/1 - 0s\n",
            "1/1 - 0s\n",
            "1/1 - 0s\n",
            "1/1 - 0s\n",
            "1/1 - 0s\n",
            "1/1 - 0s\n",
            "1/1 - 0s\n",
            "1/1 - 0s\n",
            "1/1 - 0s\n",
            "1/1 - 0s\n",
            "1/1 - 0s\n",
            "1/1 - 0s\n",
            "1/1 - 0s\n",
            "1/1 - 0s\n",
            "1/1 - 0s\n",
            "1/1 - 0s\n",
            "1/1 - 0s\n",
            "1/1 - 0s\n",
            "1/1 - 0s\n",
            "1/1 - 0s\n",
            "1/1 - 0s\n",
            "1/1 - 0s\n",
            "1/1 - 0s\n",
            "1/1 - 0s\n",
            "1/1 - 0s\n",
            "1/1 - 0s\n",
            "1/1 - 0s\n",
            "1/1 - 0s\n",
            "1/1 - 0s\n",
            "1/1 - 0s\n",
            "1/1 - 0s\n",
            "1/1 - 0s\n",
            "1/1 - 0s\n",
            "1/1 - 0s\n",
            "1/1 - 0s\n",
            "1/1 - 0s\n",
            "1/1 - 0s\n",
            "1/1 - 0s\n",
            "1/1 - 0s\n",
            "1/1 - 0s\n",
            "1/1 - 0s\n",
            "1/1 - 0s\n",
            "1/1 - 0s\n",
            "1/1 - 0s\n",
            "1/1 - 0s\n",
            "1/1 - 0s\n",
            "1/1 - 0s\n",
            "1/1 - 0s\n",
            "1/1 - 0s\n",
            "1/1 - 0s\n",
            "1/1 - 0s\n",
            "1/1 - 0s\n",
            "1/1 - 0s\n",
            "1/1 - 0s\n",
            "1/1 - 0s\n",
            "1/1 - 0s\n",
            "1/1 - 0s\n",
            "1/1 - 0s\n",
            "1/1 - 0s\n",
            "1/1 - 0s\n",
            "1/1 - 0s\n",
            "1/1 - 0s\n",
            "1/1 - 0s\n",
            "1/1 - 0s\n",
            "1/1 - 0s\n",
            "1/1 - 0s\n",
            "1/1 - 0s\n",
            "1/1 - 0s\n",
            "1/1 - 0s\n",
            "1/1 - 0s\n",
            "1/1 - 0s\n",
            "1/1 - 0s\n",
            "1/1 - 0s\n",
            "1/1 - 0s\n",
            "1/1 - 0s\n",
            "1/1 - 0s\n",
            "1/1 - 0s\n",
            "1/1 - 0s\n",
            "1/1 - 0s\n",
            "1/1 - 0s\n",
            "1/1 - 0s\n",
            "1/1 - 0s\n",
            "1/1 - 0s\n",
            "1/1 - 0s\n",
            "1/1 - 0s\n",
            "1/1 - 0s\n",
            "1/1 - 0s\n",
            "1/1 - 0s\n",
            "1/1 - 0s\n",
            "1/1 - 0s\n",
            "1/1 - 0s\n",
            "1/1 - 0s\n",
            "1/1 - 0s\n",
            "1/1 - 0s\n",
            "1/1 - 0s\n",
            "1/1 - 0s\n",
            "1/1 - 0s\n",
            "1/1 - 0s\n",
            "1/1 - 0s\n",
            "1/1 - 0s\n",
            "1/1 - 0s\n",
            "1/1 - 0s\n",
            "1/1 - 0s\n",
            "1/1 - 0s\n",
            "1/1 - 0s\n",
            "1/1 - 0s\n",
            "1/1 - 0s\n",
            "1/1 - 0s\n",
            "1/1 - 0s\n",
            "1/1 - 0s\n",
            "1/1 - 0s\n",
            "1/1 - 0s\n",
            "1/1 - 0s\n",
            "1/1 - 0s\n",
            "1/1 - 0s\n",
            "1/1 - 0s\n",
            "1/1 - 0s\n",
            "1/1 - 0s\n",
            "1/1 - 0s\n",
            "1/1 - 0s\n",
            "1/1 - 0s\n",
            "1/1 - 0s\n",
            "1/1 - 0s\n",
            "1/1 - 0s\n",
            "1/1 - 0s\n",
            "1/1 - 0s\n",
            "1/1 - 0s\n",
            "1/1 - 0s\n",
            "1/1 - 0s\n",
            "1/1 - 0s\n",
            "1/1 - 0s\n",
            "1/1 - 0s\n",
            "1/1 - 0s\n",
            "1/1 - 0s\n",
            "1/1 - 0s\n",
            "1/1 - 0s\n",
            "1/1 - 0s\n",
            "1/1 - 0s\n",
            "1/1 - 0s\n",
            "1/1 - 0s\n",
            "1/1 - 0s\n",
            "1/1 - 0s\n",
            "1/1 - 0s\n",
            "1/1 - 0s\n",
            "1/1 - 0s\n",
            "1/1 - 0s\n",
            "1/1 - 0s\n",
            "1/1 - 0s\n",
            "1/1 - 0s\n",
            "1/1 - 0s\n",
            "1/1 - 0s\n",
            "1/1 - 0s\n",
            "1/1 - 0s\n",
            "1/1 - 0s\n",
            "1/1 - 0s\n",
            "1/1 - 0s\n",
            "1/1 - 0s\n",
            "1/1 - 0s\n",
            "1/1 - 0s\n",
            "1/1 - 0s\n",
            "1/1 - 0s\n",
            "1/1 - 0s\n",
            "1/1 - 0s\n",
            "1/1 - 0s\n",
            "1/1 - 0s\n",
            "1/1 - 0s\n",
            "1/1 - 0s\n",
            "1/1 - 0s\n",
            "1/1 - 0s\n",
            "1/1 - 0s\n",
            "1/1 - 0s\n",
            "1/1 - 0s\n",
            "1/1 - 0s\n",
            "1/1 - 0s\n",
            "1/1 - 0s\n",
            "1/1 - 0s\n",
            "1/1 - 0s\n",
            "1/1 - 0s\n",
            "1/1 - 0s\n",
            "1/1 - 0s\n",
            "1/1 - 0s\n",
            "1/1 - 0s\n",
            "1/1 - 0s\n",
            "1/1 - 0s\n",
            "1/1 - 0s\n",
            "1/1 - 0s\n",
            "1/1 - 0s\n",
            "1/1 - 0s\n",
            "1/1 - 0s\n",
            "1/1 - 0s\n",
            "1/1 - 0s\n",
            "1/1 - 0s\n",
            "1/1 - 0s\n",
            "1/1 - 0s\n",
            "1/1 - 0s\n",
            "1/1 - 0s\n",
            "1/1 - 0s\n",
            "1/1 - 0s\n",
            "1/1 - 0s\n",
            "1/1 - 0s\n",
            "1/1 - 0s\n",
            "1/1 - 0s\n",
            "1/1 - 0s\n",
            "1/1 - 0s\n",
            "1/1 - 0s\n",
            "1/1 - 0s\n",
            "1/1 - 0s\n",
            "1/1 - 0s\n",
            "1/1 - 0s\n",
            "1/1 - 0s\n",
            "1/1 - 0s\n",
            "1/1 - 0s\n",
            "1/1 - 0s\n",
            "1/1 - 0s\n",
            "1/1 - 0s\n",
            "1/1 - 0s\n",
            "1/1 - 0s\n",
            "1/1 - 0s\n",
            "1/1 - 0s\n",
            "1/1 - 0s\n",
            "1/1 - 0s\n",
            "1/1 - 0s\n",
            "1/1 - 0s\n",
            "1/1 - 0s\n",
            "1/1 - 0s\n",
            "1/1 - 0s\n",
            "1/1 - 0s\n",
            "1/1 - 0s\n",
            "1/1 - 0s\n",
            "1/1 - 0s\n",
            "1/1 - 0s\n",
            "1/1 - 0s\n",
            "1/1 - 0s\n",
            "1/1 - 0s\n",
            "1/1 - 0s\n",
            "1/1 - 0s\n",
            "1/1 - 0s\n",
            "1/1 - 0s\n",
            "1/1 - 0s\n",
            "1/1 - 0s\n",
            "1/1 - 0s\n",
            "1/1 - 0s\n",
            "1/1 - 0s\n",
            "1/1 - 0s\n",
            "1/1 - 0s\n",
            "1/1 - 0s\n",
            "1/1 - 0s\n",
            "1/1 - 0s\n",
            "1/1 - 0s\n",
            "1/1 - 0s\n",
            "1/1 - 0s\n",
            "1/1 - 0s\n",
            "1/1 - 0s\n",
            "1/1 - 0s\n",
            "1/1 - 0s\n",
            "1/1 - 0s\n",
            "1/1 - 0s\n",
            "1/1 - 0s\n",
            "1/1 - 0s\n",
            "1/1 - 0s\n",
            "1/1 - 0s\n",
            "1/1 - 0s\n",
            "1/1 - 0s\n",
            "1/1 - 0s\n",
            "1/1 - 0s\n",
            "1/1 - 0s\n",
            "1/1 - 0s\n",
            "1/1 - 0s\n",
            "1/1 - 0s\n",
            "1/1 - 0s\n",
            "1/1 - 0s\n",
            "1/1 - 0s\n",
            "1/1 - 0s\n",
            "1/1 - 0s\n",
            "1/1 - 0s\n",
            "1/1 - 0s\n",
            "1/1 - 0s\n",
            "1/1 - 0s\n",
            "1/1 - 0s\n",
            "1/1 - 0s\n",
            "1/1 - 0s\n",
            "1/1 - 0s\n",
            "1/1 - 0s\n",
            "1/1 - 0s\n",
            "1/1 - 0s\n",
            "1/1 - 0s\n",
            "1/1 - 0s\n",
            "1/1 - 0s\n",
            "1/1 - 0s\n",
            "1/1 - 0s\n",
            "1/1 - 0s\n",
            "1/1 - 0s\n",
            "1/1 - 0s\n",
            "1/1 - 0s\n",
            "1/1 - 0s\n",
            "1/1 - 0s\n",
            "1/1 - 0s\n",
            "1/1 - 0s\n",
            "1/1 - 0s\n",
            "1/1 - 0s\n",
            "1/1 - 0s\n",
            "1/1 - 0s\n",
            "1/1 - 0s\n",
            "1/1 - 0s\n",
            "1/1 - 0s\n",
            "1/1 - 0s\n",
            "1/1 - 0s\n",
            "1/1 - 0s\n",
            "1/1 - 0s\n",
            "1/1 - 0s\n",
            "1/1 - 0s\n",
            "1/1 - 0s\n",
            "1/1 - 0s\n",
            "1/1 - 0s\n",
            "1/1 - 0s\n",
            "1/1 - 0s\n",
            "1/1 - 0s\n",
            "1/1 - 0s\n",
            "1/1 - 0s\n",
            "1/1 - 0s\n",
            "1/1 - 0s\n",
            "1/1 - 0s\n",
            "1/1 - 0s\n",
            "1/1 - 0s\n",
            "1/1 - 0s\n",
            "1/1 - 0s\n",
            "1/1 - 0s\n",
            "1/1 - 0s\n",
            "1/1 - 0s\n",
            "1/1 - 0s\n",
            "1/1 - 0s\n",
            "1/1 - 0s\n",
            "1/1 - 0s\n",
            "1/1 - 0s\n",
            "1/1 - 0s\n",
            "1/1 - 0s\n",
            "1/1 - 0s\n",
            "1/1 - 0s\n",
            "1/1 - 0s\n",
            "1/1 - 0s\n",
            "1/1 - 0s\n",
            "1/1 - 0s\n",
            "1/1 - 0s\n",
            "1/1 - 0s\n",
            "1/1 - 0s\n",
            "1/1 - 0s\n",
            "1/1 - 0s\n",
            "1/1 - 0s\n",
            "1/1 - 0s\n",
            "1/1 - 0s\n",
            "1/1 - 0s\n",
            "1/1 - 0s\n",
            "1/1 - 0s\n",
            "1/1 - 0s\n",
            "1/1 - 0s\n",
            "1/1 - 0s\n",
            "1/1 - 0s\n",
            "1/1 - 0s\n",
            "1/1 - 0s\n",
            "1/1 - 0s\n",
            "1/1 - 0s\n",
            "1/1 - 0s\n",
            "1/1 - 0s\n",
            "1/1 - 0s\n",
            "1/1 - 0s\n",
            "1/1 - 0s\n",
            "1/1 - 0s\n",
            "1/1 - 0s\n",
            "1/1 - 0s\n",
            "1/1 - 0s\n",
            "1/1 - 0s\n",
            "1/1 - 0s\n",
            "1/1 - 0s\n",
            "1/1 - 0s\n",
            "1/1 - 0s\n",
            "1/1 - 0s\n",
            "1/1 - 0s\n",
            "1/1 - 0s\n",
            "1/1 - 0s\n",
            "1/1 - 0s\n",
            "1/1 - 0s\n",
            "1/1 - 0s\n",
            "1/1 - 0s\n",
            "1/1 - 0s\n",
            "1/1 - 0s\n",
            "1/1 - 0s\n",
            "1/1 - 0s\n",
            "1/1 - 0s\n",
            "1/1 - 0s\n",
            "1/1 - 0s\n",
            "1/1 - 0s\n",
            "1/1 - 0s\n",
            "1/1 - 0s\n",
            "1/1 - 0s\n",
            "1/1 - 0s\n",
            "1/1 - 0s\n",
            "1/1 - 0s\n",
            "1/1 - 0s\n",
            "1/1 - 0s\n",
            "1/1 - 0s\n",
            "1/1 - 0s\n",
            "1/1 - 0s\n",
            "1/1 - 0s\n",
            "1/1 - 0s\n",
            "1/1 - 0s\n",
            "pos_recall 59.276018099547514 %\n",
            "neg_recall 91.0394265232975 %\n"
          ],
          "name": "stdout"
        }
      ]
    },
    {
      "cell_type": "code",
      "metadata": {
        "colab": {
          "base_uri": "https://localhost:8080/"
        },
        "id": "8fEFYsfJzEzb",
        "outputId": "89f66a8f-d8a9-4d90-cd5c-e9a4f7234786"
      },
      "source": [
        "from sklearn.metrics import confusion_matrix\n",
        "import matplotlib.pyplot as plt\n",
        "from mlxtend.plotting import plot_confusion_matrix\n",
        "\n",
        "y_pred= model_emb.predict(X_test).round()\n",
        "\n",
        "# calculates confusion matrix\n",
        "cnf_matrix_emb = confusion_matrix(Y_test.argmax(axis=1), y_pred.argmax(axis=1))\n",
        "np.set_printoptions(precision=3)\n",
        "\n",
        "print(\"Recall: \", cnf_matrix[1,1]/(cnf_matrix[1,0]+cnf_matrix[1,1]))\n",
        "\n",
        "# graph confusion matrix\n",
        "labels = ['Negative', 'Positive']\n",
        "plt.figure()\n",
        "plot_confusion_matrix(conf_mat = cnf_matrix_emb, figsize = (4,4), class_names = labels, show_absolute = True, show_normed = True )\n",
        "plt.xlabel('Predictions', fontsize=15)\n",
        "plt.ylabel('Actuals', fontsize=15)\n",
        "plt.show()"
      ],
      "execution_count": null,
      "outputs": [
        {
          "output_type": "stream",
          "text": [
            "Recall:  0.8264248704663213\n"
          ],
          "name": "stdout"
        },
        {
          "output_type": "display_data",
          "data": {
            "text/plain": [
              "<Figure size 432x288 with 0 Axes>"
            ]
          },
          "metadata": {
            "tags": []
          }
        },
        {
          "output_type": "display_data",
          "data": {
            "image/png": "[encoded data removed]",
            "text/plain": [
              "<Figure size 288x288 with 1 Axes>"
            ]
          },
          "metadata": {
            "tags": [],
            "needs_background": "light"
          }
        }
      ]
    },
    {
      "cell_type": "markdown",
      "metadata": {
        "id": "xhaQHOUKZyMz"
      },
      "source": [
        "# **Parte 7 - Clasificación utilizando modelos de Machine Learning y n-grams**\n",
        "En esta parte utilizaremos clasificadores de Machine Learning para predecir el sentimiento. Pimero modificaremos un poco el dataset con el fin de poder armar n-grams, lo dividiremos entre train y test y posteriormente crearemos los n-grams que utilizaremos para entrenar."
      ]
    },
    {
      "cell_type": "code",
      "metadata": {
        "id": "RNw0sMxoZV4Z"
      },
      "source": [
        "#creates sentiment numeric label in new column\n",
        "df['sentiment_index'] = df['sentiment'].apply(lambda x: 1 if x == 'P' else 0)\n",
        "\n",
        "#get every clean tweet as a list into a new column\n",
        "df['tweet_list'] = df['tweet'].apply(lambda x: x.split(sep=' '))"
      ],
      "execution_count": null,
      "outputs": []
    },
    {
      "cell_type": "code",
      "metadata": {
        "id": "kF7FBNaIZqyi"
      },
      "source": [
        "#will use countvectorizer to convert tweets into bigrams, trigrams and tfidf\n",
        "from sklearn.feature_extraction.text import CountVectorizer\n",
        "from sklearn.feature_extraction import text\n",
        "\n",
        "#initialize uni-grams, bigrams, trigrams and tfidf\n",
        "unigram_converter = unigram_converter = CountVectorizer(tokenizer=lambda doc: doc, ngram_range=[1,1], lowercase = False)\n",
        "bigram_converter = CountVectorizer(tokenizer=lambda doc: doc, ngram_range=[2,2], lowercase = False) \n",
        "trigram_converter = CountVectorizer(tokenizer=lambda doc: doc, ngram_range=[3,3], lowercase = False)\n",
        "tfidf_transform = text.TfidfTransformer(norm=None)"
      ],
      "execution_count": null,
      "outputs": []
    },
    {
      "cell_type": "code",
      "metadata": {
        "id": "k2YRya38ZtUq"
      },
      "source": [
        "#separate train, test sets\n",
        "from sklearn.model_selection import train_test_split\n",
        "\n",
        "#train and test separation\n",
        "train_data, test_data = train_test_split(df, test_size = 0.33, random_state = 42)"
      ],
      "execution_count": null,
      "outputs": []
    },
    {
      "cell_type": "code",
      "metadata": {
        "colab": {
          "base_uri": "https://localhost:8080/"
        },
        "id": "8jK6dkkQ_AG0",
        "outputId": "ba631947-0528-4db3-9186-d69bb98ea7f4"
      },
      "source": [
        "# #check shapes\n",
        "print(train_data.shape)\n",
        "print(test_data.shape)"
      ],
      "execution_count": null,
      "outputs": [
        {
          "output_type": "stream",
          "text": [
            "(4714, 6)\n",
            "(2323, 6)\n"
          ],
          "name": "stdout"
        }
      ]
    },
    {
      "cell_type": "code",
      "metadata": {
        "id": "BsT_PBHU--nw"
      },
      "source": [
        "#labels\n",
        "Y_train_ngram = train_data['sentiment_index']\n",
        "Y_test_ngram = test_data['sentiment_index']\n",
        "\n",
        "#train\n",
        "X_train_unigram = unigram_converter.fit_transform(train_data['tweet_list'])\n",
        "X_train_bigram = bigram_converter.fit_transform(train_data['tweet_list'])\n",
        "X_train_trigram = trigram_converter.fit_transform(train_data['tweet_list'])\n",
        "\n",
        "#uni-grams will be transformed into tf-idf\n",
        "X_train_tfidf = tfidf_transform.fit_transform(X_train_unigram)\n",
        "\n",
        "#test\n",
        "X_test_unigram = unigram_converter.transform(test_data['tweet_list'])\n",
        "X_test_bigram = bigram_converter.transform(test_data['tweet_list'])\n",
        "X_test_trigram = trigram_converter.transform(test_data['tweet_list'])\n",
        "X_test_tfidf = tfidf_transform.transform(X_test_unigram)"
      ],
      "execution_count": null,
      "outputs": []
    },
    {
      "cell_type": "markdown",
      "metadata": {
        "id": "vLzADYxg7gW4"
      },
      "source": [
        "Teniendo los bi-gramas, tri-gramas y tf-idf entrenaremos los siguientes modelos con las tres configuraciones mencionadas para luego compararlos:\n",
        "- K-nearest neighbour\n",
        "- Decision Tree\n",
        "- Random Forest\n",
        "- Stochastic Gradient Descent"
      ]
    },
    {
      "cell_type": "markdown",
      "metadata": {
        "id": "MKrZOxgYT8Vt"
      },
      "source": [
        "# **K-nearest neighbour**"
      ]
    },
    {
      "cell_type": "code",
      "metadata": {
        "id": "gFm-3r_VO7Z9"
      },
      "source": [
        "from sklearn.neighbors import KNeighborsClassifier\n",
        "from sklearn.metrics import confusion_matrix\n",
        "\n",
        "def knn_classification(X_train, Y_train, X_test, Y_test, desc):\n",
        "  #initilize model\n",
        "  knn = KNeighborsClassifier(n_neighbors = 5)\n",
        "  #fits model\n",
        "  knn.fit(X_train,Y_train)\n",
        "  #predicts\n",
        "  y_pred = knn.predict(X_test)\n",
        "  #accuracy\n",
        "  acc = round(knn.score(X_test,Y_test) * 100, 2)\n",
        "  print('Accuracy using {}: {}'.format(desc, acc))\n",
        "\n",
        "  #calculates confusion matrix\n",
        "  cnf_matrix = confusion_matrix(Y_test, y_pred)\n",
        "\n",
        "  return cnf_matrix, acc"
      ],
      "execution_count": null,
      "outputs": []
    },
    {
      "cell_type": "code",
      "metadata": {
        "colab": {
          "base_uri": "https://localhost:8080/"
        },
        "id": "n1DF_RcGQEUz",
        "outputId": "75016ddd-2525-47dc-b034-d19161b66b13"
      },
      "source": [
        "cnf_bigram_knn, acc_bigram_knn = knn_classification(X_train_bigram, Y_train_ngram, X_test_bigram, Y_test_ngram, 'bigram')\n",
        "cnf_trigram_knn, acc_trigram_knn = knn_classification(X_train_trigram, Y_train_ngram, X_test_trigram, Y_test_ngram, 'trigram')\n",
        "cnf_tfidf_knn, acc_tfidf_knn = knn_classification(X_train_tfidf, Y_train_ngram, X_test_tfidf, Y_test_ngram, 'tfidf')"
      ],
      "execution_count": null,
      "outputs": [
        {
          "output_type": "stream",
          "text": [
            "Accuracy using bigram: 65.43\n",
            "Accuracy using trigram: 58.98\n",
            "Accuracy using tfidf: 64.31\n"
          ],
          "name": "stdout"
        }
      ]
    },
    {
      "cell_type": "code",
      "metadata": {
        "colab": {
          "base_uri": "https://localhost:8080/"
        },
        "id": "zna5aGs_NOK5",
        "outputId": "ecb6ab80-719d-4db4-dde1-d15609e01a17"
      },
      "source": [
        "from sklearn.metrics import confusion_matrix\n",
        "import matplotlib.pyplot as plt\n",
        "from mlxtend.plotting import plot_confusion_matrix\n",
        "\n",
        "#choose one of the three confusion matrix to graph\n",
        "cnf_matrix = cnf_tfidf_knn\n",
        "\n",
        "# graph confusion matrix\n",
        "labels = ['Negative', 'Positive']\n",
        "plt.figure()\n",
        "plot_confusion_matrix(conf_mat = cnf_matrix, figsize = (4,4), class_names = labels, show_absolute = True, show_normed = True )\n",
        "plt.xlabel('Predictions', fontsize=15)\n",
        "plt.ylabel('Actuals', fontsize=15)\n",
        "plt.show()"
      ],
      "execution_count": null,
      "outputs": [
        {
          "output_type": "display_data",
          "data": {
            "text/plain": [
              "<Figure size 432x288 with 0 Axes>"
            ]
          },
          "metadata": {
            "tags": []
          }
        },
        {
          "output_type": "display_data",
          "data": {
            "image/png": "[encoded data removed]",
            "text/plain": [
              "<Figure size 288x288 with 1 Axes>"
            ]
          },
          "metadata": {
            "tags": [],
            "needs_background": "light"
          }
        }
      ]
    },
    {
      "cell_type": "markdown",
      "metadata": {
        "id": "OopsUIsOVQa8"
      },
      "source": [
        "# **Decision Tree**"
      ]
    },
    {
      "cell_type": "code",
      "metadata": {
        "id": "iQeO2p2EUiwL"
      },
      "source": [
        "from sklearn.tree import DecisionTreeClassifier\n",
        "from sklearn.metrics import confusion_matrix\n",
        "\n",
        "def decision_tree_classification(X_train, Y_train, X_test, Y_test, desc):\n",
        "  #initilize model\n",
        "  decision_tree = DecisionTreeClassifier()\n",
        "  #fits model\n",
        "  decision_tree.fit(X_train,Y_train)\n",
        "  #predicts\n",
        "  y_pred = decision_tree.predict(X_test)\n",
        "  #accuracy\n",
        "  acc = round(decision_tree.score(X_test,Y_test) * 100, 2)\n",
        "  print('Accuracy using {}: {}'.format(desc, acc))\n",
        "\n",
        "  #calculates confusion matrix\n",
        "  cnf_matrix = confusion_matrix(Y_test, y_pred)\n",
        "\n",
        "  return cnf_matrix, acc"
      ],
      "execution_count": null,
      "outputs": []
    },
    {
      "cell_type": "code",
      "metadata": {
        "colab": {
          "base_uri": "https://localhost:8080/"
        },
        "id": "NM2ogGwaU40Q",
        "outputId": "283d3f85-8beb-434b-881b-e1fd82c1cf07"
      },
      "source": [
        "cnf_bigram_dt, acc_bigram_dt = decision_tree_classification(X_train_bigram, Y_train_ngram, X_test_bigram, Y_test_ngram, 'bigram')\n",
        "cnf_trigram_dt, acc_trigram_dt  = decision_tree_classification(X_train_trigram, Y_train_ngram, X_test_trigram, Y_test_ngram, 'trigram')\n",
        "cnf_tfidf_dt, acc_tfidf_dt  = decision_tree_classification(X_train_tfidf, Y_train_ngram, X_test_tfidf, Y_test_ngram, 'tfidf')"
      ],
      "execution_count": null,
      "outputs": [
        {
          "output_type": "stream",
          "text": [
            "Accuracy using bigram: 78.39\n",
            "Accuracy using trigram: 74.34\n",
            "Accuracy using tfidf: 82.26\n"
          ],
          "name": "stdout"
        }
      ]
    },
    {
      "cell_type": "code",
      "metadata": {
        "colab": {
          "base_uri": "https://localhost:8080/"
        },
        "id": "Y5PKn-lqVVz9",
        "outputId": "87419d93-8ed6-4f2e-b17b-78335723bb76"
      },
      "source": [
        "from sklearn.metrics import confusion_matrix\n",
        "import matplotlib.pyplot as plt\n",
        "from mlxtend.plotting import plot_confusion_matrix\n",
        "\n",
        "#choose one of the three confusion matrix to graph\n",
        "cnf_matrix = cnf_tfidf_dt\n",
        "\n",
        "# graph confusion matrix\n",
        "labels = ['Negative', 'Positive']\n",
        "plt.figure()\n",
        "plot_confusion_matrix(conf_mat = cnf_matrix, figsize = (4,4), class_names = labels, show_absolute = True, show_normed = True )\n",
        "plt.xlabel('Predictions', fontsize=15)\n",
        "plt.ylabel('Actuals', fontsize=15)\n",
        "plt.show()"
      ],
      "execution_count": null,
      "outputs": [
        {
          "output_type": "display_data",
          "data": {
            "text/plain": [
              "<Figure size 432x288 with 0 Axes>"
            ]
          },
          "metadata": {
            "tags": []
          }
        },
        {
          "output_type": "display_data",
          "data": {
            "image/png": "[encoded data removed]",
            "text/plain": [
              "<Figure size 288x288 with 1 Axes>"
            ]
          },
          "metadata": {
            "tags": [],
            "needs_background": "light"
          }
        }
      ]
    },
    {
      "cell_type": "markdown",
      "metadata": {
        "id": "9BZzhyFKV6um"
      },
      "source": [
        "# **Random Forest**"
      ]
    },
    {
      "cell_type": "code",
      "metadata": {
        "id": "NWWXSEJlWAZ8"
      },
      "source": [
        "from sklearn.ensemble import RandomForestClassifier\n",
        "from sklearn.metrics import confusion_matrix\n",
        "\n",
        "def decision_tree_classification(X_train, Y_train, X_test, Y_test, desc):\n",
        "  #initilize model\n",
        "  random_forest = RandomForestClassifier(n_estimators=100)\n",
        "  #fits model\n",
        "  random_forest.fit(X_train,Y_train)\n",
        "  #predicts\n",
        "  y_pred = random_forest.predict(X_test)\n",
        "  #accuracy\n",
        "  acc = round(random_forest.score(X_test,Y_test) * 100, 2)\n",
        "  print('Accuracy using {}: {}'.format(desc, acc))\n",
        "\n",
        "  #calculates confusion matrix\n",
        "  cnf_matrix = confusion_matrix(Y_test, y_pred)\n",
        "\n",
        "  return cnf_matrix, acc"
      ],
      "execution_count": null,
      "outputs": []
    },
    {
      "cell_type": "code",
      "metadata": {
        "colab": {
          "base_uri": "https://localhost:8080/"
        },
        "id": "hcnooA29WKhg",
        "outputId": "c56d577e-19b1-4960-ba38-cadcdea7edf7"
      },
      "source": [
        "cnf_bigram_rf, acc_bigram_rf = decision_tree_classification(X_train_bigram, Y_train_ngram, X_test_bigram, Y_test_ngram, 'bigram')\n",
        "cnf_trigram_rf, acc_trigram_rf  = decision_tree_classification(X_train_trigram, Y_train_ngram, X_test_trigram, Y_test_ngram, 'trigram')\n",
        "cnf_tfidf_rf, acc_tfidf_rf  = decision_tree_classification(X_train_tfidf, Y_train_ngram, X_test_tfidf, Y_test_ngram, 'tfidf')"
      ],
      "execution_count": null,
      "outputs": [
        {
          "output_type": "stream",
          "text": [
            "Accuracy using bigram: 78.69\n",
            "Accuracy using trigram: 74.3\n",
            "Accuracy using tfidf: 85.71\n"
          ],
          "name": "stdout"
        }
      ]
    },
    {
      "cell_type": "code",
      "metadata": {
        "colab": {
          "base_uri": "https://localhost:8080/"
        },
        "id": "KpiReDNoWWfn",
        "outputId": "f2e2110d-c076-4983-e982-f773ca409c4f"
      },
      "source": [
        "from sklearn.metrics import confusion_matrix\n",
        "import matplotlib.pyplot as plt\n",
        "from mlxtend.plotting import plot_confusion_matrix\n",
        "\n",
        "#choose one of the three confusion matrix to graph\n",
        "cnf_matrix = cnf_tfidf_rf\n",
        "\n",
        "# graph confusion matrix\n",
        "labels = ['Negative', 'Positive']\n",
        "plt.figure()\n",
        "plot_confusion_matrix(conf_mat = cnf_matrix, figsize = (4,4), class_names = labels, show_absolute = True, show_normed = True )\n",
        "plt.xlabel('Predictions', fontsize=15)\n",
        "plt.ylabel('Actuals', fontsize=15)\n",
        "plt.show()"
      ],
      "execution_count": null,
      "outputs": [
        {
          "output_type": "display_data",
          "data": {
            "text/plain": [
              "<Figure size 432x288 with 0 Axes>"
            ]
          },
          "metadata": {
            "tags": []
          }
        },
        {
          "output_type": "display_data",
          "data": {
            "image/png": "[encoded data removed]",
            "text/plain": [
              "<Figure size 288x288 with 1 Axes>"
            ]
          },
          "metadata": {
            "tags": [],
            "needs_background": "light"
          }
        }
      ]
    },
    {
      "cell_type": "markdown",
      "metadata": {
        "id": "_Dbt9iZNkqQV"
      },
      "source": [
        "# **Stochastic Gradient Decent**"
      ]
    },
    {
      "cell_type": "code",
      "metadata": {
        "id": "rySEvOmlkxG5"
      },
      "source": [
        "from sklearn.linear_model import SGDClassifier\n",
        "\n",
        "def SGD_classification(X_train, Y_train, X_test, Y_test, desc):\n",
        "  #initilize model\n",
        "  sgd = SGDClassifier(max_iter=1000)\n",
        "  #fits model\n",
        "  sgd.fit(X_train,Y_train)\n",
        "  #predicts\n",
        "  y_pred = sgd.predict(X_test)\n",
        "  #accuracy\n",
        "  acc = round(sgd.score(X_test,Y_test) * 100, 2)\n",
        "  print('Accuracy using {}: {}'.format(desc, acc))\n",
        "\n",
        "  #calculates confusion matrix\n",
        "  cnf_matrix = confusion_matrix(Y_test, y_pred)\n",
        "\n",
        "  return cnf_matrix, acc"
      ],
      "execution_count": null,
      "outputs": []
    },
    {
      "cell_type": "code",
      "metadata": {
        "colab": {
          "base_uri": "https://localhost:8080/"
        },
        "id": "-_O-wqGHlENn",
        "outputId": "3e69c9fe-acf4-4090-ca14-1159d4638b4a"
      },
      "source": [
        "cnf_bigram_sgd, acc_bigram_sgd = SGD_classification(X_train_bigram, Y_train_ngram, X_test_bigram, Y_test_ngram, 'bigram')\n",
        "cnf_trigram_sgd, acc_trigram_sgd  = SGD_classification(X_train_trigram, Y_train_ngram, X_test_trigram, Y_test_ngram, 'trigram')\n",
        "cnf_tfidf_sgd, acc_tfidf_sgd  = SGD_classification(X_train_tfidf, Y_train_ngram, X_test_tfidf, Y_test_ngram, 'tfidf')"
      ],
      "execution_count": null,
      "outputs": [
        {
          "output_type": "stream",
          "text": [
            "Accuracy using bigram: 79.29\n",
            "Accuracy using trigram: 74.56\n",
            "Accuracy using tfidf: 84.12\n"
          ],
          "name": "stdout"
        }
      ]
    },
    {
      "cell_type": "code",
      "metadata": {
        "colab": {
          "base_uri": "https://localhost:8080/",
          "height": 330
        },
        "id": "PxzJeQkylW_f",
        "outputId": "0e7a168c-a2bc-4319-95c8-d424631f987f"
      },
      "source": [
        "from sklearn.metrics import confusion_matrix\n",
        "import matplotlib.pyplot as plt\n",
        "from mlxtend.plotting import plot_confusion_matrix\n",
        "\n",
        "#choose one of the three confusion matrix to graph\n",
        "cnf_matrix = cnf_tfidf_sgd\n",
        "\n",
        "# graph confusion matrix\n",
        "labels = ['Negative', 'Positive']\n",
        "plt.figure()\n",
        "plot_confusion_matrix(conf_mat = cnf_matrix, figsize = (4,4), class_names = labels, show_absolute = True, show_normed = True )\n",
        "plt.xlabel('Predictions', fontsize=15)\n",
        "plt.ylabel('Actuals', fontsize=15)\n",
        "plt.show()"
      ],
      "execution_count": null,
      "outputs": [
        {
          "output_type": "display_data",
          "data": {
            "text/plain": [
              "<Figure size 432x288 with 0 Axes>"
            ]
          },
          "metadata": {
            "tags": []
          }
        },
        {
          "output_type": "display_data",
          "data": {
            "image/png": "[encoded data removed]",
            "text/plain": [
              "<Figure size 288x288 with 1 Axes>"
            ]
          },
          "metadata": {
            "tags": [],
            "needs_background": "light"
          }
        }
      ]
    },
    {
      "cell_type": "markdown",
      "metadata": {
        "id": "abSXmhuXoHXn"
      },
      "source": [
        "# **Comparación**\n",
        "Se puede ver que la configuración con tf-idf performa mejor que con bigramas o trigramas para todos los modelos, llegando a resultados muy similares que utilizando una red neuronal LSTM"
      ]
    },
    {
      "cell_type": "code",
      "metadata": {
        "colab": {
          "base_uri": "https://localhost:8080/",
          "height": 172
        },
        "id": "m9MpS73eoOEJ",
        "outputId": "74514f1a-9b58-41de-eb35-86f61dd5e9b7"
      },
      "source": [
        "models = pd.DataFrame({'Model': ['KNN', 'Decision Tree', 'Random Forest','Stochastic Gradient Decent'],\n",
        "                      'Accuracy bigram': [acc_bigram_knn, acc_bigram_dt, acc_bigram_rf, acc_bigram_sgd],\n",
        "                      'Accuracy trigram': [acc_trigram_knn, acc_trigram_dt, acc_trigram_rf, acc_trigram_sgd],\n",
        "                      'Accuracy tf-idf': [acc_tfidf_knn, acc_tfidf_dt, acc_tfidf_rf, acc_tfidf_sgd]\n",
        "                      })\n",
        "models.sort_values(by='Accuracy tf-idf', ascending=False)"
      ],
      "execution_count": null,
      "outputs": [
        {
          "output_type": "execute_result",
          "data": {
            "text/html": [
              "<div>\n",
              "<style scoped>\n",
              "    .dataframe tbody tr th:only-of-type {\n",
              "        vertical-align: middle;\n",
              "    }\n",
              "\n",
              "    .dataframe tbody tr th {\n",
              "        vertical-align: top;\n",
              "    }\n",
              "\n",
              "    .dataframe thead th {\n",
              "        text-align: right;\n",
              "    }\n",
              "</style>\n",
              "<table border=\"1\" class=\"dataframe\">\n",
              "  <thead>\n",
              "    <tr style=\"text-align: right;\">\n",
              "      <th></th>\n",
              "      <th>Model</th>\n",
              "      <th>Accuracy bigram</th>\n",
              "      <th>Accuracy trigram</th>\n",
              "      <th>Accuracy tf-idf</th>\n",
              "    </tr>\n",
              "  </thead>\n",
              "  <tbody>\n",
              "    <tr>\n",
              "      <th>2</th>\n",
              "      <td>Random Forest</td>\n",
              "      <td>78.69</td>\n",
              "      <td>74.30</td>\n",
              "      <td>85.71</td>\n",
              "    </tr>\n",
              "    <tr>\n",
              "      <th>3</th>\n",
              "      <td>Stochastic Gradient Decent</td>\n",
              "      <td>79.29</td>\n",
              "      <td>74.56</td>\n",
              "      <td>84.12</td>\n",
              "    </tr>\n",
              "    <tr>\n",
              "      <th>1</th>\n",
              "      <td>Decision Tree</td>\n",
              "      <td>78.39</td>\n",
              "      <td>74.34</td>\n",
              "      <td>82.26</td>\n",
              "    </tr>\n",
              "    <tr>\n",
              "      <th>0</th>\n",
              "      <td>KNN</td>\n",
              "      <td>65.43</td>\n",
              "      <td>58.98</td>\n",
              "      <td>64.31</td>\n",
              "    </tr>\n",
              "  </tbody>\n",
              "</table>\n",
              "</div>"
            ],
            "text/plain": [
              "                        Model  ...  Accuracy tf-idf\n",
              "2               Random Forest  ...            85.71\n",
              "3  Stochastic Gradient Decent  ...            84.12\n",
              "1               Decision Tree  ...            82.26\n",
              "0                         KNN  ...            64.31\n",
              "\n",
              "[4 rows x 4 columns]"
            ]
          },
          "metadata": {
            "tags": []
          },
          "execution_count": 52
        }
      ]
    }
  ]
}